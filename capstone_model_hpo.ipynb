{
 "cells": [
  {
   "cell_type": "markdown",
   "metadata": {},
   "source": [
    "# Capstone Model Development with AWS Sagemaker Built-in Algorithms: Model HPO"
   ]
  },
  {
   "cell_type": "markdown",
   "metadata": {},
   "source": [
    "1. Notebook should be using a `ml.t3.medium` instance (2 vCPU + 4 GiB)\n",
    "2. Notebook should be using kernal: `Python 3 (MXNet 1.8 Python 3.7 CPU Optimized)`"
   ]
  },
  {
   "cell_type": "markdown",
   "metadata": {},
   "source": [
    "### Install packages"
   ]
  },
  {
   "cell_type": "code",
   "execution_count": 2,
   "metadata": {
    "tags": []
   },
   "outputs": [
    {
     "name": "stdout",
     "output_type": "stream",
     "text": [
      "\u001b[31mERROR: pip's dependency resolver does not currently take into account all the packages that are installed. This behaviour is the source of the following dependency conflicts.\n",
      "pytest-astropy 0.8.0 requires pytest-cov>=2.0, which is not installed.\n",
      "pytest-astropy 0.8.0 requires pytest-filter-subpackage>=0.1, which is not installed.\n",
      "sparkmagic 0.20.4 requires nest-asyncio==1.5.5, but you have nest-asyncio 1.5.6 which is incompatible.\n",
      "awscli 1.27.96 requires rsa<4.8,>=3.1.2, but you have rsa 4.9 which is incompatible.\u001b[0m\u001b[31m\n",
      "\u001b[0m\u001b[33mWARNING: Running pip as the 'root' user can result in broken permissions and conflicting behaviour with the system package manager. It is recommended to use a virtual environment instead: https://pip.pypa.io/warnings/venv\u001b[0m\u001b[33m\n",
      "\u001b[0m"
     ]
    }
   ],
   "source": [
    "!pip install sagemaker ipywidgets --upgrade --quiet"
   ]
  },
  {
   "cell_type": "code",
   "execution_count": 3,
   "metadata": {
    "collapsed": true,
    "jupyter": {
     "outputs_hidden": true
    },
    "tags": []
   },
   "outputs": [
    {
     "name": "stdout",
     "output_type": "stream",
     "text": [
      "Requirement already satisfied: bokeh in /opt/conda/lib/python3.7/site-packages (1.4.0)\n",
      "Requirement already satisfied: packaging>=16.8 in /opt/conda/lib/python3.7/site-packages (from bokeh) (20.1)\n",
      "Requirement already satisfied: six>=1.5.2 in /opt/conda/lib/python3.7/site-packages (from bokeh) (1.14.0)\n",
      "Requirement already satisfied: tornado>=4.3 in /opt/conda/lib/python3.7/site-packages (from bokeh) (6.2)\n",
      "Requirement already satisfied: PyYAML>=3.10 in /opt/conda/lib/python3.7/site-packages (from bokeh) (5.4.1)\n",
      "Requirement already satisfied: Jinja2>=2.7 in /opt/conda/lib/python3.7/site-packages (from bokeh) (3.1.2)\n",
      "Requirement already satisfied: numpy>=1.7.1 in /opt/conda/lib/python3.7/site-packages (from bokeh) (1.21.6)\n",
      "Requirement already satisfied: pillow>=4.0 in /opt/conda/lib/python3.7/site-packages (from bokeh) (9.4.0)\n",
      "Requirement already satisfied: python-dateutil>=2.1 in /opt/conda/lib/python3.7/site-packages (from bokeh) (2.8.2)\n",
      "Requirement already satisfied: MarkupSafe>=2.0 in /opt/conda/lib/python3.7/site-packages (from Jinja2>=2.7->bokeh) (2.1.2)\n",
      "Requirement already satisfied: pyparsing>=2.0.2 in /opt/conda/lib/python3.7/site-packages (from packaging>=16.8->bokeh) (2.4.6)\n",
      "\u001b[33mWARNING: Running pip as the 'root' user can result in broken permissions and conflicting behaviour with the system package manager. It is recommended to use a virtual environment instead: https://pip.pypa.io/warnings/venv\u001b[0m\u001b[33m\n",
      "\u001b[0m"
     ]
    }
   ],
   "source": [
    "!pip install bokeh"
   ]
  },
  {
   "cell_type": "code",
   "execution_count": 4,
   "metadata": {
    "tags": []
   },
   "outputs": [],
   "source": [
    "import bokeh"
   ]
  },
  {
   "cell_type": "code",
   "execution_count": 5,
   "metadata": {},
   "outputs": [],
   "source": [
    "import sagemaker, boto3, json\n",
    "from sagemaker import get_execution_role\n",
    "\n",
    "aws_role = get_execution_role()\n",
    "aws_region = boto3.Session().region_name\n",
    "sess = sagemaker.Session()"
   ]
  },
  {
   "cell_type": "code",
   "execution_count": 6,
   "metadata": {
    "tags": []
   },
   "outputs": [],
   "source": [
    "import pandas as pd"
   ]
  },
  {
   "cell_type": "code",
   "execution_count": 14,
   "metadata": {},
   "outputs": [
    {
     "data": {
      "text/html": [
       "<div>\n",
       "<style scoped>\n",
       "    .dataframe tbody tr th:only-of-type {\n",
       "        vertical-align: middle;\n",
       "    }\n",
       "\n",
       "    .dataframe tbody tr th {\n",
       "        vertical-align: top;\n",
       "    }\n",
       "\n",
       "    .dataframe thead th {\n",
       "        text-align: right;\n",
       "    }\n",
       "</style>\n",
       "<table border=\"1\" class=\"dataframe\">\n",
       "  <thead>\n",
       "    <tr style=\"text-align: right;\">\n",
       "      <th></th>\n",
       "      <th>Unnamed: 0</th>\n",
       "      <th>age_upon_outcome</th>\n",
       "      <th>animal_id_outcome</th>\n",
       "      <th>date_of_birth</th>\n",
       "      <th>outcome_type</th>\n",
       "      <th>sex_upon_outcome</th>\n",
       "      <th>age_upon_outcome_(days)</th>\n",
       "      <th>age_upon_outcome_(years)</th>\n",
       "      <th>age_upon_outcome_age_group</th>\n",
       "      <th>outcome_datetime</th>\n",
       "      <th>...</th>\n",
       "      <th>age_upon_intake_(days)</th>\n",
       "      <th>age_upon_intake_(years)</th>\n",
       "      <th>age_upon_intake_age_group</th>\n",
       "      <th>intake_datetime</th>\n",
       "      <th>intake_month</th>\n",
       "      <th>intake_year</th>\n",
       "      <th>intake_weekday</th>\n",
       "      <th>intake_hour</th>\n",
       "      <th>intake_number</th>\n",
       "      <th>time_in_shelter_days</th>\n",
       "    </tr>\n",
       "  </thead>\n",
       "  <tbody>\n",
       "    <tr>\n",
       "      <th>0</th>\n",
       "      <td>0</td>\n",
       "      <td>10 years</td>\n",
       "      <td>A006100</td>\n",
       "      <td>2007-07-09 00:00:00</td>\n",
       "      <td>Not Adopted</td>\n",
       "      <td>Neutered Male</td>\n",
       "      <td>3650</td>\n",
       "      <td>10.0</td>\n",
       "      <td>(7.5, 10.0]</td>\n",
       "      <td>2017-12-07 14:07:00</td>\n",
       "      <td>...</td>\n",
       "      <td>3650</td>\n",
       "      <td>10.0</td>\n",
       "      <td>(7.5, 10.0]</td>\n",
       "      <td>2017-12-07 00:00:00</td>\n",
       "      <td>12</td>\n",
       "      <td>2017</td>\n",
       "      <td>Thursday</td>\n",
       "      <td>14</td>\n",
       "      <td>1.0</td>\n",
       "      <td>0.588194</td>\n",
       "    </tr>\n",
       "    <tr>\n",
       "      <th>1</th>\n",
       "      <td>1</td>\n",
       "      <td>7 years</td>\n",
       "      <td>A006100</td>\n",
       "      <td>2007-07-09 00:00:00</td>\n",
       "      <td>Not Adopted</td>\n",
       "      <td>Neutered Male</td>\n",
       "      <td>2555</td>\n",
       "      <td>7.0</td>\n",
       "      <td>(5.0, 7.5]</td>\n",
       "      <td>2014-12-20 16:35:00</td>\n",
       "      <td>...</td>\n",
       "      <td>2555</td>\n",
       "      <td>7.0</td>\n",
       "      <td>(5.0, 7.5]</td>\n",
       "      <td>2014-12-19 10:21:00</td>\n",
       "      <td>12</td>\n",
       "      <td>2014</td>\n",
       "      <td>Friday</td>\n",
       "      <td>10</td>\n",
       "      <td>2.0</td>\n",
       "      <td>1.259722</td>\n",
       "    </tr>\n",
       "    <tr>\n",
       "      <th>2</th>\n",
       "      <td>2</td>\n",
       "      <td>6 years</td>\n",
       "      <td>A006100</td>\n",
       "      <td>2007-07-09 00:00:00</td>\n",
       "      <td>Not Adopted</td>\n",
       "      <td>Neutered Male</td>\n",
       "      <td>2190</td>\n",
       "      <td>6.0</td>\n",
       "      <td>(5.0, 7.5]</td>\n",
       "      <td>2014-03-08 17:10:00</td>\n",
       "      <td>...</td>\n",
       "      <td>2190</td>\n",
       "      <td>6.0</td>\n",
       "      <td>(5.0, 7.5]</td>\n",
       "      <td>2014-03-07 14:26:00</td>\n",
       "      <td>3</td>\n",
       "      <td>2014</td>\n",
       "      <td>Friday</td>\n",
       "      <td>14</td>\n",
       "      <td>3.0</td>\n",
       "      <td>1.113889</td>\n",
       "    </tr>\n",
       "    <tr>\n",
       "      <th>3</th>\n",
       "      <td>3</td>\n",
       "      <td>10 years</td>\n",
       "      <td>A047759</td>\n",
       "      <td>2004-04-02 00:00:00</td>\n",
       "      <td>Not Adopted</td>\n",
       "      <td>Neutered Male</td>\n",
       "      <td>3650</td>\n",
       "      <td>10.0</td>\n",
       "      <td>(7.5, 10.0]</td>\n",
       "      <td>2014-04-07 15:12:00</td>\n",
       "      <td>...</td>\n",
       "      <td>3650</td>\n",
       "      <td>10.0</td>\n",
       "      <td>(7.5, 10.0]</td>\n",
       "      <td>2014-04-02 15:55:00</td>\n",
       "      <td>4</td>\n",
       "      <td>2014</td>\n",
       "      <td>Wednesday</td>\n",
       "      <td>15</td>\n",
       "      <td>1.0</td>\n",
       "      <td>4.970139</td>\n",
       "    </tr>\n",
       "    <tr>\n",
       "      <th>4</th>\n",
       "      <td>4</td>\n",
       "      <td>16 years</td>\n",
       "      <td>A134067</td>\n",
       "      <td>1997-10-16 00:00:00</td>\n",
       "      <td>Not Adopted</td>\n",
       "      <td>Neutered Male</td>\n",
       "      <td>5840</td>\n",
       "      <td>16.0</td>\n",
       "      <td>(15.0, 17.5]</td>\n",
       "      <td>2013-11-16 11:54:00</td>\n",
       "      <td>...</td>\n",
       "      <td>5840</td>\n",
       "      <td>16.0</td>\n",
       "      <td>(15.0, 17.5]</td>\n",
       "      <td>2013-11-16 09:02:00</td>\n",
       "      <td>11</td>\n",
       "      <td>2013</td>\n",
       "      <td>Saturday</td>\n",
       "      <td>9</td>\n",
       "      <td>1.0</td>\n",
       "      <td>0.119444</td>\n",
       "    </tr>\n",
       "  </tbody>\n",
       "</table>\n",
       "<p>5 rows × 36 columns</p>\n",
       "</div>"
      ],
      "text/plain": [
       "   Unnamed: 0 age_upon_outcome animal_id_outcome        date_of_birth  \\\n",
       "0           0         10 years           A006100  2007-07-09 00:00:00   \n",
       "1           1          7 years           A006100  2007-07-09 00:00:00   \n",
       "2           2          6 years           A006100  2007-07-09 00:00:00   \n",
       "3           3         10 years           A047759  2004-04-02 00:00:00   \n",
       "4           4         16 years           A134067  1997-10-16 00:00:00   \n",
       "\n",
       "  outcome_type sex_upon_outcome  age_upon_outcome_(days)  \\\n",
       "0  Not Adopted    Neutered Male                     3650   \n",
       "1  Not Adopted    Neutered Male                     2555   \n",
       "2  Not Adopted    Neutered Male                     2190   \n",
       "3  Not Adopted    Neutered Male                     3650   \n",
       "4  Not Adopted    Neutered Male                     5840   \n",
       "\n",
       "   age_upon_outcome_(years) age_upon_outcome_age_group     outcome_datetime  \\\n",
       "0                      10.0                (7.5, 10.0]  2017-12-07 14:07:00   \n",
       "1                       7.0                 (5.0, 7.5]  2014-12-20 16:35:00   \n",
       "2                       6.0                 (5.0, 7.5]  2014-03-08 17:10:00   \n",
       "3                      10.0                (7.5, 10.0]  2014-04-07 15:12:00   \n",
       "4                      16.0               (15.0, 17.5]  2013-11-16 11:54:00   \n",
       "\n",
       "   ...  age_upon_intake_(days)  age_upon_intake_(years)  \\\n",
       "0  ...                    3650                     10.0   \n",
       "1  ...                    2555                      7.0   \n",
       "2  ...                    2190                      6.0   \n",
       "3  ...                    3650                     10.0   \n",
       "4  ...                    5840                     16.0   \n",
       "\n",
       "  age_upon_intake_age_group      intake_datetime  intake_month  intake_year  \\\n",
       "0               (7.5, 10.0]  2017-12-07 00:00:00            12         2017   \n",
       "1                (5.0, 7.5]  2014-12-19 10:21:00            12         2014   \n",
       "2                (5.0, 7.5]  2014-03-07 14:26:00             3         2014   \n",
       "3               (7.5, 10.0]  2014-04-02 15:55:00             4         2014   \n",
       "4              (15.0, 17.5]  2013-11-16 09:02:00            11         2013   \n",
       "\n",
       "   intake_weekday intake_hour intake_number time_in_shelter_days  \n",
       "0        Thursday          14           1.0             0.588194  \n",
       "1          Friday          10           2.0             1.259722  \n",
       "2          Friday          14           3.0             1.113889  \n",
       "3       Wednesday          15           1.0             4.970139  \n",
       "4        Saturday           9           1.0             0.119444  \n",
       "\n",
       "[5 rows x 36 columns]"
      ]
     },
     "execution_count": 14,
     "metadata": {},
     "output_type": "execute_result"
    }
   ],
   "source": [
    "# Create the train dataset in pandas by reading the csv\n",
    "# Set the parsing of the datetime column so you can use some of the `dt` features in pandas later\n",
    "local_data_path = \"cleaned.csv\"\n",
    "dataset = pd.read_csv(local_data_path)\n",
    "dataset.head()"
   ]
  },
  {
   "cell_type": "code",
   "execution_count": 15,
   "metadata": {},
   "outputs": [],
   "source": [
    "dataset.dropna(inplace=True)"
   ]
  },
  {
   "cell_type": "code",
   "execution_count": 16,
   "metadata": {},
   "outputs": [],
   "source": [
    "temp_cols= dataset.columns.tolist()\n",
    "index= dataset.columns.get_loc(\"outcome_type\")"
   ]
  },
  {
   "cell_type": "code",
   "execution_count": 17,
   "metadata": {},
   "outputs": [],
   "source": [
    "new_cols= temp_cols[index:index+1] + temp_cols[0:index] + temp_cols[index+1:]"
   ]
  },
  {
   "cell_type": "code",
   "execution_count": 18,
   "metadata": {},
   "outputs": [],
   "source": [
    "dataset=dataset[new_cols]"
   ]
  },
  {
   "cell_type": "code",
   "execution_count": 19,
   "metadata": {},
   "outputs": [
    {
     "data": {
      "text/html": [
       "<div>\n",
       "<style scoped>\n",
       "    .dataframe tbody tr th:only-of-type {\n",
       "        vertical-align: middle;\n",
       "    }\n",
       "\n",
       "    .dataframe tbody tr th {\n",
       "        vertical-align: top;\n",
       "    }\n",
       "\n",
       "    .dataframe thead th {\n",
       "        text-align: right;\n",
       "    }\n",
       "</style>\n",
       "<table border=\"1\" class=\"dataframe\">\n",
       "  <thead>\n",
       "    <tr style=\"text-align: right;\">\n",
       "      <th></th>\n",
       "      <th>outcome_type</th>\n",
       "      <th>Unnamed: 0</th>\n",
       "      <th>age_upon_outcome</th>\n",
       "      <th>animal_id_outcome</th>\n",
       "      <th>date_of_birth</th>\n",
       "      <th>sex_upon_outcome</th>\n",
       "      <th>age_upon_outcome_(days)</th>\n",
       "      <th>age_upon_outcome_(years)</th>\n",
       "      <th>age_upon_outcome_age_group</th>\n",
       "      <th>outcome_datetime</th>\n",
       "      <th>...</th>\n",
       "      <th>age_upon_intake_(days)</th>\n",
       "      <th>age_upon_intake_(years)</th>\n",
       "      <th>age_upon_intake_age_group</th>\n",
       "      <th>intake_datetime</th>\n",
       "      <th>intake_month</th>\n",
       "      <th>intake_year</th>\n",
       "      <th>intake_weekday</th>\n",
       "      <th>intake_hour</th>\n",
       "      <th>intake_number</th>\n",
       "      <th>time_in_shelter_days</th>\n",
       "    </tr>\n",
       "  </thead>\n",
       "  <tbody>\n",
       "    <tr>\n",
       "      <th>0</th>\n",
       "      <td>Not Adopted</td>\n",
       "      <td>0</td>\n",
       "      <td>10 years</td>\n",
       "      <td>A006100</td>\n",
       "      <td>2007-07-09 00:00:00</td>\n",
       "      <td>Neutered Male</td>\n",
       "      <td>3650</td>\n",
       "      <td>10.0</td>\n",
       "      <td>(7.5, 10.0]</td>\n",
       "      <td>2017-12-07 14:07:00</td>\n",
       "      <td>...</td>\n",
       "      <td>3650</td>\n",
       "      <td>10.0</td>\n",
       "      <td>(7.5, 10.0]</td>\n",
       "      <td>2017-12-07 00:00:00</td>\n",
       "      <td>12</td>\n",
       "      <td>2017</td>\n",
       "      <td>Thursday</td>\n",
       "      <td>14</td>\n",
       "      <td>1.0</td>\n",
       "      <td>0.588194</td>\n",
       "    </tr>\n",
       "    <tr>\n",
       "      <th>1</th>\n",
       "      <td>Not Adopted</td>\n",
       "      <td>1</td>\n",
       "      <td>7 years</td>\n",
       "      <td>A006100</td>\n",
       "      <td>2007-07-09 00:00:00</td>\n",
       "      <td>Neutered Male</td>\n",
       "      <td>2555</td>\n",
       "      <td>7.0</td>\n",
       "      <td>(5.0, 7.5]</td>\n",
       "      <td>2014-12-20 16:35:00</td>\n",
       "      <td>...</td>\n",
       "      <td>2555</td>\n",
       "      <td>7.0</td>\n",
       "      <td>(5.0, 7.5]</td>\n",
       "      <td>2014-12-19 10:21:00</td>\n",
       "      <td>12</td>\n",
       "      <td>2014</td>\n",
       "      <td>Friday</td>\n",
       "      <td>10</td>\n",
       "      <td>2.0</td>\n",
       "      <td>1.259722</td>\n",
       "    </tr>\n",
       "    <tr>\n",
       "      <th>2</th>\n",
       "      <td>Not Adopted</td>\n",
       "      <td>2</td>\n",
       "      <td>6 years</td>\n",
       "      <td>A006100</td>\n",
       "      <td>2007-07-09 00:00:00</td>\n",
       "      <td>Neutered Male</td>\n",
       "      <td>2190</td>\n",
       "      <td>6.0</td>\n",
       "      <td>(5.0, 7.5]</td>\n",
       "      <td>2014-03-08 17:10:00</td>\n",
       "      <td>...</td>\n",
       "      <td>2190</td>\n",
       "      <td>6.0</td>\n",
       "      <td>(5.0, 7.5]</td>\n",
       "      <td>2014-03-07 14:26:00</td>\n",
       "      <td>3</td>\n",
       "      <td>2014</td>\n",
       "      <td>Friday</td>\n",
       "      <td>14</td>\n",
       "      <td>3.0</td>\n",
       "      <td>1.113889</td>\n",
       "    </tr>\n",
       "    <tr>\n",
       "      <th>3</th>\n",
       "      <td>Not Adopted</td>\n",
       "      <td>3</td>\n",
       "      <td>10 years</td>\n",
       "      <td>A047759</td>\n",
       "      <td>2004-04-02 00:00:00</td>\n",
       "      <td>Neutered Male</td>\n",
       "      <td>3650</td>\n",
       "      <td>10.0</td>\n",
       "      <td>(7.5, 10.0]</td>\n",
       "      <td>2014-04-07 15:12:00</td>\n",
       "      <td>...</td>\n",
       "      <td>3650</td>\n",
       "      <td>10.0</td>\n",
       "      <td>(7.5, 10.0]</td>\n",
       "      <td>2014-04-02 15:55:00</td>\n",
       "      <td>4</td>\n",
       "      <td>2014</td>\n",
       "      <td>Wednesday</td>\n",
       "      <td>15</td>\n",
       "      <td>1.0</td>\n",
       "      <td>4.970139</td>\n",
       "    </tr>\n",
       "    <tr>\n",
       "      <th>4</th>\n",
       "      <td>Not Adopted</td>\n",
       "      <td>4</td>\n",
       "      <td>16 years</td>\n",
       "      <td>A134067</td>\n",
       "      <td>1997-10-16 00:00:00</td>\n",
       "      <td>Neutered Male</td>\n",
       "      <td>5840</td>\n",
       "      <td>16.0</td>\n",
       "      <td>(15.0, 17.5]</td>\n",
       "      <td>2013-11-16 11:54:00</td>\n",
       "      <td>...</td>\n",
       "      <td>5840</td>\n",
       "      <td>16.0</td>\n",
       "      <td>(15.0, 17.5]</td>\n",
       "      <td>2013-11-16 09:02:00</td>\n",
       "      <td>11</td>\n",
       "      <td>2013</td>\n",
       "      <td>Saturday</td>\n",
       "      <td>9</td>\n",
       "      <td>1.0</td>\n",
       "      <td>0.119444</td>\n",
       "    </tr>\n",
       "  </tbody>\n",
       "</table>\n",
       "<p>5 rows × 36 columns</p>\n",
       "</div>"
      ],
      "text/plain": [
       "  outcome_type  Unnamed: 0 age_upon_outcome animal_id_outcome  \\\n",
       "0  Not Adopted           0         10 years           A006100   \n",
       "1  Not Adopted           1          7 years           A006100   \n",
       "2  Not Adopted           2          6 years           A006100   \n",
       "3  Not Adopted           3         10 years           A047759   \n",
       "4  Not Adopted           4         16 years           A134067   \n",
       "\n",
       "         date_of_birth sex_upon_outcome  age_upon_outcome_(days)  \\\n",
       "0  2007-07-09 00:00:00    Neutered Male                     3650   \n",
       "1  2007-07-09 00:00:00    Neutered Male                     2555   \n",
       "2  2007-07-09 00:00:00    Neutered Male                     2190   \n",
       "3  2004-04-02 00:00:00    Neutered Male                     3650   \n",
       "4  1997-10-16 00:00:00    Neutered Male                     5840   \n",
       "\n",
       "   age_upon_outcome_(years) age_upon_outcome_age_group     outcome_datetime  \\\n",
       "0                      10.0                (7.5, 10.0]  2017-12-07 14:07:00   \n",
       "1                       7.0                 (5.0, 7.5]  2014-12-20 16:35:00   \n",
       "2                       6.0                 (5.0, 7.5]  2014-03-08 17:10:00   \n",
       "3                      10.0                (7.5, 10.0]  2014-04-07 15:12:00   \n",
       "4                      16.0               (15.0, 17.5]  2013-11-16 11:54:00   \n",
       "\n",
       "   ...  age_upon_intake_(days)  age_upon_intake_(years)  \\\n",
       "0  ...                    3650                     10.0   \n",
       "1  ...                    2555                      7.0   \n",
       "2  ...                    2190                      6.0   \n",
       "3  ...                    3650                     10.0   \n",
       "4  ...                    5840                     16.0   \n",
       "\n",
       "  age_upon_intake_age_group      intake_datetime  intake_month  intake_year  \\\n",
       "0               (7.5, 10.0]  2017-12-07 00:00:00            12         2017   \n",
       "1                (5.0, 7.5]  2014-12-19 10:21:00            12         2014   \n",
       "2                (5.0, 7.5]  2014-03-07 14:26:00             3         2014   \n",
       "3               (7.5, 10.0]  2014-04-02 15:55:00             4         2014   \n",
       "4              (15.0, 17.5]  2013-11-16 09:02:00            11         2013   \n",
       "\n",
       "   intake_weekday intake_hour intake_number time_in_shelter_days  \n",
       "0        Thursday          14           1.0             0.588194  \n",
       "1          Friday          10           2.0             1.259722  \n",
       "2          Friday          14           3.0             1.113889  \n",
       "3       Wednesday          15           1.0             4.970139  \n",
       "4        Saturday           9           1.0             0.119444  \n",
       "\n",
       "[5 rows x 36 columns]"
      ]
     },
     "execution_count": 19,
     "metadata": {},
     "output_type": "execute_result"
    }
   ],
   "source": [
    "dataset.head()"
   ]
  },
  {
   "cell_type": "code",
   "execution_count": 20,
   "metadata": {
    "tags": []
   },
   "outputs": [
    {
     "name": "stdout",
     "output_type": "stream",
     "text": [
      "<class 'pandas.core.frame.DataFrame'>\n",
      "Int64Index: 79661 entries, 0 to 79671\n",
      "Data columns (total 36 columns):\n",
      " #   Column                      Non-Null Count  Dtype  \n",
      "---  ------                      --------------  -----  \n",
      " 0   outcome_type                79661 non-null  object \n",
      " 1   Unnamed: 0                  79661 non-null  int64  \n",
      " 2   age_upon_outcome            79661 non-null  object \n",
      " 3   animal_id_outcome           79661 non-null  object \n",
      " 4   date_of_birth               79661 non-null  object \n",
      " 5   sex_upon_outcome            79661 non-null  object \n",
      " 6   age_upon_outcome_(days)     79661 non-null  int64  \n",
      " 7   age_upon_outcome_(years)    79661 non-null  float64\n",
      " 8   age_upon_outcome_age_group  79661 non-null  object \n",
      " 9   outcome_datetime            79661 non-null  object \n",
      " 10  outcome_month               79661 non-null  int64  \n",
      " 11  outcome_year                79661 non-null  int64  \n",
      " 12  outcome_weekday             79661 non-null  object \n",
      " 13  outcome_hour                79661 non-null  int64  \n",
      " 14  outcome_number              79661 non-null  float64\n",
      " 15  dob_year                    79661 non-null  int64  \n",
      " 16  dob_month                   79661 non-null  int64  \n",
      " 17  age_upon_intake             79661 non-null  object \n",
      " 18  animal_id_intake            79661 non-null  object \n",
      " 19  animal_type                 79661 non-null  object \n",
      " 20  breed                       79661 non-null  object \n",
      " 21  color                       79661 non-null  object \n",
      " 22  found_location              79661 non-null  object \n",
      " 23  intake_condition            79661 non-null  object \n",
      " 24  intake_type                 79661 non-null  object \n",
      " 25  sex_upon_intake             79661 non-null  object \n",
      " 26  age_upon_intake_(days)      79661 non-null  int64  \n",
      " 27  age_upon_intake_(years)     79661 non-null  float64\n",
      " 28  age_upon_intake_age_group   79661 non-null  object \n",
      " 29  intake_datetime             79661 non-null  object \n",
      " 30  intake_month                79661 non-null  int64  \n",
      " 31  intake_year                 79661 non-null  int64  \n",
      " 32  intake_weekday              79661 non-null  object \n",
      " 33  intake_hour                 79661 non-null  int64  \n",
      " 34  intake_number               79661 non-null  float64\n",
      " 35  time_in_shelter_days        79661 non-null  float64\n",
      "dtypes: float64(5), int64(11), object(20)\n",
      "memory usage: 22.5+ MB\n"
     ]
    }
   ],
   "source": [
    "dataset.info()"
   ]
  },
  {
   "cell_type": "code",
   "execution_count": 21,
   "metadata": {
    "tags": []
   },
   "outputs": [],
   "source": [
    "dataset.drop('Unnamed: 0', axis=1, inplace=True)\n",
    "dataset.drop('animal_id_outcome', axis=1, inplace=True)\n",
    "dataset.drop('age_upon_outcome_age_group', axis=1, inplace=True)\n",
    "dataset.drop('outcome_number', axis=1, inplace=True)"
   ]
  },
  {
   "cell_type": "code",
   "execution_count": 22,
   "metadata": {
    "tags": []
   },
   "outputs": [],
   "source": [
    "dataset.drop('animal_id_intake', axis=1, inplace=True)\n",
    "dataset.drop('age_upon_intake_age_group', axis=1, inplace=True)\n",
    "dataset.drop('intake_number', axis=1, inplace=True)"
   ]
  },
  {
   "cell_type": "code",
   "execution_count": 23,
   "metadata": {
    "tags": []
   },
   "outputs": [
    {
     "name": "stdout",
     "output_type": "stream",
     "text": [
      "<class 'pandas.core.frame.DataFrame'>\n",
      "Int64Index: 79661 entries, 0 to 79671\n",
      "Data columns (total 29 columns):\n",
      " #   Column                    Non-Null Count  Dtype  \n",
      "---  ------                    --------------  -----  \n",
      " 0   outcome_type              79661 non-null  object \n",
      " 1   age_upon_outcome          79661 non-null  object \n",
      " 2   date_of_birth             79661 non-null  object \n",
      " 3   sex_upon_outcome          79661 non-null  object \n",
      " 4   age_upon_outcome_(days)   79661 non-null  int64  \n",
      " 5   age_upon_outcome_(years)  79661 non-null  float64\n",
      " 6   outcome_datetime          79661 non-null  object \n",
      " 7   outcome_month             79661 non-null  int64  \n",
      " 8   outcome_year              79661 non-null  int64  \n",
      " 9   outcome_weekday           79661 non-null  object \n",
      " 10  outcome_hour              79661 non-null  int64  \n",
      " 11  dob_year                  79661 non-null  int64  \n",
      " 12  dob_month                 79661 non-null  int64  \n",
      " 13  age_upon_intake           79661 non-null  object \n",
      " 14  animal_type               79661 non-null  object \n",
      " 15  breed                     79661 non-null  object \n",
      " 16  color                     79661 non-null  object \n",
      " 17  found_location            79661 non-null  object \n",
      " 18  intake_condition          79661 non-null  object \n",
      " 19  intake_type               79661 non-null  object \n",
      " 20  sex_upon_intake           79661 non-null  object \n",
      " 21  age_upon_intake_(days)    79661 non-null  int64  \n",
      " 22  age_upon_intake_(years)   79661 non-null  float64\n",
      " 23  intake_datetime           79661 non-null  object \n",
      " 24  intake_month              79661 non-null  int64  \n",
      " 25  intake_year               79661 non-null  int64  \n",
      " 26  intake_weekday            79661 non-null  object \n",
      " 27  intake_hour               79661 non-null  int64  \n",
      " 28  time_in_shelter_days      79661 non-null  float64\n",
      "dtypes: float64(3), int64(10), object(16)\n",
      "memory usage: 18.2+ MB\n"
     ]
    }
   ],
   "source": [
    "dataset.info()"
   ]
  },
  {
   "cell_type": "code",
   "execution_count": 24,
   "metadata": {
    "tags": []
   },
   "outputs": [],
   "source": [
    "dataset['outcome_type'] = dataset['outcome_type'].astype('category')\n",
    "dataset['sex_upon_outcome'] = dataset['sex_upon_outcome'].astype('category')\n",
    "dataset['outcome_weekday'] = dataset['outcome_weekday'].astype('category')\n",
    "dataset['animal_type'] = dataset['animal_type'].astype('category')\n",
    "dataset['breed'] = dataset['breed'].astype('category')\n",
    "dataset['color'] = dataset['color'].astype('category')\n",
    "dataset['intake_condition'] = dataset['intake_condition'].astype('category')\n",
    "dataset['intake_type'] = dataset['intake_type'].astype('category')\n",
    "dataset['sex_upon_intake'] = dataset['sex_upon_intake'].astype('category')"
   ]
  },
  {
   "cell_type": "code",
   "execution_count": 25,
   "metadata": {
    "tags": []
   },
   "outputs": [
    {
     "name": "stdout",
     "output_type": "stream",
     "text": [
      "<class 'pandas.core.frame.DataFrame'>\n",
      "Int64Index: 79661 entries, 0 to 79671\n",
      "Data columns (total 29 columns):\n",
      " #   Column                    Non-Null Count  Dtype   \n",
      "---  ------                    --------------  -----   \n",
      " 0   outcome_type              79661 non-null  category\n",
      " 1   age_upon_outcome          79661 non-null  object  \n",
      " 2   date_of_birth             79661 non-null  object  \n",
      " 3   sex_upon_outcome          79661 non-null  category\n",
      " 4   age_upon_outcome_(days)   79661 non-null  int64   \n",
      " 5   age_upon_outcome_(years)  79661 non-null  float64 \n",
      " 6   outcome_datetime          79661 non-null  object  \n",
      " 7   outcome_month             79661 non-null  int64   \n",
      " 8   outcome_year              79661 non-null  int64   \n",
      " 9   outcome_weekday           79661 non-null  category\n",
      " 10  outcome_hour              79661 non-null  int64   \n",
      " 11  dob_year                  79661 non-null  int64   \n",
      " 12  dob_month                 79661 non-null  int64   \n",
      " 13  age_upon_intake           79661 non-null  object  \n",
      " 14  animal_type               79661 non-null  category\n",
      " 15  breed                     79661 non-null  category\n",
      " 16  color                     79661 non-null  category\n",
      " 17  found_location            79661 non-null  object  \n",
      " 18  intake_condition          79661 non-null  category\n",
      " 19  intake_type               79661 non-null  category\n",
      " 20  sex_upon_intake           79661 non-null  category\n",
      " 21  age_upon_intake_(days)    79661 non-null  int64   \n",
      " 22  age_upon_intake_(years)   79661 non-null  float64 \n",
      " 23  intake_datetime           79661 non-null  object  \n",
      " 24  intake_month              79661 non-null  int64   \n",
      " 25  intake_year               79661 non-null  int64   \n",
      " 26  intake_weekday            79661 non-null  object  \n",
      " 27  intake_hour               79661 non-null  int64   \n",
      " 28  time_in_shelter_days      79661 non-null  float64 \n",
      "dtypes: category(9), float64(3), int64(10), object(7)\n",
      "memory usage: 13.7+ MB\n"
     ]
    }
   ],
   "source": [
    "dataset.info()"
   ]
  },
  {
   "cell_type": "code",
   "execution_count": 26,
   "metadata": {
    "tags": []
   },
   "outputs": [],
   "source": [
    "dataset.drop('date_of_birth', axis=1, inplace=True)\n",
    "dataset.drop('age_upon_outcome_(days)', axis=1, inplace=True)\n",
    "dataset.drop('outcome_datetime', axis=1, inplace=True)\n",
    "dataset.drop('dob_year', axis=1, inplace=True)\n",
    "dataset.drop('dob_month', axis=1, inplace=True)\n",
    "dataset.drop('age_upon_intake_(days)', axis=1, inplace=True)\n",
    "dataset.drop('intake_datetime', axis=1, inplace=True)"
   ]
  },
  {
   "cell_type": "code",
   "execution_count": 27,
   "metadata": {
    "tags": []
   },
   "outputs": [],
   "source": [
    "dataset.drop('age_upon_outcome', axis=1, inplace=True)"
   ]
  },
  {
   "cell_type": "code",
   "execution_count": 28,
   "metadata": {
    "tags": []
   },
   "outputs": [],
   "source": [
    "dataset.drop('age_upon_intake', axis=1, inplace=True)"
   ]
  },
  {
   "cell_type": "code",
   "execution_count": 29,
   "metadata": {
    "tags": []
   },
   "outputs": [],
   "source": [
    "dataset.drop('time_in_shelter_days', axis=1, inplace=True)"
   ]
  },
  {
   "cell_type": "code",
   "execution_count": 30,
   "metadata": {
    "tags": []
   },
   "outputs": [],
   "source": [
    "dataset['found_location'] = dataset['found_location'].astype('category')\n",
    "dataset['intake_weekday'] = dataset['intake_weekday'].astype('category')"
   ]
  },
  {
   "cell_type": "code",
   "execution_count": 31,
   "metadata": {
    "tags": []
   },
   "outputs": [],
   "source": [
    "dataset['outcome_month'] = dataset['outcome_month'].astype('int32')\n",
    "dataset['outcome_year'] = dataset['outcome_year'].astype('int32')\n",
    "dataset['outcome_hour'] = dataset['outcome_hour'].astype('int32')\n",
    "dataset['intake_month'] = dataset['intake_month'].astype('int32')\n",
    "dataset['intake_year'] = dataset['intake_year'].astype('int32')\n",
    "dataset['intake_hour'] = dataset['intake_hour'].astype('int32')"
   ]
  },
  {
   "cell_type": "code",
   "execution_count": 33,
   "metadata": {
    "tags": []
   },
   "outputs": [],
   "source": [
    "dataset['age_upon_outcome_(years)'] = dataset['age_upon_outcome_(years)'].astype('float32')\n",
    "dataset['age_upon_intake_(years)'] = dataset['age_upon_intake_(years)'].astype('float32')"
   ]
  },
  {
   "cell_type": "code",
   "execution_count": 34,
   "metadata": {
    "tags": []
   },
   "outputs": [
    {
     "name": "stdout",
     "output_type": "stream",
     "text": [
      "<class 'pandas.core.frame.DataFrame'>\n",
      "Int64Index: 79661 entries, 0 to 79671\n",
      "Data columns (total 19 columns):\n",
      " #   Column                    Non-Null Count  Dtype   \n",
      "---  ------                    --------------  -----   \n",
      " 0   outcome_type              79661 non-null  category\n",
      " 1   sex_upon_outcome          79661 non-null  category\n",
      " 2   age_upon_outcome_(years)  79661 non-null  float32 \n",
      " 3   outcome_month             79661 non-null  int32   \n",
      " 4   outcome_year              79661 non-null  int32   \n",
      " 5   outcome_weekday           79661 non-null  category\n",
      " 6   outcome_hour              79661 non-null  int32   \n",
      " 7   animal_type               79661 non-null  category\n",
      " 8   breed                     79661 non-null  category\n",
      " 9   color                     79661 non-null  category\n",
      " 10  found_location            79661 non-null  category\n",
      " 11  intake_condition          79661 non-null  category\n",
      " 12  intake_type               79661 non-null  category\n",
      " 13  sex_upon_intake           79661 non-null  category\n",
      " 14  age_upon_intake_(years)   79661 non-null  float32 \n",
      " 15  intake_month              79661 non-null  int32   \n",
      " 16  intake_year               79661 non-null  int32   \n",
      " 17  intake_weekday            79661 non-null  category\n",
      " 18  intake_hour               79661 non-null  int32   \n",
      "dtypes: category(11), float32(2), int32(6)\n",
      "memory usage: 5.6 MB\n"
     ]
    }
   ],
   "source": [
    "dataset.info()"
   ]
  },
  {
   "cell_type": "code",
   "execution_count": 48,
   "metadata": {
    "tags": []
   },
   "outputs": [],
   "source": [
    "from sklearn.preprocessing import LabelEncoder"
   ]
  },
  {
   "cell_type": "code",
   "execution_count": 49,
   "metadata": {
    "tags": []
   },
   "outputs": [],
   "source": [
    "columns=['outcome_type', 'sex_upon_outcome', 'outcome_weekday', 'animal_type', 'breed', 'color', 'found_location', 'intake_condition', 'intake_type', 'sex_upon_intake', 'intake_weekday']"
   ]
  },
  {
   "cell_type": "code",
   "execution_count": 50,
   "metadata": {
    "tags": []
   },
   "outputs": [],
   "source": [
    "def encoder(data):\n",
    "    for col in columns:\n",
    "        label_encoder = LabelEncoder()\n",
    "        label_encoder.fit(data[col])\n",
    "        data[col] = label_encoder.transform(data[col])\n",
    "    return data"
   ]
  },
  {
   "cell_type": "code",
   "execution_count": 51,
   "metadata": {
    "tags": []
   },
   "outputs": [],
   "source": [
    "df_train = encoder(dataset)"
   ]
  },
  {
   "cell_type": "code",
   "execution_count": 52,
   "metadata": {
    "tags": []
   },
   "outputs": [
    {
     "data": {
      "text/html": [
       "<div>\n",
       "<style scoped>\n",
       "    .dataframe tbody tr th:only-of-type {\n",
       "        vertical-align: middle;\n",
       "    }\n",
       "\n",
       "    .dataframe tbody tr th {\n",
       "        vertical-align: top;\n",
       "    }\n",
       "\n",
       "    .dataframe thead th {\n",
       "        text-align: right;\n",
       "    }\n",
       "</style>\n",
       "<table border=\"1\" class=\"dataframe\">\n",
       "  <thead>\n",
       "    <tr style=\"text-align: right;\">\n",
       "      <th></th>\n",
       "      <th>outcome_type</th>\n",
       "      <th>sex_upon_outcome</th>\n",
       "      <th>age_upon_outcome_(years)</th>\n",
       "      <th>outcome_month</th>\n",
       "      <th>outcome_year</th>\n",
       "      <th>outcome_weekday</th>\n",
       "      <th>outcome_hour</th>\n",
       "      <th>animal_type</th>\n",
       "      <th>breed</th>\n",
       "      <th>color</th>\n",
       "      <th>found_location</th>\n",
       "      <th>intake_condition</th>\n",
       "      <th>intake_type</th>\n",
       "      <th>sex_upon_intake</th>\n",
       "      <th>age_upon_intake_(years)</th>\n",
       "      <th>intake_month</th>\n",
       "      <th>intake_year</th>\n",
       "      <th>intake_weekday</th>\n",
       "      <th>intake_hour</th>\n",
       "    </tr>\n",
       "  </thead>\n",
       "  <tbody>\n",
       "    <tr>\n",
       "      <th>0</th>\n",
       "      <td>1</td>\n",
       "      <td>2</td>\n",
       "      <td>10.0</td>\n",
       "      <td>12</td>\n",
       "      <td>2017</td>\n",
       "      <td>4</td>\n",
       "      <td>0</td>\n",
       "      <td>2</td>\n",
       "      <td>1982</td>\n",
       "      <td>527</td>\n",
       "      <td>27351</td>\n",
       "      <td>3</td>\n",
       "      <td>3</td>\n",
       "      <td>2</td>\n",
       "      <td>10.0</td>\n",
       "      <td>12</td>\n",
       "      <td>2017</td>\n",
       "      <td>4</td>\n",
       "      <td>14</td>\n",
       "    </tr>\n",
       "    <tr>\n",
       "      <th>1</th>\n",
       "      <td>1</td>\n",
       "      <td>2</td>\n",
       "      <td>7.0</td>\n",
       "      <td>12</td>\n",
       "      <td>2014</td>\n",
       "      <td>2</td>\n",
       "      <td>16</td>\n",
       "      <td>2</td>\n",
       "      <td>1982</td>\n",
       "      <td>527</td>\n",
       "      <td>23499</td>\n",
       "      <td>3</td>\n",
       "      <td>2</td>\n",
       "      <td>2</td>\n",
       "      <td>7.0</td>\n",
       "      <td>12</td>\n",
       "      <td>2014</td>\n",
       "      <td>0</td>\n",
       "      <td>10</td>\n",
       "    </tr>\n",
       "    <tr>\n",
       "      <th>2</th>\n",
       "      <td>1</td>\n",
       "      <td>2</td>\n",
       "      <td>6.0</td>\n",
       "      <td>3</td>\n",
       "      <td>2014</td>\n",
       "      <td>2</td>\n",
       "      <td>17</td>\n",
       "      <td>2</td>\n",
       "      <td>1982</td>\n",
       "      <td>527</td>\n",
       "      <td>23500</td>\n",
       "      <td>3</td>\n",
       "      <td>2</td>\n",
       "      <td>2</td>\n",
       "      <td>6.0</td>\n",
       "      <td>3</td>\n",
       "      <td>2014</td>\n",
       "      <td>0</td>\n",
       "      <td>14</td>\n",
       "    </tr>\n",
       "    <tr>\n",
       "      <th>3</th>\n",
       "      <td>1</td>\n",
       "      <td>2</td>\n",
       "      <td>10.0</td>\n",
       "      <td>4</td>\n",
       "      <td>2014</td>\n",
       "      <td>1</td>\n",
       "      <td>15</td>\n",
       "      <td>2</td>\n",
       "      <td>830</td>\n",
       "      <td>449</td>\n",
       "      <td>25821</td>\n",
       "      <td>3</td>\n",
       "      <td>1</td>\n",
       "      <td>2</td>\n",
       "      <td>10.0</td>\n",
       "      <td>4</td>\n",
       "      <td>2014</td>\n",
       "      <td>6</td>\n",
       "      <td>15</td>\n",
       "    </tr>\n",
       "    <tr>\n",
       "      <th>4</th>\n",
       "      <td>1</td>\n",
       "      <td>2</td>\n",
       "      <td>16.0</td>\n",
       "      <td>11</td>\n",
       "      <td>2013</td>\n",
       "      <td>2</td>\n",
       "      <td>11</td>\n",
       "      <td>2</td>\n",
       "      <td>1880</td>\n",
       "      <td>183</td>\n",
       "      <td>3300</td>\n",
       "      <td>2</td>\n",
       "      <td>2</td>\n",
       "      <td>2</td>\n",
       "      <td>16.0</td>\n",
       "      <td>11</td>\n",
       "      <td>2013</td>\n",
       "      <td>2</td>\n",
       "      <td>9</td>\n",
       "    </tr>\n",
       "  </tbody>\n",
       "</table>\n",
       "</div>"
      ],
      "text/plain": [
       "   outcome_type  sex_upon_outcome  age_upon_outcome_(years)  outcome_month  \\\n",
       "0             1                 2                      10.0             12   \n",
       "1             1                 2                       7.0             12   \n",
       "2             1                 2                       6.0              3   \n",
       "3             1                 2                      10.0              4   \n",
       "4             1                 2                      16.0             11   \n",
       "\n",
       "   outcome_year  outcome_weekday  outcome_hour  animal_type  breed  color  \\\n",
       "0          2017                4             0            2   1982    527   \n",
       "1          2014                2            16            2   1982    527   \n",
       "2          2014                2            17            2   1982    527   \n",
       "3          2014                1            15            2    830    449   \n",
       "4          2013                2            11            2   1880    183   \n",
       "\n",
       "   found_location  intake_condition  intake_type  sex_upon_intake  \\\n",
       "0           27351                 3            3                2   \n",
       "1           23499                 3            2                2   \n",
       "2           23500                 3            2                2   \n",
       "3           25821                 3            1                2   \n",
       "4            3300                 2            2                2   \n",
       "\n",
       "   age_upon_intake_(years)  intake_month  intake_year  intake_weekday  \\\n",
       "0                     10.0            12         2017               4   \n",
       "1                      7.0            12         2014               0   \n",
       "2                      6.0             3         2014               0   \n",
       "3                     10.0             4         2014               6   \n",
       "4                     16.0            11         2013               2   \n",
       "\n",
       "   intake_hour  \n",
       "0           14  \n",
       "1           10  \n",
       "2           14  \n",
       "3           15  \n",
       "4            9  "
      ]
     },
     "execution_count": 52,
     "metadata": {},
     "output_type": "execute_result"
    }
   ],
   "source": [
    "df_train.head()"
   ]
  },
  {
   "cell_type": "code",
   "execution_count": 53,
   "metadata": {
    "tags": []
   },
   "outputs": [],
   "source": [
    "df_train['outcome_type'] = dataset['outcome_type'].astype('int32')\n",
    "df_train['sex_upon_outcome'] = dataset['sex_upon_outcome'].astype('int32')\n",
    "df_train['outcome_weekday'] = dataset['outcome_weekday'].astype('int32')\n",
    "df_train['animal_type'] = dataset['animal_type'].astype('int32')\n",
    "df_train['breed'] = dataset['breed'].astype('int32')\n",
    "df_train['color'] = dataset['color'].astype('int32')\n",
    "df_train['intake_condition'] = dataset['intake_condition'].astype('int32')\n",
    "df_train['intake_type'] = dataset['intake_type'].astype('int32')\n",
    "df_train['sex_upon_intake'] = dataset['sex_upon_intake'].astype('int32')\n",
    "df_train['found_location'] = dataset['found_location'].astype('int32')\n",
    "df_train['intake_weekday'] = dataset['intake_weekday'].astype('int32')"
   ]
  },
  {
   "cell_type": "code",
   "execution_count": 58,
   "metadata": {
    "tags": []
   },
   "outputs": [],
   "source": [
    "df_train['age_upon_outcome_(years)'] = dataset['age_upon_outcome_(years)'].astype('int32')\n",
    "df_train['age_upon_intake_(years)'] = dataset['age_upon_intake_(years)'].astype('int32')"
   ]
  },
  {
   "cell_type": "code",
   "execution_count": 59,
   "metadata": {
    "tags": []
   },
   "outputs": [
    {
     "name": "stdout",
     "output_type": "stream",
     "text": [
      "<class 'pandas.core.frame.DataFrame'>\n",
      "Int64Index: 79661 entries, 0 to 79671\n",
      "Data columns (total 19 columns):\n",
      " #   Column                    Non-Null Count  Dtype\n",
      "---  ------                    --------------  -----\n",
      " 0   outcome_type              79661 non-null  int32\n",
      " 1   sex_upon_outcome          79661 non-null  int32\n",
      " 2   age_upon_outcome_(years)  79661 non-null  int32\n",
      " 3   outcome_month             79661 non-null  int32\n",
      " 4   outcome_year              79661 non-null  int32\n",
      " 5   outcome_weekday           79661 non-null  int32\n",
      " 6   outcome_hour              79661 non-null  int32\n",
      " 7   animal_type               79661 non-null  int32\n",
      " 8   breed                     79661 non-null  int32\n",
      " 9   color                     79661 non-null  int32\n",
      " 10  found_location            79661 non-null  int32\n",
      " 11  intake_condition          79661 non-null  int32\n",
      " 12  intake_type               79661 non-null  int32\n",
      " 13  sex_upon_intake           79661 non-null  int32\n",
      " 14  age_upon_intake_(years)   79661 non-null  int32\n",
      " 15  intake_month              79661 non-null  int32\n",
      " 16  intake_year               79661 non-null  int32\n",
      " 17  intake_weekday            79661 non-null  int32\n",
      " 18  intake_hour               79661 non-null  int32\n",
      "dtypes: int32(19)\n",
      "memory usage: 6.4 MB\n"
     ]
    }
   ],
   "source": [
    "df_train.info()"
   ]
  },
  {
   "cell_type": "code",
   "execution_count": 60,
   "metadata": {},
   "outputs": [],
   "source": [
    "df_train.to_csv('data.csv')"
   ]
  },
  {
   "cell_type": "markdown",
   "metadata": {},
   "source": [
    "Requirements: https://github.com/aws/amazon-sagemaker-examples/blob/main/introduction_to_amazon_algorithms/lightgbm_catboost_tabular/Amazon_Tabular_Classification_LightGBM_CatBoost.ipynb\n",
    "\n",
    "The 'data.csv' files under sub-directory 'train/' and 'validation/' are for training and validation, respectively. The validation data is used to compute a validation score at the end of each boosting iteration. An early stopping is applied when the validation score stops improving. If the validation data is not provided, a 20% of training data is randomly sampled to serve as the validation data.\n",
    "\n",
    "The first column of the 'data.csv' should have the corresponding target variable. The rest of other columns should have the corresponding predictor variables (features).\n",
    "\n",
    "If the predictors include categorical feature(s), a json-format file named 'categorical_index.json' should be included in the input directory to indicate the column index(es) of the categorical features. Within the json-format file, it should have a python directory where the key is a string of 'cat_index_list' and the value is a list of unique integer(s). Each integer in the list indicates the column index of categorical features in the 'data.csv'. The range of each integer should be more than 0 (index 0 indicates the target) and less than the total number of columns.\n",
    "\n",
    "All the categorical features and the target must be encoded as non-negative integers (int) less than Int32.MaxValue (2147483647). It is best to use a contiguous range of integers started from zero.\n",
    "\n",
    "Note. The number of json-format files should be no more than 1 in the input directory.\n",
    "\n",
    "Citations:\n",
    "\n",
    "[LeCun et al., 1998a] Y. LeCun, L. Bottou, Y. Bengio, and P. Haffner. 'Gradient-based learning applied to document recognition.' Proceedings of the IEEE, 86(11):2278-2324, November 1998"
   ]
  },
  {
   "cell_type": "code",
   "execution_count": 2,
   "metadata": {
    "tags": []
   },
   "outputs": [],
   "source": [
    "import pandas as pd"
   ]
  },
  {
   "cell_type": "code",
   "execution_count": 3,
   "metadata": {
    "tags": []
   },
   "outputs": [],
   "source": [
    "from sklearn.model_selection import train_test_split"
   ]
  },
  {
   "cell_type": "code",
   "execution_count": 4,
   "metadata": {
    "tags": []
   },
   "outputs": [],
   "source": [
    "from sklearn.preprocessing import LabelEncoder"
   ]
  },
  {
   "cell_type": "code",
   "execution_count": 5,
   "metadata": {
    "tags": []
   },
   "outputs": [],
   "source": [
    "data = pd.read_csv('data.csv')"
   ]
  },
  {
   "cell_type": "code",
   "execution_count": 43,
   "metadata": {
    "tags": []
   },
   "outputs": [],
   "source": [
    "data.drop(labels='Unnamed0', axis=1, inplace=True)"
   ]
  },
  {
   "cell_type": "code",
   "execution_count": 44,
   "metadata": {
    "tags": []
   },
   "outputs": [
    {
     "data": {
      "text/html": [
       "<div>\n",
       "<style scoped>\n",
       "    .dataframe tbody tr th:only-of-type {\n",
       "        vertical-align: middle;\n",
       "    }\n",
       "\n",
       "    .dataframe tbody tr th {\n",
       "        vertical-align: top;\n",
       "    }\n",
       "\n",
       "    .dataframe thead th {\n",
       "        text-align: right;\n",
       "    }\n",
       "</style>\n",
       "<table border=\"1\" class=\"dataframe\">\n",
       "  <thead>\n",
       "    <tr style=\"text-align: right;\">\n",
       "      <th></th>\n",
       "      <th>outcome_type</th>\n",
       "      <th>sex_upon_outcome</th>\n",
       "      <th>age_upon_outcome_years</th>\n",
       "      <th>outcome_month</th>\n",
       "      <th>outcome_year</th>\n",
       "      <th>outcome_weekday</th>\n",
       "      <th>outcome_hour</th>\n",
       "      <th>animal_type</th>\n",
       "      <th>breed</th>\n",
       "      <th>color</th>\n",
       "      <th>found_location</th>\n",
       "      <th>intake_condition</th>\n",
       "      <th>intake_type</th>\n",
       "      <th>sex_upon_intake</th>\n",
       "      <th>age_upon_intake_years</th>\n",
       "      <th>intake_month</th>\n",
       "      <th>intake_year</th>\n",
       "      <th>intake_weekday</th>\n",
       "      <th>intake_hour</th>\n",
       "    </tr>\n",
       "  </thead>\n",
       "  <tbody>\n",
       "    <tr>\n",
       "      <th>1</th>\n",
       "      <td>1</td>\n",
       "      <td>2</td>\n",
       "      <td>7</td>\n",
       "      <td>12</td>\n",
       "      <td>2014</td>\n",
       "      <td>2</td>\n",
       "      <td>16</td>\n",
       "      <td>2</td>\n",
       "      <td>1982</td>\n",
       "      <td>527</td>\n",
       "      <td>23499</td>\n",
       "      <td>3</td>\n",
       "      <td>2</td>\n",
       "      <td>2</td>\n",
       "      <td>7</td>\n",
       "      <td>12</td>\n",
       "      <td>2014</td>\n",
       "      <td>0</td>\n",
       "      <td>10</td>\n",
       "    </tr>\n",
       "    <tr>\n",
       "      <th>2</th>\n",
       "      <td>1</td>\n",
       "      <td>2</td>\n",
       "      <td>6</td>\n",
       "      <td>3</td>\n",
       "      <td>2014</td>\n",
       "      <td>2</td>\n",
       "      <td>17</td>\n",
       "      <td>2</td>\n",
       "      <td>1982</td>\n",
       "      <td>527</td>\n",
       "      <td>23500</td>\n",
       "      <td>3</td>\n",
       "      <td>2</td>\n",
       "      <td>2</td>\n",
       "      <td>6</td>\n",
       "      <td>3</td>\n",
       "      <td>2014</td>\n",
       "      <td>0</td>\n",
       "      <td>14</td>\n",
       "    </tr>\n",
       "    <tr>\n",
       "      <th>3</th>\n",
       "      <td>1</td>\n",
       "      <td>2</td>\n",
       "      <td>10</td>\n",
       "      <td>4</td>\n",
       "      <td>2014</td>\n",
       "      <td>1</td>\n",
       "      <td>15</td>\n",
       "      <td>2</td>\n",
       "      <td>830</td>\n",
       "      <td>449</td>\n",
       "      <td>25821</td>\n",
       "      <td>3</td>\n",
       "      <td>1</td>\n",
       "      <td>2</td>\n",
       "      <td>10</td>\n",
       "      <td>4</td>\n",
       "      <td>2014</td>\n",
       "      <td>6</td>\n",
       "      <td>15</td>\n",
       "    </tr>\n",
       "    <tr>\n",
       "      <th>4</th>\n",
       "      <td>1</td>\n",
       "      <td>2</td>\n",
       "      <td>16</td>\n",
       "      <td>11</td>\n",
       "      <td>2013</td>\n",
       "      <td>2</td>\n",
       "      <td>11</td>\n",
       "      <td>2</td>\n",
       "      <td>1880</td>\n",
       "      <td>183</td>\n",
       "      <td>3300</td>\n",
       "      <td>2</td>\n",
       "      <td>2</td>\n",
       "      <td>2</td>\n",
       "      <td>16</td>\n",
       "      <td>11</td>\n",
       "      <td>2013</td>\n",
       "      <td>2</td>\n",
       "      <td>9</td>\n",
       "    </tr>\n",
       "    <tr>\n",
       "      <th>5</th>\n",
       "      <td>1</td>\n",
       "      <td>3</td>\n",
       "      <td>15</td>\n",
       "      <td>11</td>\n",
       "      <td>2013</td>\n",
       "      <td>3</td>\n",
       "      <td>11</td>\n",
       "      <td>2</td>\n",
       "      <td>1337</td>\n",
       "      <td>59</td>\n",
       "      <td>25821</td>\n",
       "      <td>0</td>\n",
       "      <td>3</td>\n",
       "      <td>3</td>\n",
       "      <td>15</td>\n",
       "      <td>11</td>\n",
       "      <td>2013</td>\n",
       "      <td>2</td>\n",
       "      <td>14</td>\n",
       "    </tr>\n",
       "  </tbody>\n",
       "</table>\n",
       "</div>"
      ],
      "text/plain": [
       "   outcome_type  sex_upon_outcome  age_upon_outcome_years  outcome_month  \\\n",
       "1             1                 2                       7             12   \n",
       "2             1                 2                       6              3   \n",
       "3             1                 2                      10              4   \n",
       "4             1                 2                      16             11   \n",
       "5             1                 3                      15             11   \n",
       "\n",
       "   outcome_year  outcome_weekday  outcome_hour  animal_type  breed  color  \\\n",
       "1          2014                2            16            2   1982    527   \n",
       "2          2014                2            17            2   1982    527   \n",
       "3          2014                1            15            2    830    449   \n",
       "4          2013                2            11            2   1880    183   \n",
       "5          2013                3            11            2   1337     59   \n",
       "\n",
       "   found_location  intake_condition  intake_type  sex_upon_intake  \\\n",
       "1           23499                 3            2                2   \n",
       "2           23500                 3            2                2   \n",
       "3           25821                 3            1                2   \n",
       "4            3300                 2            2                2   \n",
       "5           25821                 0            3                3   \n",
       "\n",
       "   age_upon_intake_years  intake_month  intake_year  intake_weekday  \\\n",
       "1                      7            12         2014               0   \n",
       "2                      6             3         2014               0   \n",
       "3                     10             4         2014               6   \n",
       "4                     16            11         2013               2   \n",
       "5                     15            11         2013               2   \n",
       "\n",
       "   intake_hour  \n",
       "1           10  \n",
       "2           14  \n",
       "3           15  \n",
       "4            9  \n",
       "5           14  "
      ]
     },
     "execution_count": 44,
     "metadata": {},
     "output_type": "execute_result"
    }
   ],
   "source": [
    "data.head()"
   ]
  },
  {
   "cell_type": "code",
   "execution_count": 45,
   "metadata": {
    "tags": []
   },
   "outputs": [],
   "source": [
    "import re\n",
    "data = data.rename(columns = lambda x:re.sub('[^A-Za-z0-9_]+', '', x))"
   ]
  },
  {
   "cell_type": "code",
   "execution_count": 46,
   "metadata": {
    "tags": []
   },
   "outputs": [
    {
     "data": {
      "text/html": [
       "<div>\n",
       "<style scoped>\n",
       "    .dataframe tbody tr th:only-of-type {\n",
       "        vertical-align: middle;\n",
       "    }\n",
       "\n",
       "    .dataframe tbody tr th {\n",
       "        vertical-align: top;\n",
       "    }\n",
       "\n",
       "    .dataframe thead th {\n",
       "        text-align: right;\n",
       "    }\n",
       "</style>\n",
       "<table border=\"1\" class=\"dataframe\">\n",
       "  <thead>\n",
       "    <tr style=\"text-align: right;\">\n",
       "      <th></th>\n",
       "      <th>outcome_type</th>\n",
       "      <th>sex_upon_outcome</th>\n",
       "      <th>age_upon_outcome_years</th>\n",
       "      <th>outcome_month</th>\n",
       "      <th>outcome_year</th>\n",
       "      <th>outcome_weekday</th>\n",
       "      <th>outcome_hour</th>\n",
       "      <th>animal_type</th>\n",
       "      <th>breed</th>\n",
       "      <th>color</th>\n",
       "      <th>found_location</th>\n",
       "      <th>intake_condition</th>\n",
       "      <th>intake_type</th>\n",
       "      <th>sex_upon_intake</th>\n",
       "      <th>age_upon_intake_years</th>\n",
       "      <th>intake_month</th>\n",
       "      <th>intake_year</th>\n",
       "      <th>intake_weekday</th>\n",
       "      <th>intake_hour</th>\n",
       "    </tr>\n",
       "  </thead>\n",
       "  <tbody>\n",
       "    <tr>\n",
       "      <th>1</th>\n",
       "      <td>1</td>\n",
       "      <td>2</td>\n",
       "      <td>7</td>\n",
       "      <td>12</td>\n",
       "      <td>2014</td>\n",
       "      <td>2</td>\n",
       "      <td>16</td>\n",
       "      <td>2</td>\n",
       "      <td>1982</td>\n",
       "      <td>527</td>\n",
       "      <td>23499</td>\n",
       "      <td>3</td>\n",
       "      <td>2</td>\n",
       "      <td>2</td>\n",
       "      <td>7</td>\n",
       "      <td>12</td>\n",
       "      <td>2014</td>\n",
       "      <td>0</td>\n",
       "      <td>10</td>\n",
       "    </tr>\n",
       "    <tr>\n",
       "      <th>2</th>\n",
       "      <td>1</td>\n",
       "      <td>2</td>\n",
       "      <td>6</td>\n",
       "      <td>3</td>\n",
       "      <td>2014</td>\n",
       "      <td>2</td>\n",
       "      <td>17</td>\n",
       "      <td>2</td>\n",
       "      <td>1982</td>\n",
       "      <td>527</td>\n",
       "      <td>23500</td>\n",
       "      <td>3</td>\n",
       "      <td>2</td>\n",
       "      <td>2</td>\n",
       "      <td>6</td>\n",
       "      <td>3</td>\n",
       "      <td>2014</td>\n",
       "      <td>0</td>\n",
       "      <td>14</td>\n",
       "    </tr>\n",
       "    <tr>\n",
       "      <th>3</th>\n",
       "      <td>1</td>\n",
       "      <td>2</td>\n",
       "      <td>10</td>\n",
       "      <td>4</td>\n",
       "      <td>2014</td>\n",
       "      <td>1</td>\n",
       "      <td>15</td>\n",
       "      <td>2</td>\n",
       "      <td>830</td>\n",
       "      <td>449</td>\n",
       "      <td>25821</td>\n",
       "      <td>3</td>\n",
       "      <td>1</td>\n",
       "      <td>2</td>\n",
       "      <td>10</td>\n",
       "      <td>4</td>\n",
       "      <td>2014</td>\n",
       "      <td>6</td>\n",
       "      <td>15</td>\n",
       "    </tr>\n",
       "    <tr>\n",
       "      <th>4</th>\n",
       "      <td>1</td>\n",
       "      <td>2</td>\n",
       "      <td>16</td>\n",
       "      <td>11</td>\n",
       "      <td>2013</td>\n",
       "      <td>2</td>\n",
       "      <td>11</td>\n",
       "      <td>2</td>\n",
       "      <td>1880</td>\n",
       "      <td>183</td>\n",
       "      <td>3300</td>\n",
       "      <td>2</td>\n",
       "      <td>2</td>\n",
       "      <td>2</td>\n",
       "      <td>16</td>\n",
       "      <td>11</td>\n",
       "      <td>2013</td>\n",
       "      <td>2</td>\n",
       "      <td>9</td>\n",
       "    </tr>\n",
       "    <tr>\n",
       "      <th>5</th>\n",
       "      <td>1</td>\n",
       "      <td>3</td>\n",
       "      <td>15</td>\n",
       "      <td>11</td>\n",
       "      <td>2013</td>\n",
       "      <td>3</td>\n",
       "      <td>11</td>\n",
       "      <td>2</td>\n",
       "      <td>1337</td>\n",
       "      <td>59</td>\n",
       "      <td>25821</td>\n",
       "      <td>0</td>\n",
       "      <td>3</td>\n",
       "      <td>3</td>\n",
       "      <td>15</td>\n",
       "      <td>11</td>\n",
       "      <td>2013</td>\n",
       "      <td>2</td>\n",
       "      <td>14</td>\n",
       "    </tr>\n",
       "  </tbody>\n",
       "</table>\n",
       "</div>"
      ],
      "text/plain": [
       "   outcome_type  sex_upon_outcome  age_upon_outcome_years  outcome_month  \\\n",
       "1             1                 2                       7             12   \n",
       "2             1                 2                       6              3   \n",
       "3             1                 2                      10              4   \n",
       "4             1                 2                      16             11   \n",
       "5             1                 3                      15             11   \n",
       "\n",
       "   outcome_year  outcome_weekday  outcome_hour  animal_type  breed  color  \\\n",
       "1          2014                2            16            2   1982    527   \n",
       "2          2014                2            17            2   1982    527   \n",
       "3          2014                1            15            2    830    449   \n",
       "4          2013                2            11            2   1880    183   \n",
       "5          2013                3            11            2   1337     59   \n",
       "\n",
       "   found_location  intake_condition  intake_type  sex_upon_intake  \\\n",
       "1           23499                 3            2                2   \n",
       "2           23500                 3            2                2   \n",
       "3           25821                 3            1                2   \n",
       "4            3300                 2            2                2   \n",
       "5           25821                 0            3                3   \n",
       "\n",
       "   age_upon_intake_years  intake_month  intake_year  intake_weekday  \\\n",
       "1                      7            12         2014               0   \n",
       "2                      6             3         2014               0   \n",
       "3                     10             4         2014               6   \n",
       "4                     16            11         2013               2   \n",
       "5                     15            11         2013               2   \n",
       "\n",
       "   intake_hour  \n",
       "1           10  \n",
       "2           14  \n",
       "3           15  \n",
       "4            9  \n",
       "5           14  "
      ]
     },
     "execution_count": 46,
     "metadata": {},
     "output_type": "execute_result"
    }
   ],
   "source": [
    "data.head()"
   ]
  },
  {
   "cell_type": "code",
   "execution_count": 47,
   "metadata": {
    "tags": []
   },
   "outputs": [],
   "source": [
    "x_train, x_val, y_train, y_val = train_test_split(data.drop('outcome_type', axis=1), data['outcome_type'], test_size=0.2, random_state=42)"
   ]
  },
  {
   "cell_type": "code",
   "execution_count": 48,
   "metadata": {
    "tags": []
   },
   "outputs": [
    {
     "data": {
      "text/html": [
       "<div>\n",
       "<style scoped>\n",
       "    .dataframe tbody tr th:only-of-type {\n",
       "        vertical-align: middle;\n",
       "    }\n",
       "\n",
       "    .dataframe tbody tr th {\n",
       "        vertical-align: top;\n",
       "    }\n",
       "\n",
       "    .dataframe thead th {\n",
       "        text-align: right;\n",
       "    }\n",
       "</style>\n",
       "<table border=\"1\" class=\"dataframe\">\n",
       "  <thead>\n",
       "    <tr style=\"text-align: right;\">\n",
       "      <th></th>\n",
       "      <th>sex_upon_outcome</th>\n",
       "      <th>age_upon_outcome_years</th>\n",
       "      <th>outcome_month</th>\n",
       "      <th>outcome_year</th>\n",
       "      <th>outcome_weekday</th>\n",
       "      <th>outcome_hour</th>\n",
       "      <th>animal_type</th>\n",
       "      <th>breed</th>\n",
       "      <th>color</th>\n",
       "      <th>found_location</th>\n",
       "      <th>intake_condition</th>\n",
       "      <th>intake_type</th>\n",
       "      <th>sex_upon_intake</th>\n",
       "      <th>age_upon_intake_years</th>\n",
       "      <th>intake_month</th>\n",
       "      <th>intake_year</th>\n",
       "      <th>intake_weekday</th>\n",
       "      <th>intake_hour</th>\n",
       "    </tr>\n",
       "  </thead>\n",
       "  <tbody>\n",
       "    <tr>\n",
       "      <th>35680</th>\n",
       "      <td>2</td>\n",
       "      <td>0</td>\n",
       "      <td>7</td>\n",
       "      <td>2015</td>\n",
       "      <td>3</td>\n",
       "      <td>16</td>\n",
       "      <td>1</td>\n",
       "      <td>952</td>\n",
       "      <td>59</td>\n",
       "      <td>2046</td>\n",
       "      <td>3</td>\n",
       "      <td>3</td>\n",
       "      <td>1</td>\n",
       "      <td>0</td>\n",
       "      <td>6</td>\n",
       "      <td>2015</td>\n",
       "      <td>5</td>\n",
       "      <td>11</td>\n",
       "    </tr>\n",
       "    <tr>\n",
       "      <th>18829</th>\n",
       "      <td>3</td>\n",
       "      <td>1</td>\n",
       "      <td>7</td>\n",
       "      <td>2014</td>\n",
       "      <td>1</td>\n",
       "      <td>16</td>\n",
       "      <td>2</td>\n",
       "      <td>1741</td>\n",
       "      <td>405</td>\n",
       "      <td>14768</td>\n",
       "      <td>3</td>\n",
       "      <td>3</td>\n",
       "      <td>0</td>\n",
       "      <td>1</td>\n",
       "      <td>7</td>\n",
       "      <td>2014</td>\n",
       "      <td>4</td>\n",
       "      <td>16</td>\n",
       "    </tr>\n",
       "    <tr>\n",
       "      <th>56227</th>\n",
       "      <td>0</td>\n",
       "      <td>0</td>\n",
       "      <td>9</td>\n",
       "      <td>2016</td>\n",
       "      <td>1</td>\n",
       "      <td>18</td>\n",
       "      <td>2</td>\n",
       "      <td>1452</td>\n",
       "      <td>56</td>\n",
       "      <td>5881</td>\n",
       "      <td>3</td>\n",
       "      <td>3</td>\n",
       "      <td>0</td>\n",
       "      <td>0</td>\n",
       "      <td>9</td>\n",
       "      <td>2016</td>\n",
       "      <td>1</td>\n",
       "      <td>15</td>\n",
       "    </tr>\n",
       "    <tr>\n",
       "      <th>28390</th>\n",
       "      <td>3</td>\n",
       "      <td>14</td>\n",
       "      <td>2</td>\n",
       "      <td>2015</td>\n",
       "      <td>0</td>\n",
       "      <td>0</td>\n",
       "      <td>2</td>\n",
       "      <td>1788</td>\n",
       "      <td>449</td>\n",
       "      <td>25044</td>\n",
       "      <td>3</td>\n",
       "      <td>3</td>\n",
       "      <td>3</td>\n",
       "      <td>14</td>\n",
       "      <td>2</td>\n",
       "      <td>2015</td>\n",
       "      <td>4</td>\n",
       "      <td>18</td>\n",
       "    </tr>\n",
       "    <tr>\n",
       "      <th>61142</th>\n",
       "      <td>2</td>\n",
       "      <td>0</td>\n",
       "      <td>1</td>\n",
       "      <td>2017</td>\n",
       "      <td>5</td>\n",
       "      <td>17</td>\n",
       "      <td>1</td>\n",
       "      <td>952</td>\n",
       "      <td>330</td>\n",
       "      <td>4787</td>\n",
       "      <td>3</td>\n",
       "      <td>3</td>\n",
       "      <td>1</td>\n",
       "      <td>0</td>\n",
       "      <td>12</td>\n",
       "      <td>2016</td>\n",
       "      <td>4</td>\n",
       "      <td>10</td>\n",
       "    </tr>\n",
       "  </tbody>\n",
       "</table>\n",
       "</div>"
      ],
      "text/plain": [
       "       sex_upon_outcome  age_upon_outcome_years  outcome_month  outcome_year  \\\n",
       "35680                 2                       0              7          2015   \n",
       "18829                 3                       1              7          2014   \n",
       "56227                 0                       0              9          2016   \n",
       "28390                 3                      14              2          2015   \n",
       "61142                 2                       0              1          2017   \n",
       "\n",
       "       outcome_weekday  outcome_hour  animal_type  breed  color  \\\n",
       "35680                3            16            1    952     59   \n",
       "18829                1            16            2   1741    405   \n",
       "56227                1            18            2   1452     56   \n",
       "28390                0             0            2   1788    449   \n",
       "61142                5            17            1    952    330   \n",
       "\n",
       "       found_location  intake_condition  intake_type  sex_upon_intake  \\\n",
       "35680            2046                 3            3                1   \n",
       "18829           14768                 3            3                0   \n",
       "56227            5881                 3            3                0   \n",
       "28390           25044                 3            3                3   \n",
       "61142            4787                 3            3                1   \n",
       "\n",
       "       age_upon_intake_years  intake_month  intake_year  intake_weekday  \\\n",
       "35680                      0             6         2015               5   \n",
       "18829                      1             7         2014               4   \n",
       "56227                      0             9         2016               1   \n",
       "28390                     14             2         2015               4   \n",
       "61142                      0            12         2016               4   \n",
       "\n",
       "       intake_hour  \n",
       "35680           11  \n",
       "18829           16  \n",
       "56227           15  \n",
       "28390           18  \n",
       "61142           10  "
      ]
     },
     "execution_count": 48,
     "metadata": {},
     "output_type": "execute_result"
    }
   ],
   "source": [
    "x_train.head()"
   ]
  },
  {
   "cell_type": "code",
   "execution_count": 49,
   "metadata": {
    "tags": []
   },
   "outputs": [],
   "source": [
    "le = LabelEncoder()"
   ]
  },
  {
   "cell_type": "code",
   "execution_count": 9,
   "metadata": {
    "tags": []
   },
   "outputs": [],
   "source": [
    "y_train = le.fit_transform(y_train)"
   ]
  },
  {
   "cell_type": "code",
   "execution_count": 10,
   "metadata": {
    "tags": []
   },
   "outputs": [],
   "source": [
    "y_val = le.transform(y_val)"
   ]
  },
  {
   "cell_type": "code",
   "execution_count": 11,
   "metadata": {
    "tags": []
   },
   "outputs": [],
   "source": [
    "hyperparameters_sklearn = {\n",
    "    'boosting_type': ['gbdt', 'dart', 'goss'],\n",
    "    'num_leaves': range(2, 201),\n",
    "    'learning_rate': [0.001, 0.01, 0.1],\n",
    "    'min_child_weight': [0.01, 0.1, 1, 10],\n",
    "    'subsample': [0.1, 0.5, 1.0],\n",
    "    'colsample_bytree': [0.1, 0.5, 1.0],\n",
    "    'reg_lambda': [0.1, 1, 10]\n",
    "}"
   ]
  },
  {
   "cell_type": "code",
   "execution_count": 12,
   "metadata": {
    "tags": []
   },
   "outputs": [],
   "source": [
    "from sklearn.model_selection import RandomizedSearchCV"
   ]
  },
  {
   "cell_type": "code",
   "execution_count": 14,
   "metadata": {
    "collapsed": true,
    "jupyter": {
     "outputs_hidden": true
    },
    "tags": []
   },
   "outputs": [
    {
     "name": "stdout",
     "output_type": "stream",
     "text": [
      "Collecting lightgbm\n",
      "  Using cached lightgbm-3.3.5-py3-none-manylinux1_x86_64.whl (2.0 MB)\n",
      "Requirement already satisfied: wheel in /opt/conda/lib/python3.7/site-packages (from lightgbm) (0.40.0)\n",
      "Requirement already satisfied: scipy in /opt/conda/lib/python3.7/site-packages (from lightgbm) (1.4.1)\n",
      "Requirement already satisfied: numpy in /opt/conda/lib/python3.7/site-packages (from lightgbm) (1.21.6)\n",
      "Requirement already satisfied: scikit-learn!=0.22.0 in /opt/conda/lib/python3.7/site-packages (from lightgbm) (0.22.1)\n",
      "Requirement already satisfied: joblib>=0.11 in /opt/conda/lib/python3.7/site-packages (from scikit-learn!=0.22.0->lightgbm) (1.2.0)\n",
      "Installing collected packages: lightgbm\n",
      "Successfully installed lightgbm-3.3.5\n",
      "\u001b[33mWARNING: Running pip as the 'root' user can result in broken permissions and conflicting behaviour with the system package manager. It is recommended to use a virtual environment instead: https://pip.pypa.io/warnings/venv\u001b[0m\u001b[33m\n",
      "\u001b[0m"
     ]
    }
   ],
   "source": [
    "!pip install lightgbm"
   ]
  },
  {
   "cell_type": "code",
   "execution_count": 16,
   "metadata": {
    "tags": []
   },
   "outputs": [],
   "source": [
    "import lightgbm as lgb"
   ]
  },
  {
   "cell_type": "code",
   "execution_count": 17,
   "metadata": {
    "tags": []
   },
   "outputs": [],
   "source": [
    "clf = lgb.LGBMClassifier()"
   ]
  },
  {
   "cell_type": "code",
   "execution_count": 50,
   "metadata": {
    "tags": []
   },
   "outputs": [],
   "source": [
    "search = RandomizedSearchCV(clf,\n",
    "                            hyperparameters_sklearn,\n",
    "                            n_iter=10,\n",
    "                            cv=5,\n",
    "                            random_state=42,\n",
    "                            scoring='roc_auc',\n",
    "                            n_jobs=-1)"
   ]
  },
  {
   "cell_type": "code",
   "execution_count": 51,
   "metadata": {
    "tags": []
   },
   "outputs": [
    {
     "data": {
      "text/plain": [
       "RandomizedSearchCV(cv=5, error_score=nan,\n",
       "                   estimator=LGBMClassifier(boosting_type='gbdt',\n",
       "                                            class_weight=None,\n",
       "                                            colsample_bytree=1.0,\n",
       "                                            importance_type='split',\n",
       "                                            learning_rate=0.1, max_depth=-1,\n",
       "                                            min_child_samples=20,\n",
       "                                            min_child_weight=0.001,\n",
       "                                            min_split_gain=0.0,\n",
       "                                            n_estimators=100, n_jobs=-1,\n",
       "                                            num_leaves=31, objective=None,\n",
       "                                            random_state=None, reg_alpha=0.0,\n",
       "                                            reg_lambda=0.0, sile...\n",
       "                   iid='deprecated', n_iter=10, n_jobs=-1,\n",
       "                   param_distributions={'boosting_type': ['gbdt', 'dart',\n",
       "                                                          'goss'],\n",
       "                                        'colsample_bytree': [0.1, 0.5, 1.0],\n",
       "                                        'learning_rate': [0.001, 0.01, 0.1],\n",
       "                                        'min_child_weight': [0.01, 0.1, 1, 10],\n",
       "                                        'num_leaves': range(2, 201),\n",
       "                                        'reg_lambda': [0.1, 1, 10],\n",
       "                                        'subsample': [0.1, 0.5, 1.0]},\n",
       "                   pre_dispatch='2*n_jobs', random_state=42, refit=True,\n",
       "                   return_train_score=False, scoring='roc_auc', verbose=0)"
      ]
     },
     "execution_count": 51,
     "metadata": {},
     "output_type": "execute_result"
    }
   ],
   "source": [
    "search.fit(x_train, y_train, eval_metric='auc')"
   ]
  },
  {
   "cell_type": "code",
   "execution_count": 20,
   "metadata": {
    "tags": []
   },
   "outputs": [
    {
     "name": "stdout",
     "output_type": "stream",
     "text": [
      "Best hyperparameters:  {'subsample': 1.0, 'reg_lambda': 1, 'num_leaves': 180, 'min_child_weight': 0.1, 'learning_rate': 0.1, 'colsample_bytree': 0.5, 'boosting_type': 'dart'}\n"
     ]
    }
   ],
   "source": [
    "print('Best hyperparameters: ', search.best_params_)"
   ]
  },
  {
   "cell_type": "code",
   "execution_count": 21,
   "metadata": {
    "tags": []
   },
   "outputs": [
    {
     "name": "stdout",
     "output_type": "stream",
     "text": [
      "Best AUC score:  0.9295900486004977\n"
     ]
    }
   ],
   "source": [
    "print('Best AUC score: ', search.best_score_)"
   ]
  },
  {
   "cell_type": "code",
   "execution_count": 52,
   "metadata": {
    "tags": []
   },
   "outputs": [],
   "source": [
    "clf_predict = search.predict(x_val)"
   ]
  },
  {
   "cell_type": "code",
   "execution_count": 33,
   "metadata": {
    "tags": []
   },
   "outputs": [],
   "source": [
    "from sklearn.metrics import classification_report"
   ]
  },
  {
   "cell_type": "code",
   "execution_count": 35,
   "metadata": {
    "tags": []
   },
   "outputs": [
    {
     "name": "stdout",
     "output_type": "stream",
     "text": [
      "              precision    recall  f1-score   support\n",
      "\n",
      "           0       0.82      0.83      0.82      6716\n",
      "           1       0.87      0.86      0.87      9217\n",
      "\n",
      "    accuracy                           0.85     15933\n",
      "   macro avg       0.84      0.85      0.84     15933\n",
      "weighted avg       0.85      0.85      0.85     15933\n",
      "\n"
     ]
    }
   ],
   "source": [
    "print(classification_report(y_val, clf_predict))"
   ]
  },
  {
   "cell_type": "code",
   "execution_count": 22,
   "metadata": {
    "tags": []
   },
   "outputs": [],
   "source": [
    "import seaborn as sns\n",
    "import matplotlib.pyplot as plt"
   ]
  },
  {
   "cell_type": "code",
   "execution_count": 53,
   "metadata": {
    "tags": []
   },
   "outputs": [
    {
     "data": {
      "text/plain": [
       "LGBMClassifier(boosting_type='gbdt', class_weight=None, colsample_bytree=1.0,\n",
       "               importance_type='split', learning_rate=0.1, max_depth=-1,\n",
       "               min_child_samples=20, min_child_weight=0.001, min_split_gain=0.0,\n",
       "               n_estimators=100, n_jobs=-1, num_leaves=31, objective=None,\n",
       "               random_state=None, reg_alpha=0.0, reg_lambda=0.0, silent='warn',\n",
       "               subsample=1.0, subsample_for_bin=200000, subsample_freq=0)"
      ]
     },
     "execution_count": 53,
     "metadata": {},
     "output_type": "execute_result"
    }
   ],
   "source": [
    "clf.fit(x_train, y_train)"
   ]
  },
  {
   "cell_type": "code",
   "execution_count": 54,
   "metadata": {
    "tags": []
   },
   "outputs": [
    {
     "data": {
      "image/png": "[encoded data removed]",
      "text/plain": [
       "<Figure size 800x600 with 1 Axes>"
      ]
     },
     "metadata": {},
     "output_type": "display_data"
    }
   ],
   "source": [
    "#from benchmark model: https://www.kaggle.com/code/wenlie/exploring-and-predicting-the-animal-s-outcomes\n",
    "#used in order to study and compare model results:\n",
    "feat_importance = pd.DataFrame({'Feature':data.columns[:-1],'Importance':clf.feature_importances_.tolist()})\n",
    "\n",
    "plt.subplots(figsize=(8, 6))\n",
    "g = sns.barplot(data=feat_importance, x='Feature', y='Importance')\n",
    "labels = g.get_xticklabels()\n",
    "g.set_xticklabels(labels,rotation=50)\n",
    "plt.show(g)"
   ]
  },
  {
   "cell_type": "code",
   "execution_count": null,
   "metadata": {},
   "outputs": [],
   "source": []
  }
 ],
 "metadata": {
  "instance_type": "ml.t3.medium",
  "kernelspec": {
   "display_name": "Python 3 (Data Science)",
   "language": "python",
   "name": "python3__SAGEMAKER_INTERNAL__arn:aws:sagemaker:us-east-1:081325390199:image/datascience-1.0"
  },
  "language_info": {
   "codemirror_mode": {
    "name": "ipython",
    "version": 3
   },
   "file_extension": ".py",
   "mimetype": "text/x-python",
   "name": "python",
   "nbconvert_exporter": "python",
   "pygments_lexer": "ipython3",
   "version": "3.7.10"
  }
 },
 "nbformat": 4,
 "nbformat_minor": 4
}
