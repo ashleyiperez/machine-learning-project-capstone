{
  "nbformat": 4,
  "nbformat_minor": 0,
  "metadata": {
    "colab": {
      "provenance": []
    },
    "kernelspec": {
      "name": "python3",
      "display_name": "Python 3"
    },
    "language_info": {
      "name": "python"
    },
    "widgets": {
      "application/vnd.jupyter.widget-state+json": {
        "979b7b1d43e44bc5ada1fe94dd34a664": {
          "model_module": "@jupyter-widgets/controls",
          "model_name": "HBoxModel",
          "model_module_version": "1.5.0",
          "state": {
            "_dom_classes": [],
            "_model_module": "@jupyter-widgets/controls",
            "_model_module_version": "1.5.0",
            "_model_name": "HBoxModel",
            "_view_count": null,
            "_view_module": "@jupyter-widgets/controls",
            "_view_module_version": "1.5.0",
            "_view_name": "HBoxView",
            "box_style": "",
            "children": [
              "IPY_MODEL_3e7bc1d36b0e44a8b774382165919560",
              "IPY_MODEL_118ab904544844e6aa1c87d4a2fd23f9",
              "IPY_MODEL_c4099fb0bb5143ef8c9c875825c56e18"
            ],
            "layout": "IPY_MODEL_9ab035d2834444a2905fd83391809bb3"
          }
        },
        "3e7bc1d36b0e44a8b774382165919560": {
          "model_module": "@jupyter-widgets/controls",
          "model_name": "HTMLModel",
          "model_module_version": "1.5.0",
          "state": {
            "_dom_classes": [],
            "_model_module": "@jupyter-widgets/controls",
            "_model_module_version": "1.5.0",
            "_model_name": "HTMLModel",
            "_view_count": null,
            "_view_module": "@jupyter-widgets/controls",
            "_view_module_version": "1.5.0",
            "_view_name": "HTMLView",
            "description": "",
            "description_tooltip": null,
            "layout": "IPY_MODEL_2423c5b5f7d744dea43c7ebdf1d75728",
            "placeholder": "​",
            "style": "IPY_MODEL_689204a99d64498a882e2ff8435fbd79",
            "value": "Summarize dataset: 100%"
          }
        },
        "118ab904544844e6aa1c87d4a2fd23f9": {
          "model_module": "@jupyter-widgets/controls",
          "model_name": "FloatProgressModel",
          "model_module_version": "1.5.0",
          "state": {
            "_dom_classes": [],
            "_model_module": "@jupyter-widgets/controls",
            "_model_module_version": "1.5.0",
            "_model_name": "FloatProgressModel",
            "_view_count": null,
            "_view_module": "@jupyter-widgets/controls",
            "_view_module_version": "1.5.0",
            "_view_name": "ProgressView",
            "bar_style": "success",
            "description": "",
            "description_tooltip": null,
            "layout": "IPY_MODEL_f1934bff8c6b42eea5f5af5d609f41fa",
            "max": 5,
            "min": 0,
            "orientation": "horizontal",
            "style": "IPY_MODEL_f3c7f36cad27493fb7a6528f8c0d4933",
            "value": 5
          }
        },
        "c4099fb0bb5143ef8c9c875825c56e18": {
          "model_module": "@jupyter-widgets/controls",
          "model_name": "HTMLModel",
          "model_module_version": "1.5.0",
          "state": {
            "_dom_classes": [],
            "_model_module": "@jupyter-widgets/controls",
            "_model_module_version": "1.5.0",
            "_model_name": "HTMLModel",
            "_view_count": null,
            "_view_module": "@jupyter-widgets/controls",
            "_view_module_version": "1.5.0",
            "_view_name": "HTMLView",
            "description": "",
            "description_tooltip": null,
            "layout": "IPY_MODEL_93f2f13697f64ac2a1bdfb7f28a64b3c",
            "placeholder": "​",
            "style": "IPY_MODEL_e1dd5955a29a43a5bbee7944577c1654",
            "value": " 281/281 [01:31&lt;00:00,  2.07it/s, Completed]"
          }
        },
        "9ab035d2834444a2905fd83391809bb3": {
          "model_module": "@jupyter-widgets/base",
          "model_name": "LayoutModel",
          "model_module_version": "1.2.0",
          "state": {
            "_model_module": "@jupyter-widgets/base",
            "_model_module_version": "1.2.0",
            "_model_name": "LayoutModel",
            "_view_count": null,
            "_view_module": "@jupyter-widgets/base",
            "_view_module_version": "1.2.0",
            "_view_name": "LayoutView",
            "align_content": null,
            "align_items": null,
            "align_self": null,
            "border": null,
            "bottom": null,
            "display": null,
            "flex": null,
            "flex_flow": null,
            "grid_area": null,
            "grid_auto_columns": null,
            "grid_auto_flow": null,
            "grid_auto_rows": null,
            "grid_column": null,
            "grid_gap": null,
            "grid_row": null,
            "grid_template_areas": null,
            "grid_template_columns": null,
            "grid_template_rows": null,
            "height": null,
            "justify_content": null,
            "justify_items": null,
            "left": null,
            "margin": null,
            "max_height": null,
            "max_width": null,
            "min_height": null,
            "min_width": null,
            "object_fit": null,
            "object_position": null,
            "order": null,
            "overflow": null,
            "overflow_x": null,
            "overflow_y": null,
            "padding": null,
            "right": null,
            "top": null,
            "visibility": null,
            "width": null
          }
        },
        "2423c5b5f7d744dea43c7ebdf1d75728": {
          "model_module": "@jupyter-widgets/base",
          "model_name": "LayoutModel",
          "model_module_version": "1.2.0",
          "state": {
            "_model_module": "@jupyter-widgets/base",
            "_model_module_version": "1.2.0",
            "_model_name": "LayoutModel",
            "_view_count": null,
            "_view_module": "@jupyter-widgets/base",
            "_view_module_version": "1.2.0",
            "_view_name": "LayoutView",
            "align_content": null,
            "align_items": null,
            "align_self": null,
            "border": null,
            "bottom": null,
            "display": null,
            "flex": null,
            "flex_flow": null,
            "grid_area": null,
            "grid_auto_columns": null,
            "grid_auto_flow": null,
            "grid_auto_rows": null,
            "grid_column": null,
            "grid_gap": null,
            "grid_row": null,
            "grid_template_areas": null,
            "grid_template_columns": null,
            "grid_template_rows": null,
            "height": null,
            "justify_content": null,
            "justify_items": null,
            "left": null,
            "margin": null,
            "max_height": null,
            "max_width": null,
            "min_height": null,
            "min_width": null,
            "object_fit": null,
            "object_position": null,
            "order": null,
            "overflow": null,
            "overflow_x": null,
            "overflow_y": null,
            "padding": null,
            "right": null,
            "top": null,
            "visibility": null,
            "width": null
          }
        },
        "689204a99d64498a882e2ff8435fbd79": {
          "model_module": "@jupyter-widgets/controls",
          "model_name": "DescriptionStyleModel",
          "model_module_version": "1.5.0",
          "state": {
            "_model_module": "@jupyter-widgets/controls",
            "_model_module_version": "1.5.0",
            "_model_name": "DescriptionStyleModel",
            "_view_count": null,
            "_view_module": "@jupyter-widgets/base",
            "_view_module_version": "1.2.0",
            "_view_name": "StyleView",
            "description_width": ""
          }
        },
        "f1934bff8c6b42eea5f5af5d609f41fa": {
          "model_module": "@jupyter-widgets/base",
          "model_name": "LayoutModel",
          "model_module_version": "1.2.0",
          "state": {
            "_model_module": "@jupyter-widgets/base",
            "_model_module_version": "1.2.0",
            "_model_name": "LayoutModel",
            "_view_count": null,
            "_view_module": "@jupyter-widgets/base",
            "_view_module_version": "1.2.0",
            "_view_name": "LayoutView",
            "align_content": null,
            "align_items": null,
            "align_self": null,
            "border": null,
            "bottom": null,
            "display": null,
            "flex": null,
            "flex_flow": null,
            "grid_area": null,
            "grid_auto_columns": null,
            "grid_auto_flow": null,
            "grid_auto_rows": null,
            "grid_column": null,
            "grid_gap": null,
            "grid_row": null,
            "grid_template_areas": null,
            "grid_template_columns": null,
            "grid_template_rows": null,
            "height": null,
            "justify_content": null,
            "justify_items": null,
            "left": null,
            "margin": null,
            "max_height": null,
            "max_width": null,
            "min_height": null,
            "min_width": null,
            "object_fit": null,
            "object_position": null,
            "order": null,
            "overflow": null,
            "overflow_x": null,
            "overflow_y": null,
            "padding": null,
            "right": null,
            "top": null,
            "visibility": null,
            "width": null
          }
        },
        "f3c7f36cad27493fb7a6528f8c0d4933": {
          "model_module": "@jupyter-widgets/controls",
          "model_name": "ProgressStyleModel",
          "model_module_version": "1.5.0",
          "state": {
            "_model_module": "@jupyter-widgets/controls",
            "_model_module_version": "1.5.0",
            "_model_name": "ProgressStyleModel",
            "_view_count": null,
            "_view_module": "@jupyter-widgets/base",
            "_view_module_version": "1.2.0",
            "_view_name": "StyleView",
            "bar_color": null,
            "description_width": ""
          }
        },
        "93f2f13697f64ac2a1bdfb7f28a64b3c": {
          "model_module": "@jupyter-widgets/base",
          "model_name": "LayoutModel",
          "model_module_version": "1.2.0",
          "state": {
            "_model_module": "@jupyter-widgets/base",
            "_model_module_version": "1.2.0",
            "_model_name": "LayoutModel",
            "_view_count": null,
            "_view_module": "@jupyter-widgets/base",
            "_view_module_version": "1.2.0",
            "_view_name": "LayoutView",
            "align_content": null,
            "align_items": null,
            "align_self": null,
            "border": null,
            "bottom": null,
            "display": null,
            "flex": null,
            "flex_flow": null,
            "grid_area": null,
            "grid_auto_columns": null,
            "grid_auto_flow": null,
            "grid_auto_rows": null,
            "grid_column": null,
            "grid_gap": null,
            "grid_row": null,
            "grid_template_areas": null,
            "grid_template_columns": null,
            "grid_template_rows": null,
            "height": null,
            "justify_content": null,
            "justify_items": null,
            "left": null,
            "margin": null,
            "max_height": null,
            "max_width": null,
            "min_height": null,
            "min_width": null,
            "object_fit": null,
            "object_position": null,
            "order": null,
            "overflow": null,
            "overflow_x": null,
            "overflow_y": null,
            "padding": null,
            "right": null,
            "top": null,
            "visibility": null,
            "width": null
          }
        },
        "e1dd5955a29a43a5bbee7944577c1654": {
          "model_module": "@jupyter-widgets/controls",
          "model_name": "DescriptionStyleModel",
          "model_module_version": "1.5.0",
          "state": {
            "_model_module": "@jupyter-widgets/controls",
            "_model_module_version": "1.5.0",
            "_model_name": "DescriptionStyleModel",
            "_view_count": null,
            "_view_module": "@jupyter-widgets/base",
            "_view_module_version": "1.2.0",
            "_view_name": "StyleView",
            "description_width": ""
          }
        },
        "db5b0af816a44ab0a0b16ccaffae5989": {
          "model_module": "@jupyter-widgets/controls",
          "model_name": "HBoxModel",
          "model_module_version": "1.5.0",
          "state": {
            "_dom_classes": [],
            "_model_module": "@jupyter-widgets/controls",
            "_model_module_version": "1.5.0",
            "_model_name": "HBoxModel",
            "_view_count": null,
            "_view_module": "@jupyter-widgets/controls",
            "_view_module_version": "1.5.0",
            "_view_name": "HBoxView",
            "box_style": "",
            "children": [
              "IPY_MODEL_a7e39dd78f2643e1b0012c2828d1d65e",
              "IPY_MODEL_2dca3528e3fb409c88bd366010d8340a",
              "IPY_MODEL_7e1a81c4c29b41da8d7e68a38d55976e"
            ],
            "layout": "IPY_MODEL_7d62f9a6b0384a678649247ac00a78a7"
          }
        },
        "a7e39dd78f2643e1b0012c2828d1d65e": {
          "model_module": "@jupyter-widgets/controls",
          "model_name": "HTMLModel",
          "model_module_version": "1.5.0",
          "state": {
            "_dom_classes": [],
            "_model_module": "@jupyter-widgets/controls",
            "_model_module_version": "1.5.0",
            "_model_name": "HTMLModel",
            "_view_count": null,
            "_view_module": "@jupyter-widgets/controls",
            "_view_module_version": "1.5.0",
            "_view_name": "HTMLView",
            "description": "",
            "description_tooltip": null,
            "layout": "IPY_MODEL_2293c1381b79425bbb2a1bd249d8bea8",
            "placeholder": "​",
            "style": "IPY_MODEL_e4a815e5e4004628a2337a39ad640240",
            "value": "Generate report structure: 100%"
          }
        },
        "2dca3528e3fb409c88bd366010d8340a": {
          "model_module": "@jupyter-widgets/controls",
          "model_name": "FloatProgressModel",
          "model_module_version": "1.5.0",
          "state": {
            "_dom_classes": [],
            "_model_module": "@jupyter-widgets/controls",
            "_model_module_version": "1.5.0",
            "_model_name": "FloatProgressModel",
            "_view_count": null,
            "_view_module": "@jupyter-widgets/controls",
            "_view_module_version": "1.5.0",
            "_view_name": "ProgressView",
            "bar_style": "success",
            "description": "",
            "description_tooltip": null,
            "layout": "IPY_MODEL_5d089a6fd9d44dc4a3c528e9bcaf47d7",
            "max": 1,
            "min": 0,
            "orientation": "horizontal",
            "style": "IPY_MODEL_965a9973c11a412f8e7915913fcdc679",
            "value": 1
          }
        },
        "7e1a81c4c29b41da8d7e68a38d55976e": {
          "model_module": "@jupyter-widgets/controls",
          "model_name": "HTMLModel",
          "model_module_version": "1.5.0",
          "state": {
            "_dom_classes": [],
            "_model_module": "@jupyter-widgets/controls",
            "_model_module_version": "1.5.0",
            "_model_name": "HTMLModel",
            "_view_count": null,
            "_view_module": "@jupyter-widgets/controls",
            "_view_module_version": "1.5.0",
            "_view_name": "HTMLView",
            "description": "",
            "description_tooltip": null,
            "layout": "IPY_MODEL_e41ca173d3a342cd946a5456162c15c2",
            "placeholder": "​",
            "style": "IPY_MODEL_39facb00bbc444419510becf2aff8ce9",
            "value": " 1/1 [00:17&lt;00:00, 17.66s/it]"
          }
        },
        "7d62f9a6b0384a678649247ac00a78a7": {
          "model_module": "@jupyter-widgets/base",
          "model_name": "LayoutModel",
          "model_module_version": "1.2.0",
          "state": {
            "_model_module": "@jupyter-widgets/base",
            "_model_module_version": "1.2.0",
            "_model_name": "LayoutModel",
            "_view_count": null,
            "_view_module": "@jupyter-widgets/base",
            "_view_module_version": "1.2.0",
            "_view_name": "LayoutView",
            "align_content": null,
            "align_items": null,
            "align_self": null,
            "border": null,
            "bottom": null,
            "display": null,
            "flex": null,
            "flex_flow": null,
            "grid_area": null,
            "grid_auto_columns": null,
            "grid_auto_flow": null,
            "grid_auto_rows": null,
            "grid_column": null,
            "grid_gap": null,
            "grid_row": null,
            "grid_template_areas": null,
            "grid_template_columns": null,
            "grid_template_rows": null,
            "height": null,
            "justify_content": null,
            "justify_items": null,
            "left": null,
            "margin": null,
            "max_height": null,
            "max_width": null,
            "min_height": null,
            "min_width": null,
            "object_fit": null,
            "object_position": null,
            "order": null,
            "overflow": null,
            "overflow_x": null,
            "overflow_y": null,
            "padding": null,
            "right": null,
            "top": null,
            "visibility": null,
            "width": null
          }
        },
        "2293c1381b79425bbb2a1bd249d8bea8": {
          "model_module": "@jupyter-widgets/base",
          "model_name": "LayoutModel",
          "model_module_version": "1.2.0",
          "state": {
            "_model_module": "@jupyter-widgets/base",
            "_model_module_version": "1.2.0",
            "_model_name": "LayoutModel",
            "_view_count": null,
            "_view_module": "@jupyter-widgets/base",
            "_view_module_version": "1.2.0",
            "_view_name": "LayoutView",
            "align_content": null,
            "align_items": null,
            "align_self": null,
            "border": null,
            "bottom": null,
            "display": null,
            "flex": null,
            "flex_flow": null,
            "grid_area": null,
            "grid_auto_columns": null,
            "grid_auto_flow": null,
            "grid_auto_rows": null,
            "grid_column": null,
            "grid_gap": null,
            "grid_row": null,
            "grid_template_areas": null,
            "grid_template_columns": null,
            "grid_template_rows": null,
            "height": null,
            "justify_content": null,
            "justify_items": null,
            "left": null,
            "margin": null,
            "max_height": null,
            "max_width": null,
            "min_height": null,
            "min_width": null,
            "object_fit": null,
            "object_position": null,
            "order": null,
            "overflow": null,
            "overflow_x": null,
            "overflow_y": null,
            "padding": null,
            "right": null,
            "top": null,
            "visibility": null,
            "width": null
          }
        },
        "e4a815e5e4004628a2337a39ad640240": {
          "model_module": "@jupyter-widgets/controls",
          "model_name": "DescriptionStyleModel",
          "model_module_version": "1.5.0",
          "state": {
            "_model_module": "@jupyter-widgets/controls",
            "_model_module_version": "1.5.0",
            "_model_name": "DescriptionStyleModel",
            "_view_count": null,
            "_view_module": "@jupyter-widgets/base",
            "_view_module_version": "1.2.0",
            "_view_name": "StyleView",
            "description_width": ""
          }
        },
        "5d089a6fd9d44dc4a3c528e9bcaf47d7": {
          "model_module": "@jupyter-widgets/base",
          "model_name": "LayoutModel",
          "model_module_version": "1.2.0",
          "state": {
            "_model_module": "@jupyter-widgets/base",
            "_model_module_version": "1.2.0",
            "_model_name": "LayoutModel",
            "_view_count": null,
            "_view_module": "@jupyter-widgets/base",
            "_view_module_version": "1.2.0",
            "_view_name": "LayoutView",
            "align_content": null,
            "align_items": null,
            "align_self": null,
            "border": null,
            "bottom": null,
            "display": null,
            "flex": null,
            "flex_flow": null,
            "grid_area": null,
            "grid_auto_columns": null,
            "grid_auto_flow": null,
            "grid_auto_rows": null,
            "grid_column": null,
            "grid_gap": null,
            "grid_row": null,
            "grid_template_areas": null,
            "grid_template_columns": null,
            "grid_template_rows": null,
            "height": null,
            "justify_content": null,
            "justify_items": null,
            "left": null,
            "margin": null,
            "max_height": null,
            "max_width": null,
            "min_height": null,
            "min_width": null,
            "object_fit": null,
            "object_position": null,
            "order": null,
            "overflow": null,
            "overflow_x": null,
            "overflow_y": null,
            "padding": null,
            "right": null,
            "top": null,
            "visibility": null,
            "width": null
          }
        },
        "965a9973c11a412f8e7915913fcdc679": {
          "model_module": "@jupyter-widgets/controls",
          "model_name": "ProgressStyleModel",
          "model_module_version": "1.5.0",
          "state": {
            "_model_module": "@jupyter-widgets/controls",
            "_model_module_version": "1.5.0",
            "_model_name": "ProgressStyleModel",
            "_view_count": null,
            "_view_module": "@jupyter-widgets/base",
            "_view_module_version": "1.2.0",
            "_view_name": "StyleView",
            "bar_color": null,
            "description_width": ""
          }
        },
        "e41ca173d3a342cd946a5456162c15c2": {
          "model_module": "@jupyter-widgets/base",
          "model_name": "LayoutModel",
          "model_module_version": "1.2.0",
          "state": {
            "_model_module": "@jupyter-widgets/base",
            "_model_module_version": "1.2.0",
            "_model_name": "LayoutModel",
            "_view_count": null,
            "_view_module": "@jupyter-widgets/base",
            "_view_module_version": "1.2.0",
            "_view_name": "LayoutView",
            "align_content": null,
            "align_items": null,
            "align_self": null,
            "border": null,
            "bottom": null,
            "display": null,
            "flex": null,
            "flex_flow": null,
            "grid_area": null,
            "grid_auto_columns": null,
            "grid_auto_flow": null,
            "grid_auto_rows": null,
            "grid_column": null,
            "grid_gap": null,
            "grid_row": null,
            "grid_template_areas": null,
            "grid_template_columns": null,
            "grid_template_rows": null,
            "height": null,
            "justify_content": null,
            "justify_items": null,
            "left": null,
            "margin": null,
            "max_height": null,
            "max_width": null,
            "min_height": null,
            "min_width": null,
            "object_fit": null,
            "object_position": null,
            "order": null,
            "overflow": null,
            "overflow_x": null,
            "overflow_y": null,
            "padding": null,
            "right": null,
            "top": null,
            "visibility": null,
            "width": null
          }
        },
        "39facb00bbc444419510becf2aff8ce9": {
          "model_module": "@jupyter-widgets/controls",
          "model_name": "DescriptionStyleModel",
          "model_module_version": "1.5.0",
          "state": {
            "_model_module": "@jupyter-widgets/controls",
            "_model_module_version": "1.5.0",
            "_model_name": "DescriptionStyleModel",
            "_view_count": null,
            "_view_module": "@jupyter-widgets/base",
            "_view_module_version": "1.2.0",
            "_view_name": "StyleView",
            "description_width": ""
          }
        },
        "2e8d92c20f4a4d2c847904e26b989819": {
          "model_module": "@jupyter-widgets/controls",
          "model_name": "HBoxModel",
          "model_module_version": "1.5.0",
          "state": {
            "_dom_classes": [],
            "_model_module": "@jupyter-widgets/controls",
            "_model_module_version": "1.5.0",
            "_model_name": "HBoxModel",
            "_view_count": null,
            "_view_module": "@jupyter-widgets/controls",
            "_view_module_version": "1.5.0",
            "_view_name": "HBoxView",
            "box_style": "",
            "children": [
              "IPY_MODEL_a08887bbbad34588b676ad291142df43",
              "IPY_MODEL_1e5e3524197942e9b29ec5fdcccb7f72",
              "IPY_MODEL_2c0588b7a1af496fa25c666008f1e181"
            ],
            "layout": "IPY_MODEL_0b2514be092c4139a258e827cd9d523f"
          }
        },
        "a08887bbbad34588b676ad291142df43": {
          "model_module": "@jupyter-widgets/controls",
          "model_name": "HTMLModel",
          "model_module_version": "1.5.0",
          "state": {
            "_dom_classes": [],
            "_model_module": "@jupyter-widgets/controls",
            "_model_module_version": "1.5.0",
            "_model_name": "HTMLModel",
            "_view_count": null,
            "_view_module": "@jupyter-widgets/controls",
            "_view_module_version": "1.5.0",
            "_view_name": "HTMLView",
            "description": "",
            "description_tooltip": null,
            "layout": "IPY_MODEL_0b200d022c934740b03d600d6100417e",
            "placeholder": "​",
            "style": "IPY_MODEL_a635254cf7e94288a7b5aab56e858ed2",
            "value": "Render HTML: 100%"
          }
        },
        "1e5e3524197942e9b29ec5fdcccb7f72": {
          "model_module": "@jupyter-widgets/controls",
          "model_name": "FloatProgressModel",
          "model_module_version": "1.5.0",
          "state": {
            "_dom_classes": [],
            "_model_module": "@jupyter-widgets/controls",
            "_model_module_version": "1.5.0",
            "_model_name": "FloatProgressModel",
            "_view_count": null,
            "_view_module": "@jupyter-widgets/controls",
            "_view_module_version": "1.5.0",
            "_view_name": "ProgressView",
            "bar_style": "success",
            "description": "",
            "description_tooltip": null,
            "layout": "IPY_MODEL_b3603d879b4e4bf48b5f0f14b1bbfe91",
            "max": 1,
            "min": 0,
            "orientation": "horizontal",
            "style": "IPY_MODEL_9c46169a94da41f7bac977cafb5ce57c",
            "value": 1
          }
        },
        "2c0588b7a1af496fa25c666008f1e181": {
          "model_module": "@jupyter-widgets/controls",
          "model_name": "HTMLModel",
          "model_module_version": "1.5.0",
          "state": {
            "_dom_classes": [],
            "_model_module": "@jupyter-widgets/controls",
            "_model_module_version": "1.5.0",
            "_model_name": "HTMLModel",
            "_view_count": null,
            "_view_module": "@jupyter-widgets/controls",
            "_view_module_version": "1.5.0",
            "_view_name": "HTMLView",
            "description": "",
            "description_tooltip": null,
            "layout": "IPY_MODEL_f1f86e1be4094d0a84e654633bd67d89",
            "placeholder": "​",
            "style": "IPY_MODEL_f940817deea94d43ab91c65754ac6df4",
            "value": " 1/1 [00:09&lt;00:00,  9.13s/it]"
          }
        },
        "0b2514be092c4139a258e827cd9d523f": {
          "model_module": "@jupyter-widgets/base",
          "model_name": "LayoutModel",
          "model_module_version": "1.2.0",
          "state": {
            "_model_module": "@jupyter-widgets/base",
            "_model_module_version": "1.2.0",
            "_model_name": "LayoutModel",
            "_view_count": null,
            "_view_module": "@jupyter-widgets/base",
            "_view_module_version": "1.2.0",
            "_view_name": "LayoutView",
            "align_content": null,
            "align_items": null,
            "align_self": null,
            "border": null,
            "bottom": null,
            "display": null,
            "flex": null,
            "flex_flow": null,
            "grid_area": null,
            "grid_auto_columns": null,
            "grid_auto_flow": null,
            "grid_auto_rows": null,
            "grid_column": null,
            "grid_gap": null,
            "grid_row": null,
            "grid_template_areas": null,
            "grid_template_columns": null,
            "grid_template_rows": null,
            "height": null,
            "justify_content": null,
            "justify_items": null,
            "left": null,
            "margin": null,
            "max_height": null,
            "max_width": null,
            "min_height": null,
            "min_width": null,
            "object_fit": null,
            "object_position": null,
            "order": null,
            "overflow": null,
            "overflow_x": null,
            "overflow_y": null,
            "padding": null,
            "right": null,
            "top": null,
            "visibility": null,
            "width": null
          }
        },
        "0b200d022c934740b03d600d6100417e": {
          "model_module": "@jupyter-widgets/base",
          "model_name": "LayoutModel",
          "model_module_version": "1.2.0",
          "state": {
            "_model_module": "@jupyter-widgets/base",
            "_model_module_version": "1.2.0",
            "_model_name": "LayoutModel",
            "_view_count": null,
            "_view_module": "@jupyter-widgets/base",
            "_view_module_version": "1.2.0",
            "_view_name": "LayoutView",
            "align_content": null,
            "align_items": null,
            "align_self": null,
            "border": null,
            "bottom": null,
            "display": null,
            "flex": null,
            "flex_flow": null,
            "grid_area": null,
            "grid_auto_columns": null,
            "grid_auto_flow": null,
            "grid_auto_rows": null,
            "grid_column": null,
            "grid_gap": null,
            "grid_row": null,
            "grid_template_areas": null,
            "grid_template_columns": null,
            "grid_template_rows": null,
            "height": null,
            "justify_content": null,
            "justify_items": null,
            "left": null,
            "margin": null,
            "max_height": null,
            "max_width": null,
            "min_height": null,
            "min_width": null,
            "object_fit": null,
            "object_position": null,
            "order": null,
            "overflow": null,
            "overflow_x": null,
            "overflow_y": null,
            "padding": null,
            "right": null,
            "top": null,
            "visibility": null,
            "width": null
          }
        },
        "a635254cf7e94288a7b5aab56e858ed2": {
          "model_module": "@jupyter-widgets/controls",
          "model_name": "DescriptionStyleModel",
          "model_module_version": "1.5.0",
          "state": {
            "_model_module": "@jupyter-widgets/controls",
            "_model_module_version": "1.5.0",
            "_model_name": "DescriptionStyleModel",
            "_view_count": null,
            "_view_module": "@jupyter-widgets/base",
            "_view_module_version": "1.2.0",
            "_view_name": "StyleView",
            "description_width": ""
          }
        },
        "b3603d879b4e4bf48b5f0f14b1bbfe91": {
          "model_module": "@jupyter-widgets/base",
          "model_name": "LayoutModel",
          "model_module_version": "1.2.0",
          "state": {
            "_model_module": "@jupyter-widgets/base",
            "_model_module_version": "1.2.0",
            "_model_name": "LayoutModel",
            "_view_count": null,
            "_view_module": "@jupyter-widgets/base",
            "_view_module_version": "1.2.0",
            "_view_name": "LayoutView",
            "align_content": null,
            "align_items": null,
            "align_self": null,
            "border": null,
            "bottom": null,
            "display": null,
            "flex": null,
            "flex_flow": null,
            "grid_area": null,
            "grid_auto_columns": null,
            "grid_auto_flow": null,
            "grid_auto_rows": null,
            "grid_column": null,
            "grid_gap": null,
            "grid_row": null,
            "grid_template_areas": null,
            "grid_template_columns": null,
            "grid_template_rows": null,
            "height": null,
            "justify_content": null,
            "justify_items": null,
            "left": null,
            "margin": null,
            "max_height": null,
            "max_width": null,
            "min_height": null,
            "min_width": null,
            "object_fit": null,
            "object_position": null,
            "order": null,
            "overflow": null,
            "overflow_x": null,
            "overflow_y": null,
            "padding": null,
            "right": null,
            "top": null,
            "visibility": null,
            "width": null
          }
        },
        "9c46169a94da41f7bac977cafb5ce57c": {
          "model_module": "@jupyter-widgets/controls",
          "model_name": "ProgressStyleModel",
          "model_module_version": "1.5.0",
          "state": {
            "_model_module": "@jupyter-widgets/controls",
            "_model_module_version": "1.5.0",
            "_model_name": "ProgressStyleModel",
            "_view_count": null,
            "_view_module": "@jupyter-widgets/base",
            "_view_module_version": "1.2.0",
            "_view_name": "StyleView",
            "bar_color": null,
            "description_width": ""
          }
        },
        "f1f86e1be4094d0a84e654633bd67d89": {
          "model_module": "@jupyter-widgets/base",
          "model_name": "LayoutModel",
          "model_module_version": "1.2.0",
          "state": {
            "_model_module": "@jupyter-widgets/base",
            "_model_module_version": "1.2.0",
            "_model_name": "LayoutModel",
            "_view_count": null,
            "_view_module": "@jupyter-widgets/base",
            "_view_module_version": "1.2.0",
            "_view_name": "LayoutView",
            "align_content": null,
            "align_items": null,
            "align_self": null,
            "border": null,
            "bottom": null,
            "display": null,
            "flex": null,
            "flex_flow": null,
            "grid_area": null,
            "grid_auto_columns": null,
            "grid_auto_flow": null,
            "grid_auto_rows": null,
            "grid_column": null,
            "grid_gap": null,
            "grid_row": null,
            "grid_template_areas": null,
            "grid_template_columns": null,
            "grid_template_rows": null,
            "height": null,
            "justify_content": null,
            "justify_items": null,
            "left": null,
            "margin": null,
            "max_height": null,
            "max_width": null,
            "min_height": null,
            "min_width": null,
            "object_fit": null,
            "object_position": null,
            "order": null,
            "overflow": null,
            "overflow_x": null,
            "overflow_y": null,
            "padding": null,
            "right": null,
            "top": null,
            "visibility": null,
            "width": null
          }
        },
        "f940817deea94d43ab91c65754ac6df4": {
          "model_module": "@jupyter-widgets/controls",
          "model_name": "DescriptionStyleModel",
          "model_module_version": "1.5.0",
          "state": {
            "_model_module": "@jupyter-widgets/controls",
            "_model_module_version": "1.5.0",
            "_model_name": "DescriptionStyleModel",
            "_view_count": null,
            "_view_module": "@jupyter-widgets/base",
            "_view_module_version": "1.2.0",
            "_view_name": "StyleView",
            "description_width": ""
          }
        },
        "decf0130b2524a42862f5c78b3ddbd89": {
          "model_module": "@jupyter-widgets/controls",
          "model_name": "HBoxModel",
          "model_module_version": "1.5.0",
          "state": {
            "_dom_classes": [],
            "_model_module": "@jupyter-widgets/controls",
            "_model_module_version": "1.5.0",
            "_model_name": "HBoxModel",
            "_view_count": null,
            "_view_module": "@jupyter-widgets/controls",
            "_view_module_version": "1.5.0",
            "_view_name": "HBoxView",
            "box_style": "",
            "children": [
              "IPY_MODEL_68ef51f5ed1e47a596095d442e6bdfd5",
              "IPY_MODEL_59e970d73b4640d7ac0eb0a78b3d91d4",
              "IPY_MODEL_c8764bb0dd3b404f815e4ab9df1c3220"
            ],
            "layout": "IPY_MODEL_ea7612626bf648f88063bf6219a3d74a"
          }
        },
        "68ef51f5ed1e47a596095d442e6bdfd5": {
          "model_module": "@jupyter-widgets/controls",
          "model_name": "HTMLModel",
          "model_module_version": "1.5.0",
          "state": {
            "_dom_classes": [],
            "_model_module": "@jupyter-widgets/controls",
            "_model_module_version": "1.5.0",
            "_model_name": "HTMLModel",
            "_view_count": null,
            "_view_module": "@jupyter-widgets/controls",
            "_view_module_version": "1.5.0",
            "_view_name": "HTMLView",
            "description": "",
            "description_tooltip": null,
            "layout": "IPY_MODEL_439f5b3285c245c786f1c3bc0ba408df",
            "placeholder": "​",
            "style": "IPY_MODEL_bf0657f679ca4f798728258099e45ff5",
            "value": "Export report to file: 100%"
          }
        },
        "59e970d73b4640d7ac0eb0a78b3d91d4": {
          "model_module": "@jupyter-widgets/controls",
          "model_name": "FloatProgressModel",
          "model_module_version": "1.5.0",
          "state": {
            "_dom_classes": [],
            "_model_module": "@jupyter-widgets/controls",
            "_model_module_version": "1.5.0",
            "_model_name": "FloatProgressModel",
            "_view_count": null,
            "_view_module": "@jupyter-widgets/controls",
            "_view_module_version": "1.5.0",
            "_view_name": "ProgressView",
            "bar_style": "success",
            "description": "",
            "description_tooltip": null,
            "layout": "IPY_MODEL_0bfa67b7429c4e998052b1b5be8bec1e",
            "max": 1,
            "min": 0,
            "orientation": "horizontal",
            "style": "IPY_MODEL_517e5db7befc40a1b90ad1a18314209a",
            "value": 1
          }
        },
        "c8764bb0dd3b404f815e4ab9df1c3220": {
          "model_module": "@jupyter-widgets/controls",
          "model_name": "HTMLModel",
          "model_module_version": "1.5.0",
          "state": {
            "_dom_classes": [],
            "_model_module": "@jupyter-widgets/controls",
            "_model_module_version": "1.5.0",
            "_model_name": "HTMLModel",
            "_view_count": null,
            "_view_module": "@jupyter-widgets/controls",
            "_view_module_version": "1.5.0",
            "_view_name": "HTMLView",
            "description": "",
            "description_tooltip": null,
            "layout": "IPY_MODEL_8bc7f3f260514f52a915efdfcb25923d",
            "placeholder": "​",
            "style": "IPY_MODEL_72378fc890e94652a5ee1ad96b7408b4",
            "value": " 1/1 [00:00&lt;00:00, 12.64it/s]"
          }
        },
        "ea7612626bf648f88063bf6219a3d74a": {
          "model_module": "@jupyter-widgets/base",
          "model_name": "LayoutModel",
          "model_module_version": "1.2.0",
          "state": {
            "_model_module": "@jupyter-widgets/base",
            "_model_module_version": "1.2.0",
            "_model_name": "LayoutModel",
            "_view_count": null,
            "_view_module": "@jupyter-widgets/base",
            "_view_module_version": "1.2.0",
            "_view_name": "LayoutView",
            "align_content": null,
            "align_items": null,
            "align_self": null,
            "border": null,
            "bottom": null,
            "display": null,
            "flex": null,
            "flex_flow": null,
            "grid_area": null,
            "grid_auto_columns": null,
            "grid_auto_flow": null,
            "grid_auto_rows": null,
            "grid_column": null,
            "grid_gap": null,
            "grid_row": null,
            "grid_template_areas": null,
            "grid_template_columns": null,
            "grid_template_rows": null,
            "height": null,
            "justify_content": null,
            "justify_items": null,
            "left": null,
            "margin": null,
            "max_height": null,
            "max_width": null,
            "min_height": null,
            "min_width": null,
            "object_fit": null,
            "object_position": null,
            "order": null,
            "overflow": null,
            "overflow_x": null,
            "overflow_y": null,
            "padding": null,
            "right": null,
            "top": null,
            "visibility": null,
            "width": null
          }
        },
        "439f5b3285c245c786f1c3bc0ba408df": {
          "model_module": "@jupyter-widgets/base",
          "model_name": "LayoutModel",
          "model_module_version": "1.2.0",
          "state": {
            "_model_module": "@jupyter-widgets/base",
            "_model_module_version": "1.2.0",
            "_model_name": "LayoutModel",
            "_view_count": null,
            "_view_module": "@jupyter-widgets/base",
            "_view_module_version": "1.2.0",
            "_view_name": "LayoutView",
            "align_content": null,
            "align_items": null,
            "align_self": null,
            "border": null,
            "bottom": null,
            "display": null,
            "flex": null,
            "flex_flow": null,
            "grid_area": null,
            "grid_auto_columns": null,
            "grid_auto_flow": null,
            "grid_auto_rows": null,
            "grid_column": null,
            "grid_gap": null,
            "grid_row": null,
            "grid_template_areas": null,
            "grid_template_columns": null,
            "grid_template_rows": null,
            "height": null,
            "justify_content": null,
            "justify_items": null,
            "left": null,
            "margin": null,
            "max_height": null,
            "max_width": null,
            "min_height": null,
            "min_width": null,
            "object_fit": null,
            "object_position": null,
            "order": null,
            "overflow": null,
            "overflow_x": null,
            "overflow_y": null,
            "padding": null,
            "right": null,
            "top": null,
            "visibility": null,
            "width": null
          }
        },
        "bf0657f679ca4f798728258099e45ff5": {
          "model_module": "@jupyter-widgets/controls",
          "model_name": "DescriptionStyleModel",
          "model_module_version": "1.5.0",
          "state": {
            "_model_module": "@jupyter-widgets/controls",
            "_model_module_version": "1.5.0",
            "_model_name": "DescriptionStyleModel",
            "_view_count": null,
            "_view_module": "@jupyter-widgets/base",
            "_view_module_version": "1.2.0",
            "_view_name": "StyleView",
            "description_width": ""
          }
        },
        "0bfa67b7429c4e998052b1b5be8bec1e": {
          "model_module": "@jupyter-widgets/base",
          "model_name": "LayoutModel",
          "model_module_version": "1.2.0",
          "state": {
            "_model_module": "@jupyter-widgets/base",
            "_model_module_version": "1.2.0",
            "_model_name": "LayoutModel",
            "_view_count": null,
            "_view_module": "@jupyter-widgets/base",
            "_view_module_version": "1.2.0",
            "_view_name": "LayoutView",
            "align_content": null,
            "align_items": null,
            "align_self": null,
            "border": null,
            "bottom": null,
            "display": null,
            "flex": null,
            "flex_flow": null,
            "grid_area": null,
            "grid_auto_columns": null,
            "grid_auto_flow": null,
            "grid_auto_rows": null,
            "grid_column": null,
            "grid_gap": null,
            "grid_row": null,
            "grid_template_areas": null,
            "grid_template_columns": null,
            "grid_template_rows": null,
            "height": null,
            "justify_content": null,
            "justify_items": null,
            "left": null,
            "margin": null,
            "max_height": null,
            "max_width": null,
            "min_height": null,
            "min_width": null,
            "object_fit": null,
            "object_position": null,
            "order": null,
            "overflow": null,
            "overflow_x": null,
            "overflow_y": null,
            "padding": null,
            "right": null,
            "top": null,
            "visibility": null,
            "width": null
          }
        },
        "517e5db7befc40a1b90ad1a18314209a": {
          "model_module": "@jupyter-widgets/controls",
          "model_name": "ProgressStyleModel",
          "model_module_version": "1.5.0",
          "state": {
            "_model_module": "@jupyter-widgets/controls",
            "_model_module_version": "1.5.0",
            "_model_name": "ProgressStyleModel",
            "_view_count": null,
            "_view_module": "@jupyter-widgets/base",
            "_view_module_version": "1.2.0",
            "_view_name": "StyleView",
            "bar_color": null,
            "description_width": ""
          }
        },
        "8bc7f3f260514f52a915efdfcb25923d": {
          "model_module": "@jupyter-widgets/base",
          "model_name": "LayoutModel",
          "model_module_version": "1.2.0",
          "state": {
            "_model_module": "@jupyter-widgets/base",
            "_model_module_version": "1.2.0",
            "_model_name": "LayoutModel",
            "_view_count": null,
            "_view_module": "@jupyter-widgets/base",
            "_view_module_version": "1.2.0",
            "_view_name": "LayoutView",
            "align_content": null,
            "align_items": null,
            "align_self": null,
            "border": null,
            "bottom": null,
            "display": null,
            "flex": null,
            "flex_flow": null,
            "grid_area": null,
            "grid_auto_columns": null,
            "grid_auto_flow": null,
            "grid_auto_rows": null,
            "grid_column": null,
            "grid_gap": null,
            "grid_row": null,
            "grid_template_areas": null,
            "grid_template_columns": null,
            "grid_template_rows": null,
            "height": null,
            "justify_content": null,
            "justify_items": null,
            "left": null,
            "margin": null,
            "max_height": null,
            "max_width": null,
            "min_height": null,
            "min_width": null,
            "object_fit": null,
            "object_position": null,
            "order": null,
            "overflow": null,
            "overflow_x": null,
            "overflow_y": null,
            "padding": null,
            "right": null,
            "top": null,
            "visibility": null,
            "width": null
          }
        },
        "72378fc890e94652a5ee1ad96b7408b4": {
          "model_module": "@jupyter-widgets/controls",
          "model_name": "DescriptionStyleModel",
          "model_module_version": "1.5.0",
          "state": {
            "_model_module": "@jupyter-widgets/controls",
            "_model_module_version": "1.5.0",
            "_model_name": "DescriptionStyleModel",
            "_view_count": null,
            "_view_module": "@jupyter-widgets/base",
            "_view_module_version": "1.2.0",
            "_view_name": "StyleView",
            "description_width": ""
          }
        },
        "5238ead9f770474b94a4f9ac7b75d73b": {
          "model_module": "@jupyter-widgets/controls",
          "model_name": "HBoxModel",
          "model_module_version": "1.5.0",
          "state": {
            "_dom_classes": [],
            "_model_module": "@jupyter-widgets/controls",
            "_model_module_version": "1.5.0",
            "_model_name": "HBoxModel",
            "_view_count": null,
            "_view_module": "@jupyter-widgets/controls",
            "_view_module_version": "1.5.0",
            "_view_name": "HBoxView",
            "box_style": "",
            "children": [
              "IPY_MODEL_1a6b9c2ab07c4d60b5acced7b49ea7f4",
              "IPY_MODEL_0ba2d6cc99b8486aa1a1a16860fe7a79",
              "IPY_MODEL_b85f8c5402904bc69e51cfdcd9c10e33"
            ],
            "layout": "IPY_MODEL_7161d9bae7ce4acea12b9dc4b81fe7b9"
          }
        },
        "1a6b9c2ab07c4d60b5acced7b49ea7f4": {
          "model_module": "@jupyter-widgets/controls",
          "model_name": "HTMLModel",
          "model_module_version": "1.5.0",
          "state": {
            "_dom_classes": [],
            "_model_module": "@jupyter-widgets/controls",
            "_model_module_version": "1.5.0",
            "_model_name": "HTMLModel",
            "_view_count": null,
            "_view_module": "@jupyter-widgets/controls",
            "_view_module_version": "1.5.0",
            "_view_name": "HTMLView",
            "description": "",
            "description_tooltip": null,
            "layout": "IPY_MODEL_1795fe5e8eb24986a0262d8ad6576317",
            "placeholder": "​",
            "style": "IPY_MODEL_115437baa5a34252b90a37cea3980a90",
            "value": "Summarize dataset: 100%"
          }
        },
        "0ba2d6cc99b8486aa1a1a16860fe7a79": {
          "model_module": "@jupyter-widgets/controls",
          "model_name": "FloatProgressModel",
          "model_module_version": "1.5.0",
          "state": {
            "_dom_classes": [],
            "_model_module": "@jupyter-widgets/controls",
            "_model_module_version": "1.5.0",
            "_model_name": "FloatProgressModel",
            "_view_count": null,
            "_view_module": "@jupyter-widgets/controls",
            "_view_module_version": "1.5.0",
            "_view_name": "ProgressView",
            "bar_style": "success",
            "description": "",
            "description_tooltip": null,
            "layout": "IPY_MODEL_f64891eb17e74d7dada79137ab17faa3",
            "max": 5,
            "min": 0,
            "orientation": "horizontal",
            "style": "IPY_MODEL_14cac469f2ae46209c7a08656a6a4af8",
            "value": 5
          }
        },
        "b85f8c5402904bc69e51cfdcd9c10e33": {
          "model_module": "@jupyter-widgets/controls",
          "model_name": "HTMLModel",
          "model_module_version": "1.5.0",
          "state": {
            "_dom_classes": [],
            "_model_module": "@jupyter-widgets/controls",
            "_model_module_version": "1.5.0",
            "_model_name": "HTMLModel",
            "_view_count": null,
            "_view_module": "@jupyter-widgets/controls",
            "_view_module_version": "1.5.0",
            "_view_name": "HTMLView",
            "description": "",
            "description_tooltip": null,
            "layout": "IPY_MODEL_2979bb303bf04026a155e6cc278783eb",
            "placeholder": "​",
            "style": "IPY_MODEL_f64c870142594a54937a447c6486c9bc",
            "value": " 41/41 [00:02&lt;00:00, 19.00it/s, Completed]"
          }
        },
        "7161d9bae7ce4acea12b9dc4b81fe7b9": {
          "model_module": "@jupyter-widgets/base",
          "model_name": "LayoutModel",
          "model_module_version": "1.2.0",
          "state": {
            "_model_module": "@jupyter-widgets/base",
            "_model_module_version": "1.2.0",
            "_model_name": "LayoutModel",
            "_view_count": null,
            "_view_module": "@jupyter-widgets/base",
            "_view_module_version": "1.2.0",
            "_view_name": "LayoutView",
            "align_content": null,
            "align_items": null,
            "align_self": null,
            "border": null,
            "bottom": null,
            "display": null,
            "flex": null,
            "flex_flow": null,
            "grid_area": null,
            "grid_auto_columns": null,
            "grid_auto_flow": null,
            "grid_auto_rows": null,
            "grid_column": null,
            "grid_gap": null,
            "grid_row": null,
            "grid_template_areas": null,
            "grid_template_columns": null,
            "grid_template_rows": null,
            "height": null,
            "justify_content": null,
            "justify_items": null,
            "left": null,
            "margin": null,
            "max_height": null,
            "max_width": null,
            "min_height": null,
            "min_width": null,
            "object_fit": null,
            "object_position": null,
            "order": null,
            "overflow": null,
            "overflow_x": null,
            "overflow_y": null,
            "padding": null,
            "right": null,
            "top": null,
            "visibility": null,
            "width": null
          }
        },
        "1795fe5e8eb24986a0262d8ad6576317": {
          "model_module": "@jupyter-widgets/base",
          "model_name": "LayoutModel",
          "model_module_version": "1.2.0",
          "state": {
            "_model_module": "@jupyter-widgets/base",
            "_model_module_version": "1.2.0",
            "_model_name": "LayoutModel",
            "_view_count": null,
            "_view_module": "@jupyter-widgets/base",
            "_view_module_version": "1.2.0",
            "_view_name": "LayoutView",
            "align_content": null,
            "align_items": null,
            "align_self": null,
            "border": null,
            "bottom": null,
            "display": null,
            "flex": null,
            "flex_flow": null,
            "grid_area": null,
            "grid_auto_columns": null,
            "grid_auto_flow": null,
            "grid_auto_rows": null,
            "grid_column": null,
            "grid_gap": null,
            "grid_row": null,
            "grid_template_areas": null,
            "grid_template_columns": null,
            "grid_template_rows": null,
            "height": null,
            "justify_content": null,
            "justify_items": null,
            "left": null,
            "margin": null,
            "max_height": null,
            "max_width": null,
            "min_height": null,
            "min_width": null,
            "object_fit": null,
            "object_position": null,
            "order": null,
            "overflow": null,
            "overflow_x": null,
            "overflow_y": null,
            "padding": null,
            "right": null,
            "top": null,
            "visibility": null,
            "width": null
          }
        },
        "115437baa5a34252b90a37cea3980a90": {
          "model_module": "@jupyter-widgets/controls",
          "model_name": "DescriptionStyleModel",
          "model_module_version": "1.5.0",
          "state": {
            "_model_module": "@jupyter-widgets/controls",
            "_model_module_version": "1.5.0",
            "_model_name": "DescriptionStyleModel",
            "_view_count": null,
            "_view_module": "@jupyter-widgets/base",
            "_view_module_version": "1.2.0",
            "_view_name": "StyleView",
            "description_width": ""
          }
        },
        "f64891eb17e74d7dada79137ab17faa3": {
          "model_module": "@jupyter-widgets/base",
          "model_name": "LayoutModel",
          "model_module_version": "1.2.0",
          "state": {
            "_model_module": "@jupyter-widgets/base",
            "_model_module_version": "1.2.0",
            "_model_name": "LayoutModel",
            "_view_count": null,
            "_view_module": "@jupyter-widgets/base",
            "_view_module_version": "1.2.0",
            "_view_name": "LayoutView",
            "align_content": null,
            "align_items": null,
            "align_self": null,
            "border": null,
            "bottom": null,
            "display": null,
            "flex": null,
            "flex_flow": null,
            "grid_area": null,
            "grid_auto_columns": null,
            "grid_auto_flow": null,
            "grid_auto_rows": null,
            "grid_column": null,
            "grid_gap": null,
            "grid_row": null,
            "grid_template_areas": null,
            "grid_template_columns": null,
            "grid_template_rows": null,
            "height": null,
            "justify_content": null,
            "justify_items": null,
            "left": null,
            "margin": null,
            "max_height": null,
            "max_width": null,
            "min_height": null,
            "min_width": null,
            "object_fit": null,
            "object_position": null,
            "order": null,
            "overflow": null,
            "overflow_x": null,
            "overflow_y": null,
            "padding": null,
            "right": null,
            "top": null,
            "visibility": null,
            "width": null
          }
        },
        "14cac469f2ae46209c7a08656a6a4af8": {
          "model_module": "@jupyter-widgets/controls",
          "model_name": "ProgressStyleModel",
          "model_module_version": "1.5.0",
          "state": {
            "_model_module": "@jupyter-widgets/controls",
            "_model_module_version": "1.5.0",
            "_model_name": "ProgressStyleModel",
            "_view_count": null,
            "_view_module": "@jupyter-widgets/base",
            "_view_module_version": "1.2.0",
            "_view_name": "StyleView",
            "bar_color": null,
            "description_width": ""
          }
        },
        "2979bb303bf04026a155e6cc278783eb": {
          "model_module": "@jupyter-widgets/base",
          "model_name": "LayoutModel",
          "model_module_version": "1.2.0",
          "state": {
            "_model_module": "@jupyter-widgets/base",
            "_model_module_version": "1.2.0",
            "_model_name": "LayoutModel",
            "_view_count": null,
            "_view_module": "@jupyter-widgets/base",
            "_view_module_version": "1.2.0",
            "_view_name": "LayoutView",
            "align_content": null,
            "align_items": null,
            "align_self": null,
            "border": null,
            "bottom": null,
            "display": null,
            "flex": null,
            "flex_flow": null,
            "grid_area": null,
            "grid_auto_columns": null,
            "grid_auto_flow": null,
            "grid_auto_rows": null,
            "grid_column": null,
            "grid_gap": null,
            "grid_row": null,
            "grid_template_areas": null,
            "grid_template_columns": null,
            "grid_template_rows": null,
            "height": null,
            "justify_content": null,
            "justify_items": null,
            "left": null,
            "margin": null,
            "max_height": null,
            "max_width": null,
            "min_height": null,
            "min_width": null,
            "object_fit": null,
            "object_position": null,
            "order": null,
            "overflow": null,
            "overflow_x": null,
            "overflow_y": null,
            "padding": null,
            "right": null,
            "top": null,
            "visibility": null,
            "width": null
          }
        },
        "f64c870142594a54937a447c6486c9bc": {
          "model_module": "@jupyter-widgets/controls",
          "model_name": "DescriptionStyleModel",
          "model_module_version": "1.5.0",
          "state": {
            "_model_module": "@jupyter-widgets/controls",
            "_model_module_version": "1.5.0",
            "_model_name": "DescriptionStyleModel",
            "_view_count": null,
            "_view_module": "@jupyter-widgets/base",
            "_view_module_version": "1.2.0",
            "_view_name": "StyleView",
            "description_width": ""
          }
        },
        "111b1f69a5184eeba5e19c9f05fa4627": {
          "model_module": "@jupyter-widgets/controls",
          "model_name": "HBoxModel",
          "model_module_version": "1.5.0",
          "state": {
            "_dom_classes": [],
            "_model_module": "@jupyter-widgets/controls",
            "_model_module_version": "1.5.0",
            "_model_name": "HBoxModel",
            "_view_count": null,
            "_view_module": "@jupyter-widgets/controls",
            "_view_module_version": "1.5.0",
            "_view_name": "HBoxView",
            "box_style": "",
            "children": [
              "IPY_MODEL_a1ec9d0b8cac460da729a78f758f1e0f",
              "IPY_MODEL_708f9083f05d4c12a462f6ca62864fcb",
              "IPY_MODEL_76a7f462b4a941ee8cb94b8ad2b0930b"
            ],
            "layout": "IPY_MODEL_e8ee0c9bc3044083b0a10ec28dfa34ab"
          }
        },
        "a1ec9d0b8cac460da729a78f758f1e0f": {
          "model_module": "@jupyter-widgets/controls",
          "model_name": "HTMLModel",
          "model_module_version": "1.5.0",
          "state": {
            "_dom_classes": [],
            "_model_module": "@jupyter-widgets/controls",
            "_model_module_version": "1.5.0",
            "_model_name": "HTMLModel",
            "_view_count": null,
            "_view_module": "@jupyter-widgets/controls",
            "_view_module_version": "1.5.0",
            "_view_name": "HTMLView",
            "description": "",
            "description_tooltip": null,
            "layout": "IPY_MODEL_8d8162f3fa164d8984dc3f9f376a4fc2",
            "placeholder": "​",
            "style": "IPY_MODEL_ccd18b7ded6b4e53b04726294275c15b",
            "value": "Generate report structure: 100%"
          }
        },
        "708f9083f05d4c12a462f6ca62864fcb": {
          "model_module": "@jupyter-widgets/controls",
          "model_name": "FloatProgressModel",
          "model_module_version": "1.5.0",
          "state": {
            "_dom_classes": [],
            "_model_module": "@jupyter-widgets/controls",
            "_model_module_version": "1.5.0",
            "_model_name": "FloatProgressModel",
            "_view_count": null,
            "_view_module": "@jupyter-widgets/controls",
            "_view_module_version": "1.5.0",
            "_view_name": "ProgressView",
            "bar_style": "success",
            "description": "",
            "description_tooltip": null,
            "layout": "IPY_MODEL_f329f42ba07b46c89b367aca2fb237af",
            "max": 1,
            "min": 0,
            "orientation": "horizontal",
            "style": "IPY_MODEL_0bb404ecb884499ca992175883c6a967",
            "value": 1
          }
        },
        "76a7f462b4a941ee8cb94b8ad2b0930b": {
          "model_module": "@jupyter-widgets/controls",
          "model_name": "HTMLModel",
          "model_module_version": "1.5.0",
          "state": {
            "_dom_classes": [],
            "_model_module": "@jupyter-widgets/controls",
            "_model_module_version": "1.5.0",
            "_model_name": "HTMLModel",
            "_view_count": null,
            "_view_module": "@jupyter-widgets/controls",
            "_view_module_version": "1.5.0",
            "_view_name": "HTMLView",
            "description": "",
            "description_tooltip": null,
            "layout": "IPY_MODEL_37e6a5ae511b4587bee191ba91e4db70",
            "placeholder": "​",
            "style": "IPY_MODEL_5a2c9369021b40fead643ee32b5830a1",
            "value": " 1/1 [00:10&lt;00:00, 10.59s/it]"
          }
        },
        "e8ee0c9bc3044083b0a10ec28dfa34ab": {
          "model_module": "@jupyter-widgets/base",
          "model_name": "LayoutModel",
          "model_module_version": "1.2.0",
          "state": {
            "_model_module": "@jupyter-widgets/base",
            "_model_module_version": "1.2.0",
            "_model_name": "LayoutModel",
            "_view_count": null,
            "_view_module": "@jupyter-widgets/base",
            "_view_module_version": "1.2.0",
            "_view_name": "LayoutView",
            "align_content": null,
            "align_items": null,
            "align_self": null,
            "border": null,
            "bottom": null,
            "display": null,
            "flex": null,
            "flex_flow": null,
            "grid_area": null,
            "grid_auto_columns": null,
            "grid_auto_flow": null,
            "grid_auto_rows": null,
            "grid_column": null,
            "grid_gap": null,
            "grid_row": null,
            "grid_template_areas": null,
            "grid_template_columns": null,
            "grid_template_rows": null,
            "height": null,
            "justify_content": null,
            "justify_items": null,
            "left": null,
            "margin": null,
            "max_height": null,
            "max_width": null,
            "min_height": null,
            "min_width": null,
            "object_fit": null,
            "object_position": null,
            "order": null,
            "overflow": null,
            "overflow_x": null,
            "overflow_y": null,
            "padding": null,
            "right": null,
            "top": null,
            "visibility": null,
            "width": null
          }
        },
        "8d8162f3fa164d8984dc3f9f376a4fc2": {
          "model_module": "@jupyter-widgets/base",
          "model_name": "LayoutModel",
          "model_module_version": "1.2.0",
          "state": {
            "_model_module": "@jupyter-widgets/base",
            "_model_module_version": "1.2.0",
            "_model_name": "LayoutModel",
            "_view_count": null,
            "_view_module": "@jupyter-widgets/base",
            "_view_module_version": "1.2.0",
            "_view_name": "LayoutView",
            "align_content": null,
            "align_items": null,
            "align_self": null,
            "border": null,
            "bottom": null,
            "display": null,
            "flex": null,
            "flex_flow": null,
            "grid_area": null,
            "grid_auto_columns": null,
            "grid_auto_flow": null,
            "grid_auto_rows": null,
            "grid_column": null,
            "grid_gap": null,
            "grid_row": null,
            "grid_template_areas": null,
            "grid_template_columns": null,
            "grid_template_rows": null,
            "height": null,
            "justify_content": null,
            "justify_items": null,
            "left": null,
            "margin": null,
            "max_height": null,
            "max_width": null,
            "min_height": null,
            "min_width": null,
            "object_fit": null,
            "object_position": null,
            "order": null,
            "overflow": null,
            "overflow_x": null,
            "overflow_y": null,
            "padding": null,
            "right": null,
            "top": null,
            "visibility": null,
            "width": null
          }
        },
        "ccd18b7ded6b4e53b04726294275c15b": {
          "model_module": "@jupyter-widgets/controls",
          "model_name": "DescriptionStyleModel",
          "model_module_version": "1.5.0",
          "state": {
            "_model_module": "@jupyter-widgets/controls",
            "_model_module_version": "1.5.0",
            "_model_name": "DescriptionStyleModel",
            "_view_count": null,
            "_view_module": "@jupyter-widgets/base",
            "_view_module_version": "1.2.0",
            "_view_name": "StyleView",
            "description_width": ""
          }
        },
        "f329f42ba07b46c89b367aca2fb237af": {
          "model_module": "@jupyter-widgets/base",
          "model_name": "LayoutModel",
          "model_module_version": "1.2.0",
          "state": {
            "_model_module": "@jupyter-widgets/base",
            "_model_module_version": "1.2.0",
            "_model_name": "LayoutModel",
            "_view_count": null,
            "_view_module": "@jupyter-widgets/base",
            "_view_module_version": "1.2.0",
            "_view_name": "LayoutView",
            "align_content": null,
            "align_items": null,
            "align_self": null,
            "border": null,
            "bottom": null,
            "display": null,
            "flex": null,
            "flex_flow": null,
            "grid_area": null,
            "grid_auto_columns": null,
            "grid_auto_flow": null,
            "grid_auto_rows": null,
            "grid_column": null,
            "grid_gap": null,
            "grid_row": null,
            "grid_template_areas": null,
            "grid_template_columns": null,
            "grid_template_rows": null,
            "height": null,
            "justify_content": null,
            "justify_items": null,
            "left": null,
            "margin": null,
            "max_height": null,
            "max_width": null,
            "min_height": null,
            "min_width": null,
            "object_fit": null,
            "object_position": null,
            "order": null,
            "overflow": null,
            "overflow_x": null,
            "overflow_y": null,
            "padding": null,
            "right": null,
            "top": null,
            "visibility": null,
            "width": null
          }
        },
        "0bb404ecb884499ca992175883c6a967": {
          "model_module": "@jupyter-widgets/controls",
          "model_name": "ProgressStyleModel",
          "model_module_version": "1.5.0",
          "state": {
            "_model_module": "@jupyter-widgets/controls",
            "_model_module_version": "1.5.0",
            "_model_name": "ProgressStyleModel",
            "_view_count": null,
            "_view_module": "@jupyter-widgets/base",
            "_view_module_version": "1.2.0",
            "_view_name": "StyleView",
            "bar_color": null,
            "description_width": ""
          }
        },
        "37e6a5ae511b4587bee191ba91e4db70": {
          "model_module": "@jupyter-widgets/base",
          "model_name": "LayoutModel",
          "model_module_version": "1.2.0",
          "state": {
            "_model_module": "@jupyter-widgets/base",
            "_model_module_version": "1.2.0",
            "_model_name": "LayoutModel",
            "_view_count": null,
            "_view_module": "@jupyter-widgets/base",
            "_view_module_version": "1.2.0",
            "_view_name": "LayoutView",
            "align_content": null,
            "align_items": null,
            "align_self": null,
            "border": null,
            "bottom": null,
            "display": null,
            "flex": null,
            "flex_flow": null,
            "grid_area": null,
            "grid_auto_columns": null,
            "grid_auto_flow": null,
            "grid_auto_rows": null,
            "grid_column": null,
            "grid_gap": null,
            "grid_row": null,
            "grid_template_areas": null,
            "grid_template_columns": null,
            "grid_template_rows": null,
            "height": null,
            "justify_content": null,
            "justify_items": null,
            "left": null,
            "margin": null,
            "max_height": null,
            "max_width": null,
            "min_height": null,
            "min_width": null,
            "object_fit": null,
            "object_position": null,
            "order": null,
            "overflow": null,
            "overflow_x": null,
            "overflow_y": null,
            "padding": null,
            "right": null,
            "top": null,
            "visibility": null,
            "width": null
          }
        },
        "5a2c9369021b40fead643ee32b5830a1": {
          "model_module": "@jupyter-widgets/controls",
          "model_name": "DescriptionStyleModel",
          "model_module_version": "1.5.0",
          "state": {
            "_model_module": "@jupyter-widgets/controls",
            "_model_module_version": "1.5.0",
            "_model_name": "DescriptionStyleModel",
            "_view_count": null,
            "_view_module": "@jupyter-widgets/base",
            "_view_module_version": "1.2.0",
            "_view_name": "StyleView",
            "description_width": ""
          }
        },
        "a996fae43cb545078b62c075df0d6f6b": {
          "model_module": "@jupyter-widgets/controls",
          "model_name": "HBoxModel",
          "model_module_version": "1.5.0",
          "state": {
            "_dom_classes": [],
            "_model_module": "@jupyter-widgets/controls",
            "_model_module_version": "1.5.0",
            "_model_name": "HBoxModel",
            "_view_count": null,
            "_view_module": "@jupyter-widgets/controls",
            "_view_module_version": "1.5.0",
            "_view_name": "HBoxView",
            "box_style": "",
            "children": [
              "IPY_MODEL_a76680a8a679491c8de2b7e5cca5ac08",
              "IPY_MODEL_1cd588f7886445b59293fda9f23e9a7f",
              "IPY_MODEL_4ae2e49bb0f84bff8dcf5577cd41c8cc"
            ],
            "layout": "IPY_MODEL_5e63fb09d4984492ba03863c36af467e"
          }
        },
        "a76680a8a679491c8de2b7e5cca5ac08": {
          "model_module": "@jupyter-widgets/controls",
          "model_name": "HTMLModel",
          "model_module_version": "1.5.0",
          "state": {
            "_dom_classes": [],
            "_model_module": "@jupyter-widgets/controls",
            "_model_module_version": "1.5.0",
            "_model_name": "HTMLModel",
            "_view_count": null,
            "_view_module": "@jupyter-widgets/controls",
            "_view_module_version": "1.5.0",
            "_view_name": "HTMLView",
            "description": "",
            "description_tooltip": null,
            "layout": "IPY_MODEL_8a1ae4308d2446e3806b64eaa9c5eb30",
            "placeholder": "​",
            "style": "IPY_MODEL_9189af373432465386abe216622dfcba",
            "value": "Render HTML: 100%"
          }
        },
        "1cd588f7886445b59293fda9f23e9a7f": {
          "model_module": "@jupyter-widgets/controls",
          "model_name": "FloatProgressModel",
          "model_module_version": "1.5.0",
          "state": {
            "_dom_classes": [],
            "_model_module": "@jupyter-widgets/controls",
            "_model_module_version": "1.5.0",
            "_model_name": "FloatProgressModel",
            "_view_count": null,
            "_view_module": "@jupyter-widgets/controls",
            "_view_module_version": "1.5.0",
            "_view_name": "ProgressView",
            "bar_style": "success",
            "description": "",
            "description_tooltip": null,
            "layout": "IPY_MODEL_875994423df84944a7fca0b61a8f863c",
            "max": 1,
            "min": 0,
            "orientation": "horizontal",
            "style": "IPY_MODEL_667d06146f504e6eb27a6910bfb5e2bf",
            "value": 1
          }
        },
        "4ae2e49bb0f84bff8dcf5577cd41c8cc": {
          "model_module": "@jupyter-widgets/controls",
          "model_name": "HTMLModel",
          "model_module_version": "1.5.0",
          "state": {
            "_dom_classes": [],
            "_model_module": "@jupyter-widgets/controls",
            "_model_module_version": "1.5.0",
            "_model_name": "HTMLModel",
            "_view_count": null,
            "_view_module": "@jupyter-widgets/controls",
            "_view_module_version": "1.5.0",
            "_view_name": "HTMLView",
            "description": "",
            "description_tooltip": null,
            "layout": "IPY_MODEL_5711ea12b7064f738b96721a1afcb462",
            "placeholder": "​",
            "style": "IPY_MODEL_eea0c884952140b4b4cfca2a4af66137",
            "value": " 1/1 [00:00&lt;00:00,  1.23it/s]"
          }
        },
        "5e63fb09d4984492ba03863c36af467e": {
          "model_module": "@jupyter-widgets/base",
          "model_name": "LayoutModel",
          "model_module_version": "1.2.0",
          "state": {
            "_model_module": "@jupyter-widgets/base",
            "_model_module_version": "1.2.0",
            "_model_name": "LayoutModel",
            "_view_count": null,
            "_view_module": "@jupyter-widgets/base",
            "_view_module_version": "1.2.0",
            "_view_name": "LayoutView",
            "align_content": null,
            "align_items": null,
            "align_self": null,
            "border": null,
            "bottom": null,
            "display": null,
            "flex": null,
            "flex_flow": null,
            "grid_area": null,
            "grid_auto_columns": null,
            "grid_auto_flow": null,
            "grid_auto_rows": null,
            "grid_column": null,
            "grid_gap": null,
            "grid_row": null,
            "grid_template_areas": null,
            "grid_template_columns": null,
            "grid_template_rows": null,
            "height": null,
            "justify_content": null,
            "justify_items": null,
            "left": null,
            "margin": null,
            "max_height": null,
            "max_width": null,
            "min_height": null,
            "min_width": null,
            "object_fit": null,
            "object_position": null,
            "order": null,
            "overflow": null,
            "overflow_x": null,
            "overflow_y": null,
            "padding": null,
            "right": null,
            "top": null,
            "visibility": null,
            "width": null
          }
        },
        "8a1ae4308d2446e3806b64eaa9c5eb30": {
          "model_module": "@jupyter-widgets/base",
          "model_name": "LayoutModel",
          "model_module_version": "1.2.0",
          "state": {
            "_model_module": "@jupyter-widgets/base",
            "_model_module_version": "1.2.0",
            "_model_name": "LayoutModel",
            "_view_count": null,
            "_view_module": "@jupyter-widgets/base",
            "_view_module_version": "1.2.0",
            "_view_name": "LayoutView",
            "align_content": null,
            "align_items": null,
            "align_self": null,
            "border": null,
            "bottom": null,
            "display": null,
            "flex": null,
            "flex_flow": null,
            "grid_area": null,
            "grid_auto_columns": null,
            "grid_auto_flow": null,
            "grid_auto_rows": null,
            "grid_column": null,
            "grid_gap": null,
            "grid_row": null,
            "grid_template_areas": null,
            "grid_template_columns": null,
            "grid_template_rows": null,
            "height": null,
            "justify_content": null,
            "justify_items": null,
            "left": null,
            "margin": null,
            "max_height": null,
            "max_width": null,
            "min_height": null,
            "min_width": null,
            "object_fit": null,
            "object_position": null,
            "order": null,
            "overflow": null,
            "overflow_x": null,
            "overflow_y": null,
            "padding": null,
            "right": null,
            "top": null,
            "visibility": null,
            "width": null
          }
        },
        "9189af373432465386abe216622dfcba": {
          "model_module": "@jupyter-widgets/controls",
          "model_name": "DescriptionStyleModel",
          "model_module_version": "1.5.0",
          "state": {
            "_model_module": "@jupyter-widgets/controls",
            "_model_module_version": "1.5.0",
            "_model_name": "DescriptionStyleModel",
            "_view_count": null,
            "_view_module": "@jupyter-widgets/base",
            "_view_module_version": "1.2.0",
            "_view_name": "StyleView",
            "description_width": ""
          }
        },
        "875994423df84944a7fca0b61a8f863c": {
          "model_module": "@jupyter-widgets/base",
          "model_name": "LayoutModel",
          "model_module_version": "1.2.0",
          "state": {
            "_model_module": "@jupyter-widgets/base",
            "_model_module_version": "1.2.0",
            "_model_name": "LayoutModel",
            "_view_count": null,
            "_view_module": "@jupyter-widgets/base",
            "_view_module_version": "1.2.0",
            "_view_name": "LayoutView",
            "align_content": null,
            "align_items": null,
            "align_self": null,
            "border": null,
            "bottom": null,
            "display": null,
            "flex": null,
            "flex_flow": null,
            "grid_area": null,
            "grid_auto_columns": null,
            "grid_auto_flow": null,
            "grid_auto_rows": null,
            "grid_column": null,
            "grid_gap": null,
            "grid_row": null,
            "grid_template_areas": null,
            "grid_template_columns": null,
            "grid_template_rows": null,
            "height": null,
            "justify_content": null,
            "justify_items": null,
            "left": null,
            "margin": null,
            "max_height": null,
            "max_width": null,
            "min_height": null,
            "min_width": null,
            "object_fit": null,
            "object_position": null,
            "order": null,
            "overflow": null,
            "overflow_x": null,
            "overflow_y": null,
            "padding": null,
            "right": null,
            "top": null,
            "visibility": null,
            "width": null
          }
        },
        "667d06146f504e6eb27a6910bfb5e2bf": {
          "model_module": "@jupyter-widgets/controls",
          "model_name": "ProgressStyleModel",
          "model_module_version": "1.5.0",
          "state": {
            "_model_module": "@jupyter-widgets/controls",
            "_model_module_version": "1.5.0",
            "_model_name": "ProgressStyleModel",
            "_view_count": null,
            "_view_module": "@jupyter-widgets/base",
            "_view_module_version": "1.2.0",
            "_view_name": "StyleView",
            "bar_color": null,
            "description_width": ""
          }
        },
        "5711ea12b7064f738b96721a1afcb462": {
          "model_module": "@jupyter-widgets/base",
          "model_name": "LayoutModel",
          "model_module_version": "1.2.0",
          "state": {
            "_model_module": "@jupyter-widgets/base",
            "_model_module_version": "1.2.0",
            "_model_name": "LayoutModel",
            "_view_count": null,
            "_view_module": "@jupyter-widgets/base",
            "_view_module_version": "1.2.0",
            "_view_name": "LayoutView",
            "align_content": null,
            "align_items": null,
            "align_self": null,
            "border": null,
            "bottom": null,
            "display": null,
            "flex": null,
            "flex_flow": null,
            "grid_area": null,
            "grid_auto_columns": null,
            "grid_auto_flow": null,
            "grid_auto_rows": null,
            "grid_column": null,
            "grid_gap": null,
            "grid_row": null,
            "grid_template_areas": null,
            "grid_template_columns": null,
            "grid_template_rows": null,
            "height": null,
            "justify_content": null,
            "justify_items": null,
            "left": null,
            "margin": null,
            "max_height": null,
            "max_width": null,
            "min_height": null,
            "min_width": null,
            "object_fit": null,
            "object_position": null,
            "order": null,
            "overflow": null,
            "overflow_x": null,
            "overflow_y": null,
            "padding": null,
            "right": null,
            "top": null,
            "visibility": null,
            "width": null
          }
        },
        "eea0c884952140b4b4cfca2a4af66137": {
          "model_module": "@jupyter-widgets/controls",
          "model_name": "DescriptionStyleModel",
          "model_module_version": "1.5.0",
          "state": {
            "_model_module": "@jupyter-widgets/controls",
            "_model_module_version": "1.5.0",
            "_model_name": "DescriptionStyleModel",
            "_view_count": null,
            "_view_module": "@jupyter-widgets/base",
            "_view_module_version": "1.2.0",
            "_view_name": "StyleView",
            "description_width": ""
          }
        },
        "e4e9794e83ca4029acdd8e2eae7d7908": {
          "model_module": "@jupyter-widgets/controls",
          "model_name": "HBoxModel",
          "model_module_version": "1.5.0",
          "state": {
            "_dom_classes": [],
            "_model_module": "@jupyter-widgets/controls",
            "_model_module_version": "1.5.0",
            "_model_name": "HBoxModel",
            "_view_count": null,
            "_view_module": "@jupyter-widgets/controls",
            "_view_module_version": "1.5.0",
            "_view_name": "HBoxView",
            "box_style": "",
            "children": [
              "IPY_MODEL_4da5532786f643cb9fbce52a6520ae5b",
              "IPY_MODEL_38861e6978264c6fa0500a922a718ba1",
              "IPY_MODEL_b79213d172584e0da05ee73e5511f2ca"
            ],
            "layout": "IPY_MODEL_7c767ab6cf8f4784aa8ca640d9b54056"
          }
        },
        "4da5532786f643cb9fbce52a6520ae5b": {
          "model_module": "@jupyter-widgets/controls",
          "model_name": "HTMLModel",
          "model_module_version": "1.5.0",
          "state": {
            "_dom_classes": [],
            "_model_module": "@jupyter-widgets/controls",
            "_model_module_version": "1.5.0",
            "_model_name": "HTMLModel",
            "_view_count": null,
            "_view_module": "@jupyter-widgets/controls",
            "_view_module_version": "1.5.0",
            "_view_name": "HTMLView",
            "description": "",
            "description_tooltip": null,
            "layout": "IPY_MODEL_51a445ec475941bca7724d327461c3e7",
            "placeholder": "​",
            "style": "IPY_MODEL_34fbe098670943e4afdf3e7d4daa5dda",
            "value": "Export report to file: 100%"
          }
        },
        "38861e6978264c6fa0500a922a718ba1": {
          "model_module": "@jupyter-widgets/controls",
          "model_name": "FloatProgressModel",
          "model_module_version": "1.5.0",
          "state": {
            "_dom_classes": [],
            "_model_module": "@jupyter-widgets/controls",
            "_model_module_version": "1.5.0",
            "_model_name": "FloatProgressModel",
            "_view_count": null,
            "_view_module": "@jupyter-widgets/controls",
            "_view_module_version": "1.5.0",
            "_view_name": "ProgressView",
            "bar_style": "success",
            "description": "",
            "description_tooltip": null,
            "layout": "IPY_MODEL_f3d77f48b1a34a2e982127aeef5f6ede",
            "max": 1,
            "min": 0,
            "orientation": "horizontal",
            "style": "IPY_MODEL_3596c163753d49f3859c3c3a3cc45001",
            "value": 1
          }
        },
        "b79213d172584e0da05ee73e5511f2ca": {
          "model_module": "@jupyter-widgets/controls",
          "model_name": "HTMLModel",
          "model_module_version": "1.5.0",
          "state": {
            "_dom_classes": [],
            "_model_module": "@jupyter-widgets/controls",
            "_model_module_version": "1.5.0",
            "_model_name": "HTMLModel",
            "_view_count": null,
            "_view_module": "@jupyter-widgets/controls",
            "_view_module_version": "1.5.0",
            "_view_name": "HTMLView",
            "description": "",
            "description_tooltip": null,
            "layout": "IPY_MODEL_f009f69185ed4463a150818b30b7b8e9",
            "placeholder": "​",
            "style": "IPY_MODEL_dfedd2d1f575433b88a59fb23a6f4037",
            "value": " 1/1 [00:00&lt;00:00, 38.46it/s]"
          }
        },
        "7c767ab6cf8f4784aa8ca640d9b54056": {
          "model_module": "@jupyter-widgets/base",
          "model_name": "LayoutModel",
          "model_module_version": "1.2.0",
          "state": {
            "_model_module": "@jupyter-widgets/base",
            "_model_module_version": "1.2.0",
            "_model_name": "LayoutModel",
            "_view_count": null,
            "_view_module": "@jupyter-widgets/base",
            "_view_module_version": "1.2.0",
            "_view_name": "LayoutView",
            "align_content": null,
            "align_items": null,
            "align_self": null,
            "border": null,
            "bottom": null,
            "display": null,
            "flex": null,
            "flex_flow": null,
            "grid_area": null,
            "grid_auto_columns": null,
            "grid_auto_flow": null,
            "grid_auto_rows": null,
            "grid_column": null,
            "grid_gap": null,
            "grid_row": null,
            "grid_template_areas": null,
            "grid_template_columns": null,
            "grid_template_rows": null,
            "height": null,
            "justify_content": null,
            "justify_items": null,
            "left": null,
            "margin": null,
            "max_height": null,
            "max_width": null,
            "min_height": null,
            "min_width": null,
            "object_fit": null,
            "object_position": null,
            "order": null,
            "overflow": null,
            "overflow_x": null,
            "overflow_y": null,
            "padding": null,
            "right": null,
            "top": null,
            "visibility": null,
            "width": null
          }
        },
        "51a445ec475941bca7724d327461c3e7": {
          "model_module": "@jupyter-widgets/base",
          "model_name": "LayoutModel",
          "model_module_version": "1.2.0",
          "state": {
            "_model_module": "@jupyter-widgets/base",
            "_model_module_version": "1.2.0",
            "_model_name": "LayoutModel",
            "_view_count": null,
            "_view_module": "@jupyter-widgets/base",
            "_view_module_version": "1.2.0",
            "_view_name": "LayoutView",
            "align_content": null,
            "align_items": null,
            "align_self": null,
            "border": null,
            "bottom": null,
            "display": null,
            "flex": null,
            "flex_flow": null,
            "grid_area": null,
            "grid_auto_columns": null,
            "grid_auto_flow": null,
            "grid_auto_rows": null,
            "grid_column": null,
            "grid_gap": null,
            "grid_row": null,
            "grid_template_areas": null,
            "grid_template_columns": null,
            "grid_template_rows": null,
            "height": null,
            "justify_content": null,
            "justify_items": null,
            "left": null,
            "margin": null,
            "max_height": null,
            "max_width": null,
            "min_height": null,
            "min_width": null,
            "object_fit": null,
            "object_position": null,
            "order": null,
            "overflow": null,
            "overflow_x": null,
            "overflow_y": null,
            "padding": null,
            "right": null,
            "top": null,
            "visibility": null,
            "width": null
          }
        },
        "34fbe098670943e4afdf3e7d4daa5dda": {
          "model_module": "@jupyter-widgets/controls",
          "model_name": "DescriptionStyleModel",
          "model_module_version": "1.5.0",
          "state": {
            "_model_module": "@jupyter-widgets/controls",
            "_model_module_version": "1.5.0",
            "_model_name": "DescriptionStyleModel",
            "_view_count": null,
            "_view_module": "@jupyter-widgets/base",
            "_view_module_version": "1.2.0",
            "_view_name": "StyleView",
            "description_width": ""
          }
        },
        "f3d77f48b1a34a2e982127aeef5f6ede": {
          "model_module": "@jupyter-widgets/base",
          "model_name": "LayoutModel",
          "model_module_version": "1.2.0",
          "state": {
            "_model_module": "@jupyter-widgets/base",
            "_model_module_version": "1.2.0",
            "_model_name": "LayoutModel",
            "_view_count": null,
            "_view_module": "@jupyter-widgets/base",
            "_view_module_version": "1.2.0",
            "_view_name": "LayoutView",
            "align_content": null,
            "align_items": null,
            "align_self": null,
            "border": null,
            "bottom": null,
            "display": null,
            "flex": null,
            "flex_flow": null,
            "grid_area": null,
            "grid_auto_columns": null,
            "grid_auto_flow": null,
            "grid_auto_rows": null,
            "grid_column": null,
            "grid_gap": null,
            "grid_row": null,
            "grid_template_areas": null,
            "grid_template_columns": null,
            "grid_template_rows": null,
            "height": null,
            "justify_content": null,
            "justify_items": null,
            "left": null,
            "margin": null,
            "max_height": null,
            "max_width": null,
            "min_height": null,
            "min_width": null,
            "object_fit": null,
            "object_position": null,
            "order": null,
            "overflow": null,
            "overflow_x": null,
            "overflow_y": null,
            "padding": null,
            "right": null,
            "top": null,
            "visibility": null,
            "width": null
          }
        },
        "3596c163753d49f3859c3c3a3cc45001": {
          "model_module": "@jupyter-widgets/controls",
          "model_name": "ProgressStyleModel",
          "model_module_version": "1.5.0",
          "state": {
            "_model_module": "@jupyter-widgets/controls",
            "_model_module_version": "1.5.0",
            "_model_name": "ProgressStyleModel",
            "_view_count": null,
            "_view_module": "@jupyter-widgets/base",
            "_view_module_version": "1.2.0",
            "_view_name": "StyleView",
            "bar_color": null,
            "description_width": ""
          }
        },
        "f009f69185ed4463a150818b30b7b8e9": {
          "model_module": "@jupyter-widgets/base",
          "model_name": "LayoutModel",
          "model_module_version": "1.2.0",
          "state": {
            "_model_module": "@jupyter-widgets/base",
            "_model_module_version": "1.2.0",
            "_model_name": "LayoutModel",
            "_view_count": null,
            "_view_module": "@jupyter-widgets/base",
            "_view_module_version": "1.2.0",
            "_view_name": "LayoutView",
            "align_content": null,
            "align_items": null,
            "align_self": null,
            "border": null,
            "bottom": null,
            "display": null,
            "flex": null,
            "flex_flow": null,
            "grid_area": null,
            "grid_auto_columns": null,
            "grid_auto_flow": null,
            "grid_auto_rows": null,
            "grid_column": null,
            "grid_gap": null,
            "grid_row": null,
            "grid_template_areas": null,
            "grid_template_columns": null,
            "grid_template_rows": null,
            "height": null,
            "justify_content": null,
            "justify_items": null,
            "left": null,
            "margin": null,
            "max_height": null,
            "max_width": null,
            "min_height": null,
            "min_width": null,
            "object_fit": null,
            "object_position": null,
            "order": null,
            "overflow": null,
            "overflow_x": null,
            "overflow_y": null,
            "padding": null,
            "right": null,
            "top": null,
            "visibility": null,
            "width": null
          }
        },
        "dfedd2d1f575433b88a59fb23a6f4037": {
          "model_module": "@jupyter-widgets/controls",
          "model_name": "DescriptionStyleModel",
          "model_module_version": "1.5.0",
          "state": {
            "_model_module": "@jupyter-widgets/controls",
            "_model_module_version": "1.5.0",
            "_model_name": "DescriptionStyleModel",
            "_view_count": null,
            "_view_module": "@jupyter-widgets/base",
            "_view_module_version": "1.2.0",
            "_view_name": "StyleView",
            "description_width": ""
          }
        }
      }
    }
  },
  "cells": [
    {
      "cell_type": "code",
      "execution_count": 2,
      "metadata": {
        "id": "CD1KmhlhyOwf"
      },
      "outputs": [],
      "source": [
        "import pandas as pd"
      ]
    },
    {
      "cell_type": "code",
      "source": [
        "dataset1 = pd.read_csv('/content/aac_intakes.csv')"
      ],
      "metadata": {
        "id": "SPliIbUyyec9"
      },
      "execution_count": null,
      "outputs": []
    },
    {
      "cell_type": "code",
      "source": [
        "dataset1.info()"
      ],
      "metadata": {
        "colab": {
          "base_uri": "https://localhost:8080/"
        },
        "id": "tD6t2YKKzOLm",
        "outputId": "47317b95-075a-4592-997a-0db43e6ded27"
      },
      "execution_count": null,
      "outputs": [
        {
          "output_type": "stream",
          "name": "stdout",
          "text": [
            "<class 'pandas.core.frame.DataFrame'>\n",
            "RangeIndex: 80187 entries, 0 to 80186\n",
            "Data columns (total 12 columns):\n",
            " #   Column            Non-Null Count  Dtype \n",
            "---  ------            --------------  ----- \n",
            " 0   age_upon_intake   80187 non-null  object\n",
            " 1   animal_id         80187 non-null  object\n",
            " 2   animal_type       80187 non-null  object\n",
            " 3   breed             80187 non-null  object\n",
            " 4   color             80187 non-null  object\n",
            " 5   datetime          80187 non-null  object\n",
            " 6   datetime2         80187 non-null  object\n",
            " 7   found_location    80187 non-null  object\n",
            " 8   intake_condition  80187 non-null  object\n",
            " 9   intake_type       80187 non-null  object\n",
            " 10  name              55603 non-null  object\n",
            " 11  sex_upon_intake   80186 non-null  object\n",
            "dtypes: object(12)\n",
            "memory usage: 7.3+ MB\n"
          ]
        }
      ]
    },
    {
      "cell_type": "code",
      "source": [
        "dataset2 = pd.read_csv('/content/aac_intakes_outcomes.csv')"
      ],
      "metadata": {
        "id": "n2odTPs8zqzT"
      },
      "execution_count": null,
      "outputs": []
    },
    {
      "cell_type": "code",
      "source": [
        "dataset2.info()"
      ],
      "metadata": {
        "colab": {
          "base_uri": "https://localhost:8080/"
        },
        "id": "PGBINxfPz_GE",
        "outputId": "9ab94613-168b-432d-8ce9-7aa6174ef1d0"
      },
      "execution_count": null,
      "outputs": [
        {
          "output_type": "stream",
          "name": "stdout",
          "text": [
            "<class 'pandas.core.frame.DataFrame'>\n",
            "RangeIndex: 79672 entries, 0 to 79671\n",
            "Data columns (total 41 columns):\n",
            " #   Column                      Non-Null Count  Dtype  \n",
            "---  ------                      --------------  -----  \n",
            " 0   age_upon_outcome            79672 non-null  object \n",
            " 1   animal_id_outcome           79672 non-null  object \n",
            " 2   date_of_birth               79672 non-null  object \n",
            " 3   outcome_subtype             36348 non-null  object \n",
            " 4   outcome_type                79662 non-null  object \n",
            " 5   sex_upon_outcome            79671 non-null  object \n",
            " 6   age_upon_outcome_(days)     79672 non-null  int64  \n",
            " 7   age_upon_outcome_(years)    79672 non-null  float64\n",
            " 8   age_upon_outcome_age_group  79672 non-null  object \n",
            " 9   outcome_datetime            79672 non-null  object \n",
            " 10  outcome_month               79672 non-null  int64  \n",
            " 11  outcome_year                79672 non-null  int64  \n",
            " 12  outcome_monthyear           79672 non-null  object \n",
            " 13  outcome_weekday             79672 non-null  object \n",
            " 14  outcome_hour                79672 non-null  int64  \n",
            " 15  outcome_number              79672 non-null  float64\n",
            " 16  dob_year                    79672 non-null  int64  \n",
            " 17  dob_month                   79672 non-null  int64  \n",
            " 18  dob_monthyear               79672 non-null  object \n",
            " 19  age_upon_intake             79672 non-null  object \n",
            " 20  animal_id_intake            79672 non-null  object \n",
            " 21  animal_type                 79672 non-null  object \n",
            " 22  breed                       79672 non-null  object \n",
            " 23  color                       79672 non-null  object \n",
            " 24  found_location              79672 non-null  object \n",
            " 25  intake_condition            79672 non-null  object \n",
            " 26  intake_type                 79672 non-null  object \n",
            " 27  sex_upon_intake             79671 non-null  object \n",
            " 28  count                       79672 non-null  int64  \n",
            " 29  age_upon_intake_(days)      79672 non-null  int64  \n",
            " 30  age_upon_intake_(years)     79672 non-null  float64\n",
            " 31  age_upon_intake_age_group   79672 non-null  object \n",
            " 32  intake_datetime             79672 non-null  object \n",
            " 33  intake_month                79672 non-null  int64  \n",
            " 34  intake_year                 79672 non-null  int64  \n",
            " 35  intake_monthyear            79672 non-null  object \n",
            " 36  intake_weekday              79672 non-null  object \n",
            " 37  intake_hour                 79672 non-null  int64  \n",
            " 38  intake_number               79672 non-null  float64\n",
            " 39  time_in_shelter             79672 non-null  object \n",
            " 40  time_in_shelter_days        79672 non-null  float64\n",
            "dtypes: float64(5), int64(11), object(25)\n",
            "memory usage: 24.9+ MB\n"
          ]
        }
      ]
    },
    {
      "cell_type": "code",
      "source": [
        "dataset3 = pd.read_csv('/content/aac_outcomes.csv')"
      ],
      "metadata": {
        "id": "M_2QXQ6t0AZM"
      },
      "execution_count": null,
      "outputs": []
    },
    {
      "cell_type": "code",
      "source": [
        "dataset3.info()"
      ],
      "metadata": {
        "colab": {
          "base_uri": "https://localhost:8080/"
        },
        "id": "PjUeoxAw0IgM",
        "outputId": "33698a7a-4138-42d5-83b6-e1cd733c2dc9"
      },
      "execution_count": null,
      "outputs": [
        {
          "output_type": "stream",
          "name": "stdout",
          "text": [
            "<class 'pandas.core.frame.DataFrame'>\n",
            "RangeIndex: 80681 entries, 0 to 80680\n",
            "Data columns (total 12 columns):\n",
            " #   Column            Non-Null Count  Dtype \n",
            "---  ------            --------------  ----- \n",
            " 0   age_upon_outcome  80673 non-null  object\n",
            " 1   animal_id         80681 non-null  object\n",
            " 2   animal_type       80681 non-null  object\n",
            " 3   breed             80681 non-null  object\n",
            " 4   color             80681 non-null  object\n",
            " 5   date_of_birth     80681 non-null  object\n",
            " 6   datetime          80681 non-null  object\n",
            " 7   monthyear         80681 non-null  object\n",
            " 8   name              56116 non-null  object\n",
            " 9   outcome_subtype   36893 non-null  object\n",
            " 10  outcome_type      80667 non-null  object\n",
            " 11  sex_upon_outcome  80679 non-null  object\n",
            "dtypes: object(12)\n",
            "memory usage: 7.4+ MB\n"
          ]
        }
      ]
    },
    {
      "cell_type": "code",
      "source": [
        "print(dataset2.iloc[0])"
      ],
      "metadata": {
        "colab": {
          "base_uri": "https://localhost:8080/"
        },
        "id": "6xqXNPt-0Ka-",
        "outputId": "4b697dc2-6199-48a0-887d-d7ee4cafe5fe"
      },
      "execution_count": null,
      "outputs": [
        {
          "output_type": "stream",
          "name": "stdout",
          "text": [
            "age_upon_outcome                                                   10 years\n",
            "animal_id_outcome                                                   A006100\n",
            "date_of_birth                                           2007-07-09 00:00:00\n",
            "outcome_subtype                                                         NaN\n",
            "outcome_type                                                Return to Owner\n",
            "sex_upon_outcome                                              Neutered Male\n",
            "age_upon_outcome_(days)                                                3650\n",
            "age_upon_outcome_(years)                                               10.0\n",
            "age_upon_outcome_age_group                                      (7.5, 10.0]\n",
            "outcome_datetime                                        2017-12-07 14:07:00\n",
            "outcome_month                                                            12\n",
            "outcome_year                                                           2017\n",
            "outcome_monthyear                                                   2017-12\n",
            "outcome_weekday                                                    Thursday\n",
            "outcome_hour                                                              0\n",
            "outcome_number                                                          1.0\n",
            "dob_year                                                               2007\n",
            "dob_month                                                                 7\n",
            "dob_monthyear                                                       2017-12\n",
            "age_upon_intake                                                    10 years\n",
            "animal_id_intake                                                    A006100\n",
            "animal_type                                                             Dog\n",
            "breed                                                  Spinone Italiano Mix\n",
            "color                                                          Yellow/White\n",
            "found_location                Colony Creek And Hunters Trace in Austin (TX)\n",
            "intake_condition                                                     Normal\n",
            "intake_type                                                           Stray\n",
            "sex_upon_intake                                               Neutered Male\n",
            "count                                                                     1\n",
            "age_upon_intake_(days)                                                 3650\n",
            "age_upon_intake_(years)                                                10.0\n",
            "age_upon_intake_age_group                                       (7.5, 10.0]\n",
            "intake_datetime                                         2017-12-07 00:00:00\n",
            "intake_month                                                             12\n",
            "intake_year                                                            2017\n",
            "intake_monthyear                                                    2017-12\n",
            "intake_weekday                                                     Thursday\n",
            "intake_hour                                                              14\n",
            "intake_number                                                           1.0\n",
            "time_in_shelter                                   0 days 14:07:00.000000000\n",
            "time_in_shelter_days                                               0.588194\n",
            "Name: 0, dtype: object\n"
          ]
        }
      ]
    },
    {
      "cell_type": "code",
      "source": [
        "dataset2.head()"
      ],
      "metadata": {
        "colab": {
          "base_uri": "https://localhost:8080/",
          "height": 386
        },
        "id": "xtpAr3zx2CKs",
        "outputId": "1d61447f-159c-4e49-d633-8e7035afe6de"
      },
      "execution_count": null,
      "outputs": [
        {
          "output_type": "execute_result",
          "data": {
            "text/plain": [
              "  age_upon_outcome animal_id_outcome        date_of_birth outcome_subtype  \\\n",
              "0         10 years           A006100  2007-07-09 00:00:00             NaN   \n",
              "1          7 years           A006100  2007-07-09 00:00:00             NaN   \n",
              "2          6 years           A006100  2007-07-09 00:00:00             NaN   \n",
              "3         10 years           A047759  2004-04-02 00:00:00         Partner   \n",
              "4         16 years           A134067  1997-10-16 00:00:00             NaN   \n",
              "\n",
              "      outcome_type sex_upon_outcome  age_upon_outcome_(days)  \\\n",
              "0  Return to Owner    Neutered Male                     3650   \n",
              "1  Return to Owner    Neutered Male                     2555   \n",
              "2  Return to Owner    Neutered Male                     2190   \n",
              "3         Transfer    Neutered Male                     3650   \n",
              "4  Return to Owner    Neutered Male                     5840   \n",
              "\n",
              "   age_upon_outcome_(years) age_upon_outcome_age_group     outcome_datetime  \\\n",
              "0                      10.0                (7.5, 10.0]  2017-12-07 14:07:00   \n",
              "1                       7.0                 (5.0, 7.5]  2014-12-20 16:35:00   \n",
              "2                       6.0                 (5.0, 7.5]  2014-03-08 17:10:00   \n",
              "3                      10.0                (7.5, 10.0]  2014-04-07 15:12:00   \n",
              "4                      16.0               (15.0, 17.5]  2013-11-16 11:54:00   \n",
              "\n",
              "   ...  age_upon_intake_age_group      intake_datetime intake_month  \\\n",
              "0  ...                (7.5, 10.0]  2017-12-07 00:00:00           12   \n",
              "1  ...                 (5.0, 7.5]  2014-12-19 10:21:00           12   \n",
              "2  ...                 (5.0, 7.5]  2014-03-07 14:26:00            3   \n",
              "3  ...                (7.5, 10.0]  2014-04-02 15:55:00            4   \n",
              "4  ...               (15.0, 17.5]  2013-11-16 09:02:00           11   \n",
              "\n",
              "  intake_year  intake_monthyear  intake_weekday  intake_hour  intake_number  \\\n",
              "0        2017           2017-12        Thursday           14            1.0   \n",
              "1        2014           2014-12          Friday           10            2.0   \n",
              "2        2014           2014-03          Friday           14            3.0   \n",
              "3        2014           2014-04       Wednesday           15            1.0   \n",
              "4        2013           2013-11        Saturday            9            1.0   \n",
              "\n",
              "             time_in_shelter time_in_shelter_days  \n",
              "0  0 days 14:07:00.000000000             0.588194  \n",
              "1  1 days 06:14:00.000000000             1.259722  \n",
              "2  1 days 02:44:00.000000000             1.113889  \n",
              "3  4 days 23:17:00.000000000             4.970139  \n",
              "4  0 days 02:52:00.000000000             0.119444  \n",
              "\n",
              "[5 rows x 41 columns]"
            ],
            "text/html": [
              "\n",
              "  <div id=\"df-53770a1b-6011-4491-aeeb-47e8d9979e21\">\n",
              "    <div class=\"colab-df-container\">\n",
              "      <div>\n",
              "<style scoped>\n",
              "    .dataframe tbody tr th:only-of-type {\n",
              "        vertical-align: middle;\n",
              "    }\n",
              "\n",
              "    .dataframe tbody tr th {\n",
              "        vertical-align: top;\n",
              "    }\n",
              "\n",
              "    .dataframe thead th {\n",
              "        text-align: right;\n",
              "    }\n",
              "</style>\n",
              "<table border=\"1\" class=\"dataframe\">\n",
              "  <thead>\n",
              "    <tr style=\"text-align: right;\">\n",
              "      <th></th>\n",
              "      <th>age_upon_outcome</th>\n",
              "      <th>animal_id_outcome</th>\n",
              "      <th>date_of_birth</th>\n",
              "      <th>outcome_subtype</th>\n",
              "      <th>outcome_type</th>\n",
              "      <th>sex_upon_outcome</th>\n",
              "      <th>age_upon_outcome_(days)</th>\n",
              "      <th>age_upon_outcome_(years)</th>\n",
              "      <th>age_upon_outcome_age_group</th>\n",
              "      <th>outcome_datetime</th>\n",
              "      <th>...</th>\n",
              "      <th>age_upon_intake_age_group</th>\n",
              "      <th>intake_datetime</th>\n",
              "      <th>intake_month</th>\n",
              "      <th>intake_year</th>\n",
              "      <th>intake_monthyear</th>\n",
              "      <th>intake_weekday</th>\n",
              "      <th>intake_hour</th>\n",
              "      <th>intake_number</th>\n",
              "      <th>time_in_shelter</th>\n",
              "      <th>time_in_shelter_days</th>\n",
              "    </tr>\n",
              "  </thead>\n",
              "  <tbody>\n",
              "    <tr>\n",
              "      <th>0</th>\n",
              "      <td>10 years</td>\n",
              "      <td>A006100</td>\n",
              "      <td>2007-07-09 00:00:00</td>\n",
              "      <td>NaN</td>\n",
              "      <td>Return to Owner</td>\n",
              "      <td>Neutered Male</td>\n",
              "      <td>3650</td>\n",
              "      <td>10.0</td>\n",
              "      <td>(7.5, 10.0]</td>\n",
              "      <td>2017-12-07 14:07:00</td>\n",
              "      <td>...</td>\n",
              "      <td>(7.5, 10.0]</td>\n",
              "      <td>2017-12-07 00:00:00</td>\n",
              "      <td>12</td>\n",
              "      <td>2017</td>\n",
              "      <td>2017-12</td>\n",
              "      <td>Thursday</td>\n",
              "      <td>14</td>\n",
              "      <td>1.0</td>\n",
              "      <td>0 days 14:07:00.000000000</td>\n",
              "      <td>0.588194</td>\n",
              "    </tr>\n",
              "    <tr>\n",
              "      <th>1</th>\n",
              "      <td>7 years</td>\n",
              "      <td>A006100</td>\n",
              "      <td>2007-07-09 00:00:00</td>\n",
              "      <td>NaN</td>\n",
              "      <td>Return to Owner</td>\n",
              "      <td>Neutered Male</td>\n",
              "      <td>2555</td>\n",
              "      <td>7.0</td>\n",
              "      <td>(5.0, 7.5]</td>\n",
              "      <td>2014-12-20 16:35:00</td>\n",
              "      <td>...</td>\n",
              "      <td>(5.0, 7.5]</td>\n",
              "      <td>2014-12-19 10:21:00</td>\n",
              "      <td>12</td>\n",
              "      <td>2014</td>\n",
              "      <td>2014-12</td>\n",
              "      <td>Friday</td>\n",
              "      <td>10</td>\n",
              "      <td>2.0</td>\n",
              "      <td>1 days 06:14:00.000000000</td>\n",
              "      <td>1.259722</td>\n",
              "    </tr>\n",
              "    <tr>\n",
              "      <th>2</th>\n",
              "      <td>6 years</td>\n",
              "      <td>A006100</td>\n",
              "      <td>2007-07-09 00:00:00</td>\n",
              "      <td>NaN</td>\n",
              "      <td>Return to Owner</td>\n",
              "      <td>Neutered Male</td>\n",
              "      <td>2190</td>\n",
              "      <td>6.0</td>\n",
              "      <td>(5.0, 7.5]</td>\n",
              "      <td>2014-03-08 17:10:00</td>\n",
              "      <td>...</td>\n",
              "      <td>(5.0, 7.5]</td>\n",
              "      <td>2014-03-07 14:26:00</td>\n",
              "      <td>3</td>\n",
              "      <td>2014</td>\n",
              "      <td>2014-03</td>\n",
              "      <td>Friday</td>\n",
              "      <td>14</td>\n",
              "      <td>3.0</td>\n",
              "      <td>1 days 02:44:00.000000000</td>\n",
              "      <td>1.113889</td>\n",
              "    </tr>\n",
              "    <tr>\n",
              "      <th>3</th>\n",
              "      <td>10 years</td>\n",
              "      <td>A047759</td>\n",
              "      <td>2004-04-02 00:00:00</td>\n",
              "      <td>Partner</td>\n",
              "      <td>Transfer</td>\n",
              "      <td>Neutered Male</td>\n",
              "      <td>3650</td>\n",
              "      <td>10.0</td>\n",
              "      <td>(7.5, 10.0]</td>\n",
              "      <td>2014-04-07 15:12:00</td>\n",
              "      <td>...</td>\n",
              "      <td>(7.5, 10.0]</td>\n",
              "      <td>2014-04-02 15:55:00</td>\n",
              "      <td>4</td>\n",
              "      <td>2014</td>\n",
              "      <td>2014-04</td>\n",
              "      <td>Wednesday</td>\n",
              "      <td>15</td>\n",
              "      <td>1.0</td>\n",
              "      <td>4 days 23:17:00.000000000</td>\n",
              "      <td>4.970139</td>\n",
              "    </tr>\n",
              "    <tr>\n",
              "      <th>4</th>\n",
              "      <td>16 years</td>\n",
              "      <td>A134067</td>\n",
              "      <td>1997-10-16 00:00:00</td>\n",
              "      <td>NaN</td>\n",
              "      <td>Return to Owner</td>\n",
              "      <td>Neutered Male</td>\n",
              "      <td>5840</td>\n",
              "      <td>16.0</td>\n",
              "      <td>(15.0, 17.5]</td>\n",
              "      <td>2013-11-16 11:54:00</td>\n",
              "      <td>...</td>\n",
              "      <td>(15.0, 17.5]</td>\n",
              "      <td>2013-11-16 09:02:00</td>\n",
              "      <td>11</td>\n",
              "      <td>2013</td>\n",
              "      <td>2013-11</td>\n",
              "      <td>Saturday</td>\n",
              "      <td>9</td>\n",
              "      <td>1.0</td>\n",
              "      <td>0 days 02:52:00.000000000</td>\n",
              "      <td>0.119444</td>\n",
              "    </tr>\n",
              "  </tbody>\n",
              "</table>\n",
              "<p>5 rows × 41 columns</p>\n",
              "</div>\n",
              "      <button class=\"colab-df-convert\" onclick=\"convertToInteractive('df-53770a1b-6011-4491-aeeb-47e8d9979e21')\"\n",
              "              title=\"Convert this dataframe to an interactive table.\"\n",
              "              style=\"display:none;\">\n",
              "        \n",
              "  <svg xmlns=\"http://www.w3.org/2000/svg\" height=\"24px\"viewBox=\"0 0 24 24\"\n",
              "       width=\"24px\">\n",
              "    <path d=\"M0 0h24v24H0V0z\" fill=\"none\"/>\n",
              "    <path d=\"M18.56 5.44l.94 2.06.94-2.06 2.06-.94-2.06-.94-.94-2.06-.94 2.06-2.06.94zm-11 1L8.5 8.5l.94-2.06 2.06-.94-2.06-.94L8.5 2.5l-.94 2.06-2.06.94zm10 10l.94 2.06.94-2.06 2.06-.94-2.06-.94-.94-2.06-.94 2.06-2.06.94z\"/><path d=\"M17.41 7.96l-1.37-1.37c-.4-.4-.92-.59-1.43-.59-.52 0-1.04.2-1.43.59L10.3 9.45l-7.72 7.72c-.78.78-.78 2.05 0 2.83L4 21.41c.39.39.9.59 1.41.59.51 0 1.02-.2 1.41-.59l7.78-7.78 2.81-2.81c.8-.78.8-2.07 0-2.86zM5.41 20L4 18.59l7.72-7.72 1.47 1.35L5.41 20z\"/>\n",
              "  </svg>\n",
              "      </button>\n",
              "      \n",
              "  <style>\n",
              "    .colab-df-container {\n",
              "      display:flex;\n",
              "      flex-wrap:wrap;\n",
              "      gap: 12px;\n",
              "    }\n",
              "\n",
              "    .colab-df-convert {\n",
              "      background-color: #E8F0FE;\n",
              "      border: none;\n",
              "      border-radius: 50%;\n",
              "      cursor: pointer;\n",
              "      display: none;\n",
              "      fill: #1967D2;\n",
              "      height: 32px;\n",
              "      padding: 0 0 0 0;\n",
              "      width: 32px;\n",
              "    }\n",
              "\n",
              "    .colab-df-convert:hover {\n",
              "      background-color: #E2EBFA;\n",
              "      box-shadow: 0px 1px 2px rgba(60, 64, 67, 0.3), 0px 1px 3px 1px rgba(60, 64, 67, 0.15);\n",
              "      fill: #174EA6;\n",
              "    }\n",
              "\n",
              "    [theme=dark] .colab-df-convert {\n",
              "      background-color: #3B4455;\n",
              "      fill: #D2E3FC;\n",
              "    }\n",
              "\n",
              "    [theme=dark] .colab-df-convert:hover {\n",
              "      background-color: #434B5C;\n",
              "      box-shadow: 0px 1px 3px 1px rgba(0, 0, 0, 0.15);\n",
              "      filter: drop-shadow(0px 1px 2px rgba(0, 0, 0, 0.3));\n",
              "      fill: #FFFFFF;\n",
              "    }\n",
              "  </style>\n",
              "\n",
              "      <script>\n",
              "        const buttonEl =\n",
              "          document.querySelector('#df-53770a1b-6011-4491-aeeb-47e8d9979e21 button.colab-df-convert');\n",
              "        buttonEl.style.display =\n",
              "          google.colab.kernel.accessAllowed ? 'block' : 'none';\n",
              "\n",
              "        async function convertToInteractive(key) {\n",
              "          const element = document.querySelector('#df-53770a1b-6011-4491-aeeb-47e8d9979e21');\n",
              "          const dataTable =\n",
              "            await google.colab.kernel.invokeFunction('convertToInteractive',\n",
              "                                                     [key], {});\n",
              "          if (!dataTable) return;\n",
              "\n",
              "          const docLinkHtml = 'Like what you see? Visit the ' +\n",
              "            '<a target=\"_blank\" href=https://colab.research.google.com/notebooks/data_table.ipynb>data table notebook</a>'\n",
              "            + ' to learn more about interactive tables.';\n",
              "          element.innerHTML = '';\n",
              "          dataTable['output_type'] = 'display_data';\n",
              "          await google.colab.output.renderOutput(dataTable, element);\n",
              "          const docLink = document.createElement('div');\n",
              "          docLink.innerHTML = docLinkHtml;\n",
              "          element.appendChild(docLink);\n",
              "        }\n",
              "      </script>\n",
              "    </div>\n",
              "  </div>\n",
              "  "
            ]
          },
          "metadata": {},
          "execution_count": 25
        }
      ]
    },
    {
      "cell_type": "code",
      "source": [
        "print('dataset shape: ', dataset2.shape)"
      ],
      "metadata": {
        "colab": {
          "base_uri": "https://localhost:8080/"
        },
        "id": "kfwB2H3u3H3c",
        "outputId": "4b6f920b-746d-4157-e578-2b7bbf74567a"
      },
      "execution_count": null,
      "outputs": [
        {
          "output_type": "stream",
          "name": "stdout",
          "text": [
            "dataset shape:  (79672, 41)\n"
          ]
        }
      ]
    },
    {
      "cell_type": "code",
      "source": [
        "dataset2.isnull().sum()"
      ],
      "metadata": {
        "colab": {
          "base_uri": "https://localhost:8080/"
        },
        "id": "Ey9Gxj0Q48CD",
        "outputId": "bf0d4f1f-9aef-471e-aab1-ce7226da93af"
      },
      "execution_count": null,
      "outputs": [
        {
          "output_type": "execute_result",
          "data": {
            "text/plain": [
              "age_upon_outcome                  0\n",
              "animal_id_outcome                 0\n",
              "date_of_birth                     0\n",
              "outcome_subtype               43324\n",
              "outcome_type                     10\n",
              "sex_upon_outcome                  1\n",
              "age_upon_outcome_(days)           0\n",
              "age_upon_outcome_(years)          0\n",
              "age_upon_outcome_age_group        0\n",
              "outcome_datetime                  0\n",
              "outcome_month                     0\n",
              "outcome_year                      0\n",
              "outcome_monthyear                 0\n",
              "outcome_weekday                   0\n",
              "outcome_hour                      0\n",
              "outcome_number                    0\n",
              "dob_year                          0\n",
              "dob_month                         0\n",
              "dob_monthyear                     0\n",
              "age_upon_intake                   0\n",
              "animal_id_intake                  0\n",
              "animal_type                       0\n",
              "breed                             0\n",
              "color                             0\n",
              "found_location                    0\n",
              "intake_condition                  0\n",
              "intake_type                       0\n",
              "sex_upon_intake                   1\n",
              "count                             0\n",
              "age_upon_intake_(days)            0\n",
              "age_upon_intake_(years)           0\n",
              "age_upon_intake_age_group         0\n",
              "intake_datetime                   0\n",
              "intake_month                      0\n",
              "intake_year                       0\n",
              "intake_monthyear                  0\n",
              "intake_weekday                    0\n",
              "intake_hour                       0\n",
              "intake_number                     0\n",
              "time_in_shelter                   0\n",
              "time_in_shelter_days              0\n",
              "dtype: int64"
            ]
          },
          "metadata": {},
          "execution_count": 27
        }
      ]
    },
    {
      "cell_type": "code",
      "source": [
        "from pandas_profiling import ProfileReport"
      ],
      "metadata": {
        "id": "-si5P8sM5CPj"
      },
      "execution_count": null,
      "outputs": []
    },
    {
      "cell_type": "code",
      "source": [
        "report = ProfileReport(dataset2)"
      ],
      "metadata": {
        "id": "OH8AbnL650hb"
      },
      "execution_count": null,
      "outputs": []
    },
    {
      "cell_type": "code",
      "source": [
        "report.to_file(output_file='report.html')"
      ],
      "metadata": {
        "colab": {
          "base_uri": "https://localhost:8080/",
          "height": 256,
          "referenced_widgets": [
            "979b7b1d43e44bc5ada1fe94dd34a664",
            "3e7bc1d36b0e44a8b774382165919560",
            "118ab904544844e6aa1c87d4a2fd23f9",
            "c4099fb0bb5143ef8c9c875825c56e18",
            "9ab035d2834444a2905fd83391809bb3",
            "2423c5b5f7d744dea43c7ebdf1d75728",
            "689204a99d64498a882e2ff8435fbd79",
            "f1934bff8c6b42eea5f5af5d609f41fa",
            "f3c7f36cad27493fb7a6528f8c0d4933",
            "93f2f13697f64ac2a1bdfb7f28a64b3c",
            "e1dd5955a29a43a5bbee7944577c1654",
            "db5b0af816a44ab0a0b16ccaffae5989",
            "a7e39dd78f2643e1b0012c2828d1d65e",
            "2dca3528e3fb409c88bd366010d8340a",
            "7e1a81c4c29b41da8d7e68a38d55976e",
            "7d62f9a6b0384a678649247ac00a78a7",
            "2293c1381b79425bbb2a1bd249d8bea8",
            "e4a815e5e4004628a2337a39ad640240",
            "5d089a6fd9d44dc4a3c528e9bcaf47d7",
            "965a9973c11a412f8e7915913fcdc679",
            "e41ca173d3a342cd946a5456162c15c2",
            "39facb00bbc444419510becf2aff8ce9",
            "2e8d92c20f4a4d2c847904e26b989819",
            "a08887bbbad34588b676ad291142df43",
            "1e5e3524197942e9b29ec5fdcccb7f72",
            "2c0588b7a1af496fa25c666008f1e181",
            "0b2514be092c4139a258e827cd9d523f",
            "0b200d022c934740b03d600d6100417e",
            "a635254cf7e94288a7b5aab56e858ed2",
            "b3603d879b4e4bf48b5f0f14b1bbfe91",
            "9c46169a94da41f7bac977cafb5ce57c",
            "f1f86e1be4094d0a84e654633bd67d89",
            "f940817deea94d43ab91c65754ac6df4",
            "decf0130b2524a42862f5c78b3ddbd89",
            "68ef51f5ed1e47a596095d442e6bdfd5",
            "59e970d73b4640d7ac0eb0a78b3d91d4",
            "c8764bb0dd3b404f815e4ab9df1c3220",
            "ea7612626bf648f88063bf6219a3d74a",
            "439f5b3285c245c786f1c3bc0ba408df",
            "bf0657f679ca4f798728258099e45ff5",
            "0bfa67b7429c4e998052b1b5be8bec1e",
            "517e5db7befc40a1b90ad1a18314209a",
            "8bc7f3f260514f52a915efdfcb25923d",
            "72378fc890e94652a5ee1ad96b7408b4"
          ]
        },
        "id": "NO8zDFdR56s0",
        "outputId": "31a63182-5058-451b-c97a-3bf65ad3952a"
      },
      "execution_count": null,
      "outputs": [
        {
          "output_type": "display_data",
          "data": {
            "text/plain": [
              "Summarize dataset:   0%|          | 0/5 [00:00<?, ?it/s]"
            ],
            "application/vnd.jupyter.widget-view+json": {
              "version_major": 2,
              "version_minor": 0,
              "model_id": "979b7b1d43e44bc5ada1fe94dd34a664"
            }
          },
          "metadata": {}
        },
        {
          "output_type": "stream",
          "name": "stderr",
          "text": [
            "/usr/local/lib/python3.9/dist-packages/scipy/stats/_stats_py.py:5278: RuntimeWarning: overflow encountered in long_scalars\n",
            "  (2 * xtie * ytie) / m + x0 * y0 / (9 * m * (size - 2)))\n"
          ]
        },
        {
          "output_type": "display_data",
          "data": {
            "text/plain": [
              "Generate report structure:   0%|          | 0/1 [00:00<?, ?it/s]"
            ],
            "application/vnd.jupyter.widget-view+json": {
              "version_major": 2,
              "version_minor": 0,
              "model_id": "db5b0af816a44ab0a0b16ccaffae5989"
            }
          },
          "metadata": {}
        },
        {
          "output_type": "display_data",
          "data": {
            "text/plain": [
              "Render HTML:   0%|          | 0/1 [00:00<?, ?it/s]"
            ],
            "application/vnd.jupyter.widget-view+json": {
              "version_major": 2,
              "version_minor": 0,
              "model_id": "2e8d92c20f4a4d2c847904e26b989819"
            }
          },
          "metadata": {}
        },
        {
          "output_type": "display_data",
          "data": {
            "text/plain": [
              "Export report to file:   0%|          | 0/1 [00:00<?, ?it/s]"
            ],
            "application/vnd.jupyter.widget-view+json": {
              "version_major": 2,
              "version_minor": 0,
              "model_id": "decf0130b2524a42862f5c78b3ddbd89"
            }
          },
          "metadata": {}
        }
      ]
    },
    {
      "cell_type": "code",
      "source": [
        "dataset = pd.read_csv('/aac_intakes_outcomes.csv')"
      ],
      "metadata": {
        "id": "lS3VikI16AVD"
      },
      "execution_count": 4,
      "outputs": []
    },
    {
      "cell_type": "code",
      "source": [
        "dataset.head()"
      ],
      "metadata": {
        "colab": {
          "base_uri": "https://localhost:8080/",
          "height": 336
        },
        "id": "VpgIYFbHIkTl",
        "outputId": "afc4b38d-f945-495c-ad88-d397a6b685e7"
      },
      "execution_count": null,
      "outputs": [
        {
          "output_type": "execute_result",
          "data": {
            "text/plain": [
              "  age_upon_outcome animal_id_outcome        date_of_birth outcome_subtype  \\\n",
              "0         10 years           A006100  2007-07-09 00:00:00             NaN   \n",
              "1          7 years           A006100  2007-07-09 00:00:00             NaN   \n",
              "2          6 years           A006100  2007-07-09 00:00:00             NaN   \n",
              "3         10 years           A047759  2004-04-02 00:00:00         Partner   \n",
              "4         16 years           A134067  1997-10-16 00:00:00             NaN   \n",
              "\n",
              "      outcome_type sex_upon_outcome  age_upon_outcome_(days)  \\\n",
              "0  Return to Owner    Neutered Male                     3650   \n",
              "1  Return to Owner    Neutered Male                     2555   \n",
              "2  Return to Owner    Neutered Male                     2190   \n",
              "3         Transfer    Neutered Male                     3650   \n",
              "4  Return to Owner    Neutered Male                     5840   \n",
              "\n",
              "   age_upon_outcome_(years) age_upon_outcome_age_group     outcome_datetime  \\\n",
              "0                      10.0                (7.5, 10.0]  2017-12-07 14:07:00   \n",
              "1                       7.0                 (5.0, 7.5]  2014-12-20 16:35:00   \n",
              "2                       6.0                 (5.0, 7.5]  2014-03-08 17:10:00   \n",
              "3                      10.0                (7.5, 10.0]  2014-04-07 15:12:00   \n",
              "4                      16.0               (15.0, 17.5]  2013-11-16 11:54:00   \n",
              "\n",
              "   ...  age_upon_intake_age_group      intake_datetime intake_month  \\\n",
              "0  ...                (7.5, 10.0]  2017-12-07 00:00:00           12   \n",
              "1  ...                 (5.0, 7.5]  2014-12-19 10:21:00           12   \n",
              "2  ...                 (5.0, 7.5]  2014-03-07 14:26:00            3   \n",
              "3  ...                (7.5, 10.0]  2014-04-02 15:55:00            4   \n",
              "4  ...               (15.0, 17.5]  2013-11-16 09:02:00           11   \n",
              "\n",
              "  intake_year  intake_monthyear  intake_weekday  intake_hour  intake_number  \\\n",
              "0        2017           2017-12        Thursday           14            1.0   \n",
              "1        2014           2014-12          Friday           10            2.0   \n",
              "2        2014           2014-03          Friday           14            3.0   \n",
              "3        2014           2014-04       Wednesday           15            1.0   \n",
              "4        2013           2013-11        Saturday            9            1.0   \n",
              "\n",
              "             time_in_shelter time_in_shelter_days  \n",
              "0  0 days 14:07:00.000000000             0.588194  \n",
              "1  1 days 06:14:00.000000000             1.259722  \n",
              "2  1 days 02:44:00.000000000             1.113889  \n",
              "3  4 days 23:17:00.000000000             4.970139  \n",
              "4  0 days 02:52:00.000000000             0.119444  \n",
              "\n",
              "[5 rows x 41 columns]"
            ],
            "text/html": [
              "\n",
              "  <div id=\"df-ede5e175-3596-47e2-80c8-41693ba200d1\">\n",
              "    <div class=\"colab-df-container\">\n",
              "      <div>\n",
              "<style scoped>\n",
              "    .dataframe tbody tr th:only-of-type {\n",
              "        vertical-align: middle;\n",
              "    }\n",
              "\n",
              "    .dataframe tbody tr th {\n",
              "        vertical-align: top;\n",
              "    }\n",
              "\n",
              "    .dataframe thead th {\n",
              "        text-align: right;\n",
              "    }\n",
              "</style>\n",
              "<table border=\"1\" class=\"dataframe\">\n",
              "  <thead>\n",
              "    <tr style=\"text-align: right;\">\n",
              "      <th></th>\n",
              "      <th>age_upon_outcome</th>\n",
              "      <th>animal_id_outcome</th>\n",
              "      <th>date_of_birth</th>\n",
              "      <th>outcome_subtype</th>\n",
              "      <th>outcome_type</th>\n",
              "      <th>sex_upon_outcome</th>\n",
              "      <th>age_upon_outcome_(days)</th>\n",
              "      <th>age_upon_outcome_(years)</th>\n",
              "      <th>age_upon_outcome_age_group</th>\n",
              "      <th>outcome_datetime</th>\n",
              "      <th>...</th>\n",
              "      <th>age_upon_intake_age_group</th>\n",
              "      <th>intake_datetime</th>\n",
              "      <th>intake_month</th>\n",
              "      <th>intake_year</th>\n",
              "      <th>intake_monthyear</th>\n",
              "      <th>intake_weekday</th>\n",
              "      <th>intake_hour</th>\n",
              "      <th>intake_number</th>\n",
              "      <th>time_in_shelter</th>\n",
              "      <th>time_in_shelter_days</th>\n",
              "    </tr>\n",
              "  </thead>\n",
              "  <tbody>\n",
              "    <tr>\n",
              "      <th>0</th>\n",
              "      <td>10 years</td>\n",
              "      <td>A006100</td>\n",
              "      <td>2007-07-09 00:00:00</td>\n",
              "      <td>NaN</td>\n",
              "      <td>Return to Owner</td>\n",
              "      <td>Neutered Male</td>\n",
              "      <td>3650</td>\n",
              "      <td>10.0</td>\n",
              "      <td>(7.5, 10.0]</td>\n",
              "      <td>2017-12-07 14:07:00</td>\n",
              "      <td>...</td>\n",
              "      <td>(7.5, 10.0]</td>\n",
              "      <td>2017-12-07 00:00:00</td>\n",
              "      <td>12</td>\n",
              "      <td>2017</td>\n",
              "      <td>2017-12</td>\n",
              "      <td>Thursday</td>\n",
              "      <td>14</td>\n",
              "      <td>1.0</td>\n",
              "      <td>0 days 14:07:00.000000000</td>\n",
              "      <td>0.588194</td>\n",
              "    </tr>\n",
              "    <tr>\n",
              "      <th>1</th>\n",
              "      <td>7 years</td>\n",
              "      <td>A006100</td>\n",
              "      <td>2007-07-09 00:00:00</td>\n",
              "      <td>NaN</td>\n",
              "      <td>Return to Owner</td>\n",
              "      <td>Neutered Male</td>\n",
              "      <td>2555</td>\n",
              "      <td>7.0</td>\n",
              "      <td>(5.0, 7.5]</td>\n",
              "      <td>2014-12-20 16:35:00</td>\n",
              "      <td>...</td>\n",
              "      <td>(5.0, 7.5]</td>\n",
              "      <td>2014-12-19 10:21:00</td>\n",
              "      <td>12</td>\n",
              "      <td>2014</td>\n",
              "      <td>2014-12</td>\n",
              "      <td>Friday</td>\n",
              "      <td>10</td>\n",
              "      <td>2.0</td>\n",
              "      <td>1 days 06:14:00.000000000</td>\n",
              "      <td>1.259722</td>\n",
              "    </tr>\n",
              "    <tr>\n",
              "      <th>2</th>\n",
              "      <td>6 years</td>\n",
              "      <td>A006100</td>\n",
              "      <td>2007-07-09 00:00:00</td>\n",
              "      <td>NaN</td>\n",
              "      <td>Return to Owner</td>\n",
              "      <td>Neutered Male</td>\n",
              "      <td>2190</td>\n",
              "      <td>6.0</td>\n",
              "      <td>(5.0, 7.5]</td>\n",
              "      <td>2014-03-08 17:10:00</td>\n",
              "      <td>...</td>\n",
              "      <td>(5.0, 7.5]</td>\n",
              "      <td>2014-03-07 14:26:00</td>\n",
              "      <td>3</td>\n",
              "      <td>2014</td>\n",
              "      <td>2014-03</td>\n",
              "      <td>Friday</td>\n",
              "      <td>14</td>\n",
              "      <td>3.0</td>\n",
              "      <td>1 days 02:44:00.000000000</td>\n",
              "      <td>1.113889</td>\n",
              "    </tr>\n",
              "    <tr>\n",
              "      <th>3</th>\n",
              "      <td>10 years</td>\n",
              "      <td>A047759</td>\n",
              "      <td>2004-04-02 00:00:00</td>\n",
              "      <td>Partner</td>\n",
              "      <td>Transfer</td>\n",
              "      <td>Neutered Male</td>\n",
              "      <td>3650</td>\n",
              "      <td>10.0</td>\n",
              "      <td>(7.5, 10.0]</td>\n",
              "      <td>2014-04-07 15:12:00</td>\n",
              "      <td>...</td>\n",
              "      <td>(7.5, 10.0]</td>\n",
              "      <td>2014-04-02 15:55:00</td>\n",
              "      <td>4</td>\n",
              "      <td>2014</td>\n",
              "      <td>2014-04</td>\n",
              "      <td>Wednesday</td>\n",
              "      <td>15</td>\n",
              "      <td>1.0</td>\n",
              "      <td>4 days 23:17:00.000000000</td>\n",
              "      <td>4.970139</td>\n",
              "    </tr>\n",
              "    <tr>\n",
              "      <th>4</th>\n",
              "      <td>16 years</td>\n",
              "      <td>A134067</td>\n",
              "      <td>1997-10-16 00:00:00</td>\n",
              "      <td>NaN</td>\n",
              "      <td>Return to Owner</td>\n",
              "      <td>Neutered Male</td>\n",
              "      <td>5840</td>\n",
              "      <td>16.0</td>\n",
              "      <td>(15.0, 17.5]</td>\n",
              "      <td>2013-11-16 11:54:00</td>\n",
              "      <td>...</td>\n",
              "      <td>(15.0, 17.5]</td>\n",
              "      <td>2013-11-16 09:02:00</td>\n",
              "      <td>11</td>\n",
              "      <td>2013</td>\n",
              "      <td>2013-11</td>\n",
              "      <td>Saturday</td>\n",
              "      <td>9</td>\n",
              "      <td>1.0</td>\n",
              "      <td>0 days 02:52:00.000000000</td>\n",
              "      <td>0.119444</td>\n",
              "    </tr>\n",
              "  </tbody>\n",
              "</table>\n",
              "<p>5 rows × 41 columns</p>\n",
              "</div>\n",
              "      <button class=\"colab-df-convert\" onclick=\"convertToInteractive('df-ede5e175-3596-47e2-80c8-41693ba200d1')\"\n",
              "              title=\"Convert this dataframe to an interactive table.\"\n",
              "              style=\"display:none;\">\n",
              "        \n",
              "  <svg xmlns=\"http://www.w3.org/2000/svg\" height=\"24px\"viewBox=\"0 0 24 24\"\n",
              "       width=\"24px\">\n",
              "    <path d=\"M0 0h24v24H0V0z\" fill=\"none\"/>\n",
              "    <path d=\"M18.56 5.44l.94 2.06.94-2.06 2.06-.94-2.06-.94-.94-2.06-.94 2.06-2.06.94zm-11 1L8.5 8.5l.94-2.06 2.06-.94-2.06-.94L8.5 2.5l-.94 2.06-2.06.94zm10 10l.94 2.06.94-2.06 2.06-.94-2.06-.94-.94-2.06-.94 2.06-2.06.94z\"/><path d=\"M17.41 7.96l-1.37-1.37c-.4-.4-.92-.59-1.43-.59-.52 0-1.04.2-1.43.59L10.3 9.45l-7.72 7.72c-.78.78-.78 2.05 0 2.83L4 21.41c.39.39.9.59 1.41.59.51 0 1.02-.2 1.41-.59l7.78-7.78 2.81-2.81c.8-.78.8-2.07 0-2.86zM5.41 20L4 18.59l7.72-7.72 1.47 1.35L5.41 20z\"/>\n",
              "  </svg>\n",
              "      </button>\n",
              "      \n",
              "  <style>\n",
              "    .colab-df-container {\n",
              "      display:flex;\n",
              "      flex-wrap:wrap;\n",
              "      gap: 12px;\n",
              "    }\n",
              "\n",
              "    .colab-df-convert {\n",
              "      background-color: #E8F0FE;\n",
              "      border: none;\n",
              "      border-radius: 50%;\n",
              "      cursor: pointer;\n",
              "      display: none;\n",
              "      fill: #1967D2;\n",
              "      height: 32px;\n",
              "      padding: 0 0 0 0;\n",
              "      width: 32px;\n",
              "    }\n",
              "\n",
              "    .colab-df-convert:hover {\n",
              "      background-color: #E2EBFA;\n",
              "      box-shadow: 0px 1px 2px rgba(60, 64, 67, 0.3), 0px 1px 3px 1px rgba(60, 64, 67, 0.15);\n",
              "      fill: #174EA6;\n",
              "    }\n",
              "\n",
              "    [theme=dark] .colab-df-convert {\n",
              "      background-color: #3B4455;\n",
              "      fill: #D2E3FC;\n",
              "    }\n",
              "\n",
              "    [theme=dark] .colab-df-convert:hover {\n",
              "      background-color: #434B5C;\n",
              "      box-shadow: 0px 1px 3px 1px rgba(0, 0, 0, 0.15);\n",
              "      filter: drop-shadow(0px 1px 2px rgba(0, 0, 0, 0.3));\n",
              "      fill: #FFFFFF;\n",
              "    }\n",
              "  </style>\n",
              "\n",
              "      <script>\n",
              "        const buttonEl =\n",
              "          document.querySelector('#df-ede5e175-3596-47e2-80c8-41693ba200d1 button.colab-df-convert');\n",
              "        buttonEl.style.display =\n",
              "          google.colab.kernel.accessAllowed ? 'block' : 'none';\n",
              "\n",
              "        async function convertToInteractive(key) {\n",
              "          const element = document.querySelector('#df-ede5e175-3596-47e2-80c8-41693ba200d1');\n",
              "          const dataTable =\n",
              "            await google.colab.kernel.invokeFunction('convertToInteractive',\n",
              "                                                     [key], {});\n",
              "          if (!dataTable) return;\n",
              "\n",
              "          const docLinkHtml = 'Like what you see? Visit the ' +\n",
              "            '<a target=\"_blank\" href=https://colab.research.google.com/notebooks/data_table.ipynb>data table notebook</a>'\n",
              "            + ' to learn more about interactive tables.';\n",
              "          element.innerHTML = '';\n",
              "          dataTable['output_type'] = 'display_data';\n",
              "          await google.colab.output.renderOutput(dataTable, element);\n",
              "          const docLink = document.createElement('div');\n",
              "          docLink.innerHTML = docLinkHtml;\n",
              "          element.appendChild(docLink);\n",
              "        }\n",
              "      </script>\n",
              "    </div>\n",
              "  </div>\n",
              "  "
            ]
          },
          "metadata": {},
          "execution_count": 4
        },
        {
          "output_type": "stream",
          "name": "stdout",
          "text": [
            "Warning: Total number of columns (41) exceeds max_columns (20) limiting to first (20) columns.\n"
          ]
        }
      ]
    },
    {
      "cell_type": "code",
      "source": [
        "outcome_types = dataset['outcome_type'].dropna().unique().tolist()"
      ],
      "metadata": {
        "id": "9A-t7GtSIqNE"
      },
      "execution_count": null,
      "outputs": []
    },
    {
      "cell_type": "code",
      "source": [
        "print(outcome_types)"
      ],
      "metadata": {
        "colab": {
          "base_uri": "https://localhost:8080/"
        },
        "id": "RDIXYO_aI6nD",
        "outputId": "fd7b8c2a-69c8-4eac-ead3-fcd62ffa3860"
      },
      "execution_count": null,
      "outputs": [
        {
          "output_type": "stream",
          "name": "stdout",
          "text": [
            "['Return to Owner', 'Transfer', 'Adoption', 'Euthanasia', 'Died', 'Rto-Adopt', 'Missing', 'Disposal', 'Relocate']\n"
          ]
        }
      ]
    },
    {
      "cell_type": "code",
      "source": [
        "import matplotlib.pyplot as plt"
      ],
      "metadata": {
        "id": "bzhYvxe9LshF"
      },
      "execution_count": null,
      "outputs": []
    },
    {
      "cell_type": "code",
      "source": [
        "dataset.plot(kind='scatter', x = 'outcome_month', y = 'age_upon_outcome_(years)' )"
      ],
      "metadata": {
        "colab": {
          "base_uri": "https://localhost:8080/",
          "height": 298
        },
        "id": "V9_hZiWQO6nD",
        "outputId": "a3dc8cd1-1809-49d8-a1cc-97032f93dda8"
      },
      "execution_count": null,
      "outputs": [
        {
          "output_type": "execute_result",
          "data": {
            "text/plain": [
              "<AxesSubplot:xlabel='outcome_month', ylabel='age_upon_outcome_(years)'>"
            ]
          },
          "metadata": {},
          "execution_count": 25
        },
        {
          "output_type": "display_data",
          "data": {
            "text/plain": [
              "<Figure size 432x288 with 1 Axes>"
            ],
            "image/png": "[encoded data removed]"
          },
          "metadata": {
            "needs_background": "light"
          }
        }
      ]
    },
    {
      "cell_type": "code",
      "source": [
        "dataset.dtypes"
      ],
      "metadata": {
        "colab": {
          "base_uri": "https://localhost:8080/"
        },
        "id": "_NLurNvKP6Gk",
        "outputId": "74ec0aac-ef0d-4fcd-8cff-3b0eb5cc4a6e"
      },
      "execution_count": null,
      "outputs": [
        {
          "output_type": "execute_result",
          "data": {
            "text/plain": [
              "age_upon_outcome               object\n",
              "animal_id_outcome              object\n",
              "date_of_birth                  object\n",
              "outcome_subtype                object\n",
              "outcome_type                   object\n",
              "sex_upon_outcome               object\n",
              "age_upon_outcome_(days)         int64\n",
              "age_upon_outcome_(years)      float64\n",
              "age_upon_outcome_age_group     object\n",
              "outcome_datetime               object\n",
              "outcome_month                   int64\n",
              "outcome_year                    int64\n",
              "outcome_monthyear              object\n",
              "outcome_weekday                object\n",
              "outcome_hour                    int64\n",
              "outcome_number                float64\n",
              "dob_year                        int64\n",
              "dob_month                       int64\n",
              "dob_monthyear                  object\n",
              "age_upon_intake                object\n",
              "animal_id_intake               object\n",
              "animal_type                    object\n",
              "breed                          object\n",
              "color                          object\n",
              "found_location                 object\n",
              "intake_condition               object\n",
              "intake_type                    object\n",
              "sex_upon_intake                object\n",
              "count                           int64\n",
              "age_upon_intake_(days)          int64\n",
              "age_upon_intake_(years)       float64\n",
              "age_upon_intake_age_group      object\n",
              "intake_datetime                object\n",
              "intake_month                    int64\n",
              "intake_year                     int64\n",
              "intake_monthyear               object\n",
              "intake_weekday                 object\n",
              "intake_hour                     int64\n",
              "intake_number                 float64\n",
              "time_in_shelter                object\n",
              "time_in_shelter_days          float64\n",
              "dtype: object"
            ]
          },
          "metadata": {},
          "execution_count": 28
        }
      ]
    },
    {
      "cell_type": "code",
      "source": [
        "dataset['outcome_type'] = dataset['outcome_type'].astype(\"category\")"
      ],
      "metadata": {
        "id": "kv4NhCkLQsKT"
      },
      "execution_count": 5,
      "outputs": []
    },
    {
      "cell_type": "code",
      "source": [
        "dataset['animal_type'] = dataset['animal_type'].astype(\"category\")"
      ],
      "metadata": {
        "id": "s947F-vzRDdj"
      },
      "execution_count": 6,
      "outputs": []
    },
    {
      "cell_type": "code",
      "source": [
        "dataset['breed'] = dataset['breed'].astype(\"category\")"
      ],
      "metadata": {
        "id": "TCu9BxDVRV9r"
      },
      "execution_count": 7,
      "outputs": []
    },
    {
      "cell_type": "code",
      "source": [
        "dataset['sex_upon_outcome'] = dataset['sex_upon_outcome'].astype(\"category\")"
      ],
      "metadata": {
        "id": "BiBAjdnFRoEb"
      },
      "execution_count": 8,
      "outputs": []
    },
    {
      "cell_type": "code",
      "source": [
        "dataset['sex_upon_intake'] = dataset['sex_upon_intake'].astype(\"category\")"
      ],
      "metadata": {
        "id": "_ZZFO14_R477"
      },
      "execution_count": 9,
      "outputs": []
    },
    {
      "cell_type": "code",
      "source": [
        "dataset['intake_datetime'] = dataset['intake_datetime'].astype(\"datetime64[ns]\")"
      ],
      "metadata": {
        "id": "1hDl0AriR_Cb"
      },
      "execution_count": 10,
      "outputs": []
    },
    {
      "cell_type": "code",
      "source": [
        "dataset['outcome_datetime'] = dataset['outcome_datetime'].astype(\"datetime64[ns]\")"
      ],
      "metadata": {
        "id": "f63eKPzJTBcd"
      },
      "execution_count": 11,
      "outputs": []
    },
    {
      "cell_type": "code",
      "source": [
        "dataset['color'] = dataset['color'].astype(\"category\")"
      ],
      "metadata": {
        "id": "mHEuslHBTOni"
      },
      "execution_count": 12,
      "outputs": []
    },
    {
      "cell_type": "code",
      "source": [
        "dataset['intake_type'] = dataset['intake_type'].astype(\"category\")"
      ],
      "metadata": {
        "id": "3310nTbwTZPC"
      },
      "execution_count": 13,
      "outputs": []
    },
    {
      "cell_type": "code",
      "source": [
        "dataset['outcome_weekday'] = dataset['outcome_weekday'].astype(\"category\")"
      ],
      "metadata": {
        "id": "kmoj99lFU6Ty"
      },
      "execution_count": 14,
      "outputs": []
    },
    {
      "cell_type": "code",
      "source": [
        "dataset['intake_weekday'] = dataset['intake_weekday'].astype(\"category\")"
      ],
      "metadata": {
        "id": "uki9lqi8VXpT"
      },
      "execution_count": 15,
      "outputs": []
    },
    {
      "cell_type": "code",
      "source": [
        "dataset.dtypes"
      ],
      "metadata": {
        "colab": {
          "base_uri": "https://localhost:8080/"
        },
        "id": "N8UzL8hiTJg6",
        "outputId": "b545eb0a-ff7b-4ca9-dee2-0aa4b5e05d09"
      },
      "execution_count": null,
      "outputs": [
        {
          "output_type": "execute_result",
          "data": {
            "text/plain": [
              "age_upon_outcome                      object\n",
              "animal_id_outcome                     object\n",
              "date_of_birth                         object\n",
              "outcome_type                        category\n",
              "sex_upon_outcome                    category\n",
              "age_upon_outcome_(days)                int64\n",
              "age_upon_outcome_(years)             float64\n",
              "age_upon_outcome_age_group            object\n",
              "outcome_datetime              datetime64[ns]\n",
              "outcome_month                          int64\n",
              "outcome_year                           int64\n",
              "outcome_weekday                     category\n",
              "outcome_hour                           int64\n",
              "outcome_number                       float64\n",
              "dob_year                               int64\n",
              "dob_month                              int64\n",
              "age_upon_intake                       object\n",
              "animal_id_intake                      object\n",
              "animal_type                         category\n",
              "breed                               category\n",
              "color                               category\n",
              "found_location                        object\n",
              "intake_condition                      object\n",
              "intake_type                         category\n",
              "sex_upon_intake                     category\n",
              "age_upon_intake_(days)                 int64\n",
              "age_upon_intake_(years)              float64\n",
              "age_upon_intake_age_group             object\n",
              "intake_datetime               datetime64[ns]\n",
              "intake_month                           int64\n",
              "intake_year                            int64\n",
              "intake_weekday                      category\n",
              "intake_hour                            int64\n",
              "intake_number                        float64\n",
              "time_in_shelter_days                 float64\n",
              "dtype: object"
            ]
          },
          "metadata": {},
          "execution_count": 63
        }
      ]
    },
    {
      "cell_type": "code",
      "source": [
        "dataset.drop('outcome_subtype', axis=1, inplace=True)"
      ],
      "metadata": {
        "id": "eVCIqsRXPOEk"
      },
      "execution_count": 16,
      "outputs": []
    },
    {
      "cell_type": "code",
      "source": [
        "dataset.drop('intake_monthyear', axis=1, inplace=True)"
      ],
      "metadata": {
        "id": "ebS_DXyuSch7"
      },
      "execution_count": 17,
      "outputs": []
    },
    {
      "cell_type": "code",
      "source": [
        "dataset.drop('count', axis=1, inplace=True)"
      ],
      "metadata": {
        "id": "R4Wae0PeTmhT"
      },
      "execution_count": 18,
      "outputs": []
    },
    {
      "cell_type": "code",
      "source": [
        "dataset.drop('dob_monthyear', axis=1, inplace=True)"
      ],
      "metadata": {
        "id": "spCLeankT3gz"
      },
      "execution_count": 19,
      "outputs": []
    },
    {
      "cell_type": "code",
      "source": [
        "dataset.drop('outcome_monthyear', axis=1, inplace=True)"
      ],
      "metadata": {
        "id": "4ccwvxUWUMe7"
      },
      "execution_count": 20,
      "outputs": []
    },
    {
      "cell_type": "code",
      "source": [
        "dataset.drop('time_in_shelter', axis=1, inplace=True)"
      ],
      "metadata": {
        "id": "60Rvyxp6VvJD"
      },
      "execution_count": 21,
      "outputs": []
    },
    {
      "cell_type": "code",
      "source": [
        "dataset['outcome_type'] = dataset['outcome_type'].replace('Adoption','Adopted')"
      ],
      "metadata": {
        "id": "H2RhRDq4V1jb"
      },
      "execution_count": 22,
      "outputs": []
    },
    {
      "cell_type": "code",
      "source": [
        "dataset['outcome_type'] = dataset['outcome_type'].replace('Return to Owner','Not Adopted')"
      ],
      "metadata": {
        "id": "DAoGnRYPYEjb"
      },
      "execution_count": 23,
      "outputs": []
    },
    {
      "cell_type": "code",
      "source": [
        "dataset['outcome_type'] = dataset['outcome_type'].replace('Transfer','Not Adopted')"
      ],
      "metadata": {
        "id": "ORA94epvYOwb"
      },
      "execution_count": 24,
      "outputs": []
    },
    {
      "cell_type": "code",
      "source": [
        "dataset['outcome_type'] = dataset['outcome_type'].replace('Euthanasia','Not Adopted')"
      ],
      "metadata": {
        "id": "0YjEJWY0YT8z"
      },
      "execution_count": 25,
      "outputs": []
    },
    {
      "cell_type": "code",
      "source": [
        "dataset['outcome_type'] = dataset['outcome_type'].replace('Died','Not Adopted')"
      ],
      "metadata": {
        "id": "6lzdlPZiYYnE"
      },
      "execution_count": 26,
      "outputs": []
    },
    {
      "cell_type": "code",
      "source": [
        "dataset['outcome_type'] = dataset['outcome_type'].replace('Rto-Adopt','Adopted')"
      ],
      "metadata": {
        "id": "a1BMlgAIYexb"
      },
      "execution_count": 27,
      "outputs": []
    },
    {
      "cell_type": "code",
      "source": [
        "dataset['outcome_type'] = dataset['outcome_type'].replace('Missing','Not Adopted')"
      ],
      "metadata": {
        "id": "O33Gwv8VYm-S"
      },
      "execution_count": 28,
      "outputs": []
    },
    {
      "cell_type": "code",
      "source": [
        "dataset['outcome_type'] = dataset['outcome_type'].replace('Disposal','Not Adopted')"
      ],
      "metadata": {
        "id": "aF0ABCrqYrKD"
      },
      "execution_count": 29,
      "outputs": []
    },
    {
      "cell_type": "code",
      "source": [
        "dataset['outcome_type'] = dataset['outcome_type'].replace('Relocate','Not Adopted')"
      ],
      "metadata": {
        "id": "AepfnmUoYwXk"
      },
      "execution_count": 30,
      "outputs": []
    },
    {
      "cell_type": "code",
      "source": [
        "dataset.head()"
      ],
      "metadata": {
        "colab": {
          "base_uri": "https://localhost:8080/",
          "height": 386
        },
        "id": "9P7qtHvRY0aE",
        "outputId": "940b537f-ab1c-4572-92df-1688b8185f4a"
      },
      "execution_count": null,
      "outputs": [
        {
          "output_type": "execute_result",
          "data": {
            "text/plain": [
              "  age_upon_outcome animal_id_outcome        date_of_birth outcome_type  \\\n",
              "0         10 years           A006100  2007-07-09 00:00:00  Not Adopted   \n",
              "1          7 years           A006100  2007-07-09 00:00:00  Not Adopted   \n",
              "2          6 years           A006100  2007-07-09 00:00:00  Not Adopted   \n",
              "3         10 years           A047759  2004-04-02 00:00:00  Not Adopted   \n",
              "4         16 years           A134067  1997-10-16 00:00:00  Not Adopted   \n",
              "\n",
              "  sex_upon_outcome  age_upon_outcome_(days)  age_upon_outcome_(years)  \\\n",
              "0    Neutered Male                     3650                      10.0   \n",
              "1    Neutered Male                     2555                       7.0   \n",
              "2    Neutered Male                     2190                       6.0   \n",
              "3    Neutered Male                     3650                      10.0   \n",
              "4    Neutered Male                     5840                      16.0   \n",
              "\n",
              "  age_upon_outcome_age_group    outcome_datetime  outcome_month  ...  \\\n",
              "0                (7.5, 10.0] 2017-12-07 14:07:00             12  ...   \n",
              "1                 (5.0, 7.5] 2014-12-20 16:35:00             12  ...   \n",
              "2                 (5.0, 7.5] 2014-03-08 17:10:00              3  ...   \n",
              "3                (7.5, 10.0] 2014-04-07 15:12:00              4  ...   \n",
              "4               (15.0, 17.5] 2013-11-16 11:54:00             11  ...   \n",
              "\n",
              "   age_upon_intake_(days) age_upon_intake_(years)  age_upon_intake_age_group  \\\n",
              "0                    3650                    10.0                (7.5, 10.0]   \n",
              "1                    2555                     7.0                 (5.0, 7.5]   \n",
              "2                    2190                     6.0                 (5.0, 7.5]   \n",
              "3                    3650                    10.0                (7.5, 10.0]   \n",
              "4                    5840                    16.0               (15.0, 17.5]   \n",
              "\n",
              "      intake_datetime  intake_month  intake_year intake_weekday intake_hour  \\\n",
              "0 2017-12-07 00:00:00            12         2017       Thursday          14   \n",
              "1 2014-12-19 10:21:00            12         2014         Friday          10   \n",
              "2 2014-03-07 14:26:00             3         2014         Friday          14   \n",
              "3 2014-04-02 15:55:00             4         2014      Wednesday          15   \n",
              "4 2013-11-16 09:02:00            11         2013       Saturday           9   \n",
              "\n",
              "  intake_number time_in_shelter_days  \n",
              "0           1.0             0.588194  \n",
              "1           2.0             1.259722  \n",
              "2           3.0             1.113889  \n",
              "3           1.0             4.970139  \n",
              "4           1.0             0.119444  \n",
              "\n",
              "[5 rows x 35 columns]"
            ],
            "text/html": [
              "\n",
              "  <div id=\"df-2b062a59-184a-441e-bda9-1a5f93fc3aa5\">\n",
              "    <div class=\"colab-df-container\">\n",
              "      <div>\n",
              "<style scoped>\n",
              "    .dataframe tbody tr th:only-of-type {\n",
              "        vertical-align: middle;\n",
              "    }\n",
              "\n",
              "    .dataframe tbody tr th {\n",
              "        vertical-align: top;\n",
              "    }\n",
              "\n",
              "    .dataframe thead th {\n",
              "        text-align: right;\n",
              "    }\n",
              "</style>\n",
              "<table border=\"1\" class=\"dataframe\">\n",
              "  <thead>\n",
              "    <tr style=\"text-align: right;\">\n",
              "      <th></th>\n",
              "      <th>age_upon_outcome</th>\n",
              "      <th>animal_id_outcome</th>\n",
              "      <th>date_of_birth</th>\n",
              "      <th>outcome_type</th>\n",
              "      <th>sex_upon_outcome</th>\n",
              "      <th>age_upon_outcome_(days)</th>\n",
              "      <th>age_upon_outcome_(years)</th>\n",
              "      <th>age_upon_outcome_age_group</th>\n",
              "      <th>outcome_datetime</th>\n",
              "      <th>outcome_month</th>\n",
              "      <th>...</th>\n",
              "      <th>age_upon_intake_(days)</th>\n",
              "      <th>age_upon_intake_(years)</th>\n",
              "      <th>age_upon_intake_age_group</th>\n",
              "      <th>intake_datetime</th>\n",
              "      <th>intake_month</th>\n",
              "      <th>intake_year</th>\n",
              "      <th>intake_weekday</th>\n",
              "      <th>intake_hour</th>\n",
              "      <th>intake_number</th>\n",
              "      <th>time_in_shelter_days</th>\n",
              "    </tr>\n",
              "  </thead>\n",
              "  <tbody>\n",
              "    <tr>\n",
              "      <th>0</th>\n",
              "      <td>10 years</td>\n",
              "      <td>A006100</td>\n",
              "      <td>2007-07-09 00:00:00</td>\n",
              "      <td>Not Adopted</td>\n",
              "      <td>Neutered Male</td>\n",
              "      <td>3650</td>\n",
              "      <td>10.0</td>\n",
              "      <td>(7.5, 10.0]</td>\n",
              "      <td>2017-12-07 14:07:00</td>\n",
              "      <td>12</td>\n",
              "      <td>...</td>\n",
              "      <td>3650</td>\n",
              "      <td>10.0</td>\n",
              "      <td>(7.5, 10.0]</td>\n",
              "      <td>2017-12-07 00:00:00</td>\n",
              "      <td>12</td>\n",
              "      <td>2017</td>\n",
              "      <td>Thursday</td>\n",
              "      <td>14</td>\n",
              "      <td>1.0</td>\n",
              "      <td>0.588194</td>\n",
              "    </tr>\n",
              "    <tr>\n",
              "      <th>1</th>\n",
              "      <td>7 years</td>\n",
              "      <td>A006100</td>\n",
              "      <td>2007-07-09 00:00:00</td>\n",
              "      <td>Not Adopted</td>\n",
              "      <td>Neutered Male</td>\n",
              "      <td>2555</td>\n",
              "      <td>7.0</td>\n",
              "      <td>(5.0, 7.5]</td>\n",
              "      <td>2014-12-20 16:35:00</td>\n",
              "      <td>12</td>\n",
              "      <td>...</td>\n",
              "      <td>2555</td>\n",
              "      <td>7.0</td>\n",
              "      <td>(5.0, 7.5]</td>\n",
              "      <td>2014-12-19 10:21:00</td>\n",
              "      <td>12</td>\n",
              "      <td>2014</td>\n",
              "      <td>Friday</td>\n",
              "      <td>10</td>\n",
              "      <td>2.0</td>\n",
              "      <td>1.259722</td>\n",
              "    </tr>\n",
              "    <tr>\n",
              "      <th>2</th>\n",
              "      <td>6 years</td>\n",
              "      <td>A006100</td>\n",
              "      <td>2007-07-09 00:00:00</td>\n",
              "      <td>Not Adopted</td>\n",
              "      <td>Neutered Male</td>\n",
              "      <td>2190</td>\n",
              "      <td>6.0</td>\n",
              "      <td>(5.0, 7.5]</td>\n",
              "      <td>2014-03-08 17:10:00</td>\n",
              "      <td>3</td>\n",
              "      <td>...</td>\n",
              "      <td>2190</td>\n",
              "      <td>6.0</td>\n",
              "      <td>(5.0, 7.5]</td>\n",
              "      <td>2014-03-07 14:26:00</td>\n",
              "      <td>3</td>\n",
              "      <td>2014</td>\n",
              "      <td>Friday</td>\n",
              "      <td>14</td>\n",
              "      <td>3.0</td>\n",
              "      <td>1.113889</td>\n",
              "    </tr>\n",
              "    <tr>\n",
              "      <th>3</th>\n",
              "      <td>10 years</td>\n",
              "      <td>A047759</td>\n",
              "      <td>2004-04-02 00:00:00</td>\n",
              "      <td>Not Adopted</td>\n",
              "      <td>Neutered Male</td>\n",
              "      <td>3650</td>\n",
              "      <td>10.0</td>\n",
              "      <td>(7.5, 10.0]</td>\n",
              "      <td>2014-04-07 15:12:00</td>\n",
              "      <td>4</td>\n",
              "      <td>...</td>\n",
              "      <td>3650</td>\n",
              "      <td>10.0</td>\n",
              "      <td>(7.5, 10.0]</td>\n",
              "      <td>2014-04-02 15:55:00</td>\n",
              "      <td>4</td>\n",
              "      <td>2014</td>\n",
              "      <td>Wednesday</td>\n",
              "      <td>15</td>\n",
              "      <td>1.0</td>\n",
              "      <td>4.970139</td>\n",
              "    </tr>\n",
              "    <tr>\n",
              "      <th>4</th>\n",
              "      <td>16 years</td>\n",
              "      <td>A134067</td>\n",
              "      <td>1997-10-16 00:00:00</td>\n",
              "      <td>Not Adopted</td>\n",
              "      <td>Neutered Male</td>\n",
              "      <td>5840</td>\n",
              "      <td>16.0</td>\n",
              "      <td>(15.0, 17.5]</td>\n",
              "      <td>2013-11-16 11:54:00</td>\n",
              "      <td>11</td>\n",
              "      <td>...</td>\n",
              "      <td>5840</td>\n",
              "      <td>16.0</td>\n",
              "      <td>(15.0, 17.5]</td>\n",
              "      <td>2013-11-16 09:02:00</td>\n",
              "      <td>11</td>\n",
              "      <td>2013</td>\n",
              "      <td>Saturday</td>\n",
              "      <td>9</td>\n",
              "      <td>1.0</td>\n",
              "      <td>0.119444</td>\n",
              "    </tr>\n",
              "  </tbody>\n",
              "</table>\n",
              "<p>5 rows × 35 columns</p>\n",
              "</div>\n",
              "      <button class=\"colab-df-convert\" onclick=\"convertToInteractive('df-2b062a59-184a-441e-bda9-1a5f93fc3aa5')\"\n",
              "              title=\"Convert this dataframe to an interactive table.\"\n",
              "              style=\"display:none;\">\n",
              "        \n",
              "  <svg xmlns=\"http://www.w3.org/2000/svg\" height=\"24px\"viewBox=\"0 0 24 24\"\n",
              "       width=\"24px\">\n",
              "    <path d=\"M0 0h24v24H0V0z\" fill=\"none\"/>\n",
              "    <path d=\"M18.56 5.44l.94 2.06.94-2.06 2.06-.94-2.06-.94-.94-2.06-.94 2.06-2.06.94zm-11 1L8.5 8.5l.94-2.06 2.06-.94-2.06-.94L8.5 2.5l-.94 2.06-2.06.94zm10 10l.94 2.06.94-2.06 2.06-.94-2.06-.94-.94-2.06-.94 2.06-2.06.94z\"/><path d=\"M17.41 7.96l-1.37-1.37c-.4-.4-.92-.59-1.43-.59-.52 0-1.04.2-1.43.59L10.3 9.45l-7.72 7.72c-.78.78-.78 2.05 0 2.83L4 21.41c.39.39.9.59 1.41.59.51 0 1.02-.2 1.41-.59l7.78-7.78 2.81-2.81c.8-.78.8-2.07 0-2.86zM5.41 20L4 18.59l7.72-7.72 1.47 1.35L5.41 20z\"/>\n",
              "  </svg>\n",
              "      </button>\n",
              "      \n",
              "  <style>\n",
              "    .colab-df-container {\n",
              "      display:flex;\n",
              "      flex-wrap:wrap;\n",
              "      gap: 12px;\n",
              "    }\n",
              "\n",
              "    .colab-df-convert {\n",
              "      background-color: #E8F0FE;\n",
              "      border: none;\n",
              "      border-radius: 50%;\n",
              "      cursor: pointer;\n",
              "      display: none;\n",
              "      fill: #1967D2;\n",
              "      height: 32px;\n",
              "      padding: 0 0 0 0;\n",
              "      width: 32px;\n",
              "    }\n",
              "\n",
              "    .colab-df-convert:hover {\n",
              "      background-color: #E2EBFA;\n",
              "      box-shadow: 0px 1px 2px rgba(60, 64, 67, 0.3), 0px 1px 3px 1px rgba(60, 64, 67, 0.15);\n",
              "      fill: #174EA6;\n",
              "    }\n",
              "\n",
              "    [theme=dark] .colab-df-convert {\n",
              "      background-color: #3B4455;\n",
              "      fill: #D2E3FC;\n",
              "    }\n",
              "\n",
              "    [theme=dark] .colab-df-convert:hover {\n",
              "      background-color: #434B5C;\n",
              "      box-shadow: 0px 1px 3px 1px rgba(0, 0, 0, 0.15);\n",
              "      filter: drop-shadow(0px 1px 2px rgba(0, 0, 0, 0.3));\n",
              "      fill: #FFFFFF;\n",
              "    }\n",
              "  </style>\n",
              "\n",
              "      <script>\n",
              "        const buttonEl =\n",
              "          document.querySelector('#df-2b062a59-184a-441e-bda9-1a5f93fc3aa5 button.colab-df-convert');\n",
              "        buttonEl.style.display =\n",
              "          google.colab.kernel.accessAllowed ? 'block' : 'none';\n",
              "\n",
              "        async function convertToInteractive(key) {\n",
              "          const element = document.querySelector('#df-2b062a59-184a-441e-bda9-1a5f93fc3aa5');\n",
              "          const dataTable =\n",
              "            await google.colab.kernel.invokeFunction('convertToInteractive',\n",
              "                                                     [key], {});\n",
              "          if (!dataTable) return;\n",
              "\n",
              "          const docLinkHtml = 'Like what you see? Visit the ' +\n",
              "            '<a target=\"_blank\" href=https://colab.research.google.com/notebooks/data_table.ipynb>data table notebook</a>'\n",
              "            + ' to learn more about interactive tables.';\n",
              "          element.innerHTML = '';\n",
              "          dataTable['output_type'] = 'display_data';\n",
              "          await google.colab.output.renderOutput(dataTable, element);\n",
              "          const docLink = document.createElement('div');\n",
              "          docLink.innerHTML = docLinkHtml;\n",
              "          element.appendChild(docLink);\n",
              "        }\n",
              "      </script>\n",
              "    </div>\n",
              "  </div>\n",
              "  "
            ]
          },
          "metadata": {},
          "execution_count": 73
        }
      ]
    },
    {
      "cell_type": "code",
      "source": [
        "report = ProfileReport(dataset, minimal=True)"
      ],
      "metadata": {
        "id": "W48QFfimY6mj"
      },
      "execution_count": null,
      "outputs": []
    },
    {
      "cell_type": "code",
      "source": [
        "report.to_file(output_file='report.html')"
      ],
      "metadata": {
        "colab": {
          "base_uri": "https://localhost:8080/",
          "height": 145,
          "referenced_widgets": [
            "5238ead9f770474b94a4f9ac7b75d73b",
            "1a6b9c2ab07c4d60b5acced7b49ea7f4",
            "0ba2d6cc99b8486aa1a1a16860fe7a79",
            "b85f8c5402904bc69e51cfdcd9c10e33",
            "7161d9bae7ce4acea12b9dc4b81fe7b9",
            "1795fe5e8eb24986a0262d8ad6576317",
            "115437baa5a34252b90a37cea3980a90",
            "f64891eb17e74d7dada79137ab17faa3",
            "14cac469f2ae46209c7a08656a6a4af8",
            "2979bb303bf04026a155e6cc278783eb",
            "f64c870142594a54937a447c6486c9bc",
            "111b1f69a5184eeba5e19c9f05fa4627",
            "a1ec9d0b8cac460da729a78f758f1e0f",
            "708f9083f05d4c12a462f6ca62864fcb",
            "76a7f462b4a941ee8cb94b8ad2b0930b",
            "e8ee0c9bc3044083b0a10ec28dfa34ab",
            "8d8162f3fa164d8984dc3f9f376a4fc2",
            "ccd18b7ded6b4e53b04726294275c15b",
            "f329f42ba07b46c89b367aca2fb237af",
            "0bb404ecb884499ca992175883c6a967",
            "37e6a5ae511b4587bee191ba91e4db70",
            "5a2c9369021b40fead643ee32b5830a1",
            "a996fae43cb545078b62c075df0d6f6b",
            "a76680a8a679491c8de2b7e5cca5ac08",
            "1cd588f7886445b59293fda9f23e9a7f",
            "4ae2e49bb0f84bff8dcf5577cd41c8cc",
            "5e63fb09d4984492ba03863c36af467e",
            "8a1ae4308d2446e3806b64eaa9c5eb30",
            "9189af373432465386abe216622dfcba",
            "875994423df84944a7fca0b61a8f863c",
            "667d06146f504e6eb27a6910bfb5e2bf",
            "5711ea12b7064f738b96721a1afcb462",
            "eea0c884952140b4b4cfca2a4af66137",
            "e4e9794e83ca4029acdd8e2eae7d7908",
            "4da5532786f643cb9fbce52a6520ae5b",
            "38861e6978264c6fa0500a922a718ba1",
            "b79213d172584e0da05ee73e5511f2ca",
            "7c767ab6cf8f4784aa8ca640d9b54056",
            "51a445ec475941bca7724d327461c3e7",
            "34fbe098670943e4afdf3e7d4daa5dda",
            "f3d77f48b1a34a2e982127aeef5f6ede",
            "3596c163753d49f3859c3c3a3cc45001",
            "f009f69185ed4463a150818b30b7b8e9",
            "dfedd2d1f575433b88a59fb23a6f4037"
          ]
        },
        "id": "EqiP3QCIZJdb",
        "outputId": "6408a557-ee32-46fd-e609-b60616c0d178"
      },
      "execution_count": null,
      "outputs": [
        {
          "output_type": "display_data",
          "data": {
            "text/plain": [
              "Summarize dataset:   0%|          | 0/5 [00:00<?, ?it/s]"
            ],
            "application/vnd.jupyter.widget-view+json": {
              "version_major": 2,
              "version_minor": 0,
              "model_id": "5238ead9f770474b94a4f9ac7b75d73b"
            }
          },
          "metadata": {}
        },
        {
          "output_type": "display_data",
          "data": {
            "text/plain": [
              "Generate report structure:   0%|          | 0/1 [00:00<?, ?it/s]"
            ],
            "application/vnd.jupyter.widget-view+json": {
              "version_major": 2,
              "version_minor": 0,
              "model_id": "111b1f69a5184eeba5e19c9f05fa4627"
            }
          },
          "metadata": {}
        },
        {
          "output_type": "display_data",
          "data": {
            "text/plain": [
              "Render HTML:   0%|          | 0/1 [00:00<?, ?it/s]"
            ],
            "application/vnd.jupyter.widget-view+json": {
              "version_major": 2,
              "version_minor": 0,
              "model_id": "a996fae43cb545078b62c075df0d6f6b"
            }
          },
          "metadata": {}
        },
        {
          "output_type": "display_data",
          "data": {
            "text/plain": [
              "Export report to file:   0%|          | 0/1 [00:00<?, ?it/s]"
            ],
            "application/vnd.jupyter.widget-view+json": {
              "version_major": 2,
              "version_minor": 0,
              "model_id": "e4e9794e83ca4029acdd8e2eae7d7908"
            }
          },
          "metadata": {}
        }
      ]
    },
    {
      "cell_type": "code",
      "source": [
        "Adopted_Categories= dataset['outcome_type'].value_counts('Adopted')"
      ],
      "metadata": {
        "id": "rH1n556bZOM6"
      },
      "execution_count": null,
      "outputs": []
    },
    {
      "cell_type": "code",
      "source": [
        "print(Adopted_Categories)"
      ],
      "metadata": {
        "colab": {
          "base_uri": "https://localhost:8080/"
        },
        "id": "2XQGCZOlcSfv",
        "outputId": "dc5d15a2-93f9-4613-d729-89df24878ebd"
      },
      "execution_count": null,
      "outputs": [
        {
          "output_type": "stream",
          "name": "stdout",
          "text": [
            "Not Adopted    0.576046\n",
            "Adopted        0.423954\n",
            "Name: outcome_type, dtype: float64\n"
          ]
        }
      ]
    },
    {
      "cell_type": "code",
      "source": [
        "dataset['outcome_type'].value_counts().plot.bar()"
      ],
      "metadata": {
        "colab": {
          "base_uri": "https://localhost:8080/",
          "height": 336
        },
        "id": "TilX50Xtd9zz",
        "outputId": "81964bc4-9843-4a8f-ffba-69352a79c23d"
      },
      "execution_count": null,
      "outputs": [
        {
          "output_type": "execute_result",
          "data": {
            "text/plain": [
              "<AxesSubplot:>"
            ]
          },
          "metadata": {},
          "execution_count": 92
        },
        {
          "output_type": "display_data",
          "data": {
            "text/plain": [
              "<Figure size 432x288 with 1 Axes>"
            ],
            "image/png": "[encoded data removed]"
          },
          "metadata": {
            "needs_background": "light"
          }
        }
      ]
    },
    {
      "cell_type": "code",
      "source": [
        "dataset['animal_type'].value_counts().plot.bar()"
      ],
      "metadata": {
        "colab": {
          "base_uri": "https://localhost:8080/",
          "height": 302
        },
        "id": "VlOAnDRec2dy",
        "outputId": "ecbc29dc-b77f-43b9-a199-47c1f4949004"
      },
      "execution_count": null,
      "outputs": [
        {
          "output_type": "execute_result",
          "data": {
            "text/plain": [
              "<AxesSubplot:>"
            ]
          },
          "metadata": {},
          "execution_count": 91
        },
        {
          "output_type": "display_data",
          "data": {
            "text/plain": [
              "<Figure size 432x288 with 1 Axes>"
            ],
            "image/png": "[encoded data removed]"
          },
          "metadata": {
            "needs_background": "light"
          }
        }
      ]
    },
    {
      "cell_type": "code",
      "source": [
        "dataset['sex_upon_outcome'].value_counts().plot.bar()"
      ],
      "metadata": {
        "colab": {
          "base_uri": "https://localhost:8080/",
          "height": 350
        },
        "id": "wJt9Qi6QeDBa",
        "outputId": "a17a5c25-8443-4cae-dbee-ee32f8d4c450"
      },
      "execution_count": null,
      "outputs": [
        {
          "output_type": "execute_result",
          "data": {
            "text/plain": [
              "<AxesSubplot:>"
            ]
          },
          "metadata": {},
          "execution_count": 93
        },
        {
          "output_type": "display_data",
          "data": {
            "text/plain": [
              "<Figure size 432x288 with 1 Axes>"
            ],
            "image/png": "[encoded data removed]"
          },
          "metadata": {
            "needs_background": "light"
          }
        }
      ]
    },
    {
      "cell_type": "code",
      "source": [
        "import seaborn as sns"
      ],
      "metadata": {
        "id": "p8F-PghXfxSS"
      },
      "execution_count": null,
      "outputs": []
    },
    {
      "cell_type": "code",
      "source": [
        "sns.countplot(data=dataset, x ='outcome_type', hue='animal_type')"
      ],
      "metadata": {
        "colab": {
          "base_uri": "https://localhost:8080/",
          "height": 298
        },
        "id": "6kRhne63jbaD",
        "outputId": "c33f4a07-50f9-4854-9178-183434508682"
      },
      "execution_count": null,
      "outputs": [
        {
          "output_type": "execute_result",
          "data": {
            "text/plain": [
              "<AxesSubplot:xlabel='outcome_type', ylabel='count'>"
            ]
          },
          "metadata": {},
          "execution_count": 121
        },
        {
          "output_type": "display_data",
          "data": {
            "text/plain": [
              "<Figure size 432x288 with 1 Axes>"
            ],
            "image/png": "[encoded data removed]"
          },
          "metadata": {
            "needs_background": "light"
          }
        }
      ]
    },
    {
      "cell_type": "code",
      "source": [
        "sns.countplot(data=dataset, x ='outcome_type', hue='sex_upon_outcome')"
      ],
      "metadata": {
        "colab": {
          "base_uri": "https://localhost:8080/",
          "height": 298
        },
        "id": "lRrKp3vtjhaC",
        "outputId": "68e4a3fa-e082-4e0c-9ab7-2b466131569d"
      },
      "execution_count": null,
      "outputs": [
        {
          "output_type": "execute_result",
          "data": {
            "text/plain": [
              "<AxesSubplot:xlabel='outcome_type', ylabel='count'>"
            ]
          },
          "metadata": {},
          "execution_count": 122
        },
        {
          "output_type": "display_data",
          "data": {
            "text/plain": [
              "<Figure size 432x288 with 1 Axes>"
            ],
            "image/png": "[encoded data removed]"
          },
          "metadata": {
            "needs_background": "light"
          }
        }
      ]
    },
    {
      "cell_type": "code",
      "source": [
        "sns.boxplot(data=dataset, x = 'outcome_type', y ='outcome_month', hue='animal_type')"
      ],
      "metadata": {
        "colab": {
          "base_uri": "https://localhost:8080/",
          "height": 298
        },
        "id": "bsAHIppDjuLy",
        "outputId": "2d9abbed-9b52-4c0b-924d-db6cd0a0da2d"
      },
      "execution_count": null,
      "outputs": [
        {
          "output_type": "execute_result",
          "data": {
            "text/plain": [
              "<AxesSubplot:xlabel='outcome_type', ylabel='outcome_month'>"
            ]
          },
          "metadata": {},
          "execution_count": 123
        },
        {
          "output_type": "display_data",
          "data": {
            "text/plain": [
              "<Figure size 432x288 with 1 Axes>"
            ],
            "image/png": "[encoded data removed]"
          },
          "metadata": {
            "needs_background": "light"
          }
        }
      ]
    },
    {
      "cell_type": "code",
      "source": [
        "dataset.to_csv('cleaned.csv')"
      ],
      "metadata": {
        "id": "Y9RT-qQBkXBS"
      },
      "execution_count": 31,
      "outputs": []
    },
    {
      "cell_type": "code",
      "source": [],
      "metadata": {
        "id": "D1tTgW_kJnqx"
      },
      "execution_count": null,
      "outputs": []
    }
  ]
}